{
 "cells": [
  {
   "cell_type": "markdown",
   "id": "9ijlhsVrgVDj",
   "metadata": {
    "id": "9ijlhsVrgVDj"
   },
   "source": [
    "# <h2 align=\"center\">**Python 2024 Online Summer Internship**</h2>  \n",
    "# <h1 align=\"center\">**Make Your Place in Top 20% Pythom Programmers of the World**</h1>"
   ]
  },
  {
   "cell_type": "markdown",
   "id": "ZDxVUqZVgYpu",
   "metadata": {
    "id": "ZDxVUqZVgYpu"
   },
   "source": [
    "\n",
    "\n",
    "**Name: Muhammad Danyal Aslam**   \n",
    "**Email ID: 11951mda@gmail.com**"
   ]
  },
  {
   "cell_type": "markdown",
   "id": "fb8633df",
   "metadata": {},
   "source": [
    "#<h2  align=\"center\">**Lecture 1**</h2>\n",
    "**02 July 2024**\n",
    "\n",
    "**Tuesday**"
   ]
  },
  {
   "cell_type": "markdown",
   "id": "d112a81c",
   "metadata": {},
   "source": [
    "#<h2  align=\"center\">**Change Yourself**</h2>"
   ]
  },
  {
   "cell_type": "markdown",
   "id": "5y_auODYrBAr",
   "metadata": {
    "id": "5y_auODYrBAr"
   },
   "source": [
    "<h2  align=\"center\">TODO Task</h2>\n",
    "\n",
    "**TODO Task 1**\n",
    "\n",
    ">Write down at least 3 Jokes, share with your colleagues, friends and family \n",
    "members, and Smile from Heart \n",
    "\n",
    "**TODO Task 2**\n",
    "\n",
    "> Write down at least 3 events of your life when someone’s appreciation\n",
    "  worked as a turning point for you?\n",
    "\n",
    "- At Farewell of School when my Teacher said I did'nt knew that you would take such good marks.\n",
    "\n",
    "- When my Father said during selection of my field that the duty is part of the path.\n",
    "\n",
    "- During Prepration of MDCAT when my teacher said that you should leave test of Academy if you want to do your own preparation.\n",
    "\n",
    "<h2  align=\"center\">Your Turn Task</h2>\n",
    "\n",
    "• Write down Tasks that you plan to carry out on daily basis to develop a culture of \n",
    "\n",
    "> Stay Happy and Keep Happy\n",
    "\n",
    "- Early to Bed and Early to Rise\n",
    "\n",
    "> Appreciation\n",
    "\n",
    "- Saying JazakAllah\n"
   ]
  },
  {
   "cell_type": "markdown",
   "id": "faeacff3",
   "metadata": {},
   "source": [
    "<h2  align=\"center\">TODO Task</h2>\n",
    "\n",
    "**TODO Task 1:**\n",
    "\n",
    "• Write down your level of expertise (beginner, intermediate, expert, \n",
    "excellence) in the following traits \n",
    "\n",
    " > Learning any Task by DOING IT YOURSELF\n",
    "\n",
    " - expert.\n",
    "\n",
    " > Respect of Parents and Teachers\n",
    "\n",
    " - expert.\n",
    "\n",
    " > Truth\n",
    "\n",
    " - beginner.\n",
    "\n",
    " > Honesty\n",
    "\n",
    " - intermediate.\n",
    "\n",
    "\n",
    "**TODO Task 2:**\n",
    "\n",
    "> What change have you made in your goal of life after this Section? \n",
    "\n",
    "- To leave Bad Habits.\n",
    "\n",
    "- To sleep at time.\n",
    "\n",
    "- Try my best to be truth and honest with myself.\n",
    "\n",
    "- Try my best to Avoid Distractions."
   ]
  },
  {
   "cell_type": "markdown",
   "id": "520326cf",
   "metadata": {},
   "source": [
    "<h2  align=\"center\">Your Turn Tasks</h2>\n",
    "\n",
    "**Your Turn Task 1:**\n",
    "\n",
    "• Write down Tasks that you plan to Perform on a Daily Basis to Improve your \n",
    "\n",
    " >Respect of Parents and Teachers\n",
    "\n",
    " - Try my best to be truth and honest with myself and with them.\n",
    " \n",
    " >Human Engineering Skills\n",
    "\n",
    " - Early to bed and Early to rise.\n",
    "\n",
    " - Shutdown mobile at 10:00.\n",
    " \n",
    " >Technical Skills\n",
    "\n",
    " - Give 2 hours daily to Programming."
   ]
  },
  {
   "cell_type": "markdown",
   "id": "b0a2042b",
   "metadata": {},
   "source": [
    "#<h2  align=\"center\">**Lecture 2**</h2>\n",
    "**04 July 2024**\n",
    "\n",
    "**Thursday**"
   ]
  },
  {
   "cell_type": "markdown",
   "id": "657712ac",
   "metadata": {},
   "source": [
    "#<h2  align=\"center\">**LLM's**</h2>"
   ]
  },
  {
   "cell_type": "markdown",
   "id": "5f3e2777",
   "metadata": {},
   "source": [
    "<h2  align=\"center\">Your Turn Tasks</h2>"
   ]
  },
  {
   "cell_type": "markdown",
   "id": "252dc434",
   "metadata": {},
   "source": [
    "##### Information Need 1\n",
    "\n",
    "> Learn a step-by-step process to write a Python Program\n",
    "\n",
    "- See the problem.\n",
    "\n",
    "- write pseudo code.\n",
    "\n",
    "- write code.\n",
    "\n",
    "- Test it."
   ]
  },
  {
   "cell_type": "markdown",
   "id": "8bd4b1a9",
   "metadata": {},
   "source": [
    "##### Information Need 2\n",
    "\n",
    "> Learn a step-by-step process to comment a Python Program\n",
    "\n",
    "- Select the line to be commented.\n",
    "\n",
    "- for single line use #\n",
    "\n",
    "- for multiple lines use \"\"\" \"\"\" or ''' '''"
   ]
  },
  {
   "cell_type": "markdown",
   "id": "36cc3443",
   "metadata": {},
   "source": [
    "#<h2  align=\"center\">**Python Programming Langauge**</h2>\n",
    "**1. Definition**  \n",
    ">Python is a general-purpose high-level interpreted programming language. This means:\n",
    "- **General-purpose:** It can be used for a wide variety of tasks from web development to data science to automation.\n",
    "- **High-level:** It reads closer to natural language than machine code making it easier to learn and write.\n",
    "- **Interpreted:** The code is executed line by line at runtime without the need for pre-compilation.\n",
    "\n",
    "**2. Purpose**  \n",
    ">The primary purpose of Python is to provide a powerful and versatile tool for programmers to:\n",
    "- Develop software applications efficiently.\n",
    "- Automate repetitive tasks.\n",
    "- Analyze and manipulate data.\n",
    "- Create interactive programs with graphical user interfaces (GUIs).\n",
    "- Prototype and test ideas quickly.\n",
    "\n",
    "**3. Importance**  \n",
    ">Python's popularity stems from several factors:\n",
    "- Ease of use: Its clear syntax and focus on readability make it beginner-friendly.\n",
    "- Versatility: It can be used for a vast range of projects reducing the need to learn multiple languages.\n",
    "- Large community: A vast and active community provides extensive libraries, frameworks, and support.\n",
    "- Open-source: Being free and open-source makes it accessible to everyone.\n",
    "\n",
    "**4. Applications**\n",
    "\n",
    ">Python's applications are extensive. Here are some prominent examples:\n",
    "- **Web Development:** Frameworks like Django and Flask power many popular websites and web applications.\n",
    "- **Data Science and Machine Learning:** Libraries like NumPy, Pandas, Scikit-learn, and TensorFlow are crucial tools for data analysis, visualization, and building machine learning models.\n",
    "- **Scientific Computing:** Packages like SciPy and Matplotlib facilitate scientific simulations, data analysis, and visualization.\n",
    "- **Automation:** Python excels at automating repetitive tasks such as file manipulation, data processing, and web scraping.\n",
    "- **System Administration:** Scripting tasks like network configuration or server management can be streamlined with Python.\n",
    "- **Education:** Its beginner-friendly nature makes Python a popular choice for teaching programming concepts.\n",
    "- **Game Development:** Frameworks like Pygame allow creation of 2D and even 3D games.\n",
    "\n",
    "**5. Strengths**\n",
    ">- **Readability:** Python code is clear and concise, resembling natural language for better understanding.\n",
    "- **Large Standard Library:** It comes with a rich collection of built-in modules that provide functionality for various tasks.\n",
    "- **Extensive Third-Party Libraries:** A vast ecosystem of libraries and frameworks caters to specific domains like scientific computing, data science, web development, and more.\n",
    "- **Cross-Platform Compatibility:** Python code can run on different operating systems (Windows, macOS, Linux) without modification.\n",
    "- **Object-Oriented Programming (OOP) Support:** It allows for code organization and reusability with concepts like classes and objects.\n",
    "\n",
    "**6. Weaknesses**\n",
    ">- **Speed:** Python can be slower than compiled languages like C++ for computationally intensive tasks. However, optimization techniques and libraries like Cython can mitigate this.\n",
    "- **Runtime Errors:** Errors often occur at runtime rather than compile time, which can be frustrating for beginners. However, good coding practices and testing help to manage this.\n",
    "- **Memory Management:** Python handles memory management automatically, which can sometimes lead to memory leaks if not used carefully.\n",
    "\n",
    "**7. Suitable to Use**\n",
    ">Python is a great choice for a variety of scenarios:\n",
    "- When rapid development and quick prototyping are essential.\n",
    "- For tasks involving data analysis, machine learning, and scientific computing.\n",
    "- When building web applications, especially with Django or Flask.\n",
    "- For scripting and automating repetitive tasks.\n",
    "- When learning to program for the first time or teaching programming concepts.\n"
   ]
  },
  {
   "cell_type": "markdown",
   "id": "IpfwmAgOrFRd",
   "metadata": {
    "id": "IpfwmAgOrFRd"
   },
   "source": [
    "#<h2  align=\"center\">**Data and Information**</h2>\n",
    "*   **Data:** Raw facts and figures\n",
    "*   **Information:** Processed form of Data\n"
   ]
  },
  {
   "cell_type": "markdown",
   "id": "unpWvpfPrHsX",
   "metadata": {
    "id": "unpWvpfPrHsX"
   },
   "source": [
    "\n",
    "\n",
    "#<h2  align=\"center\">**Types of Data**</h2>\n",
    "\n",
    "*   **Integer:** 7\n",
    "*   **Float:** 3.86\n",
    "*   **String:** Purpose of our lives is: Friendship of Allah"
   ]
  },
  {
   "cell_type": "markdown",
   "id": "qzsgvxZ-rKIo",
   "metadata": {
    "id": "qzsgvxZ-rKIo"
   },
   "source": [
    "\n",
    "\n",
    "\n",
    "\n",
    "#<h2  align=\"center\">**Python Program**</h2>\n",
    "*\tA Python Program is a collection of statements\n",
    "*\tA Python Program must have at least one statement\n",
    "*\tSequential Structure\n",
    "\t    - A Python Program is executed statement by statement"
   ]
  },
  {
   "cell_type": "markdown",
   "id": "b3feb606",
   "metadata": {
    "id": "b3feb606"
   },
   "source": [
    "\n",
    "\n",
    "\n",
    "\n",
    "\n",
    "#<h2  align=\"center\">**Displaying Messages / Data on Output Screen**</h2>\n",
    "**Use**\n",
    "- print() Function\n",
    "\n",
    "**Purpose**\n",
    "-  Display Messages / Data on Output Screen\n",
    "\n"
   ]
  },
  {
   "cell_type": "markdown",
   "id": "0becd70a",
   "metadata": {
    "id": "0becd70a"
   },
   "source": [
    "### **Example 1:**\n",
    "**Task:** Print the following message on the Output Screen\n",
    "\n",
    ">Allah is One.\n",
    "\n",
    "\n",
    "**Input:** Allah is One.\n",
    "\n",
    "**Processing:** print() Fucntion\n",
    "\n",
    "**Output:** Allah is One.\n",
    "\n",
    "**Code:**"
   ]
  },
  {
   "cell_type": "code",
   "execution_count": 16,
   "id": "0606930a",
   "metadata": {
    "colab": {
     "base_uri": "https://localhost:8080/"
    },
    "id": "0606930a",
    "outputId": "26859eb1-6bc5-4496-a4cb-8b676aece9df"
   },
   "outputs": [
    {
     "name": "stdout",
     "output_type": "stream",
     "text": [
      "Allah is One.\n"
     ]
    }
   ],
   "source": [
    "print(\"Allah is One.\")"
   ]
  },
  {
   "cell_type": "markdown",
   "id": "378d0eda",
   "metadata": {
    "id": "378d0eda"
   },
   "source": [
    "### **Example 2:**\n",
    "**Task:** Print the following message on the Output Screen\n",
    "\n",
    ">Hazrat Muhammad (PBUH) is the last Messenger of Allah and role model for us in all walks of life.\n",
    "\n",
    "**Input:** Hazrat Muhammad (PBUH) is the last Messenger of Allah and role model for us in all walks of life.\n",
    "\n",
    "**Processing:** print() Fucntion\n",
    "\n",
    "**Output:** Hazrat Muhammad (PBUH) is the last Messenger of Allah and role model for us in all walks of life.\n",
    "\n",
    "**Code:**"
   ]
  },
  {
   "cell_type": "code",
   "execution_count": 17,
   "id": "2f87b7a5",
   "metadata": {
    "colab": {
     "base_uri": "https://localhost:8080/"
    },
    "id": "2f87b7a5",
    "outputId": "79907a96-1ed9-48fe-e9c7-0347e8d4d060"
   },
   "outputs": [
    {
     "name": "stdout",
     "output_type": "stream",
     "text": [
      "Hazrat Muhammad (PBUH) is the last Messenger of Allah and role model for us in all walks of life.\n"
     ]
    }
   ],
   "source": [
    "print(\"Hazrat Muhammad (PBUH) is the last Messenger of Allah and role model for us in all walks of life.\")"
   ]
  },
  {
   "cell_type": "markdown",
   "id": "f31c7137",
   "metadata": {
    "id": "f31c7137"
   },
   "source": [
    "### **Example 3:**\n",
    "**Task:**  Print the following integer and float data values on the Output Screen\n",
    ">786\n",
    "\n",
    ">3.86\n",
    "\n",
    "**Input:**\n",
    "\n",
    "786\n",
    "\n",
    "3.86\n",
    "\n",
    "\n",
    "**Processing:** print() Fucntion\n",
    "\n",
    "**Output:**\n",
    "\n",
    "786\n",
    "\n",
    "3.86\n",
    "\n",
    "\n",
    "**Code:**"
   ]
  },
  {
   "cell_type": "code",
   "execution_count": 18,
   "id": "7dc9de71",
   "metadata": {
    "colab": {
     "base_uri": "https://localhost:8080/"
    },
    "id": "7dc9de71",
    "outputId": "b2b54deb-f144-433d-d5cc-0d9e4793d5b5"
   },
   "outputs": [
    {
     "name": "stdout",
     "output_type": "stream",
     "text": [
      "786\n",
      "3.86\n"
     ]
    }
   ],
   "source": [
    "print(786)\n",
    "print(3.86)"
   ]
  },
  {
   "cell_type": "markdown",
   "id": "c5036e73",
   "metadata": {
    "id": "c5036e73"
   },
   "source": [
    "### **TODO Task 1:**\n",
    "**Task:** Print the following message on the Output Screen\n",
    ">Purpose of our lives is: Friendship of Allah.\n",
    "\n",
    "**Input:**\n",
    "\n",
    "Purpose of our lives is: Friendship of Allah.\n",
    "\n",
    "**Processing:** print() function\n",
    "\n",
    "**Output:** Purpose of our lives is: Friendship of Allah.\n",
    "\n",
    "**Code:**"
   ]
  },
  {
   "cell_type": "code",
   "execution_count": 19,
   "id": "cf86a246",
   "metadata": {
    "id": "cf86a246"
   },
   "outputs": [
    {
     "name": "stdout",
     "output_type": "stream",
     "text": [
      "Purpose of our lives is: Friendship of Allah.\n"
     ]
    }
   ],
   "source": [
    "# Developer Name: Muhammad Danyal Aslam\n",
    "\n",
    "\"\"\"\n",
    "Developer Email ID: 11951mda@gmail.com\n",
    "Python IDE: Jupyter Notebook\n",
    "IDE Version: 7.1\n",
    "Program Name: Printing\n",
    "\"\"\"\n",
    "print(\"Purpose of our lives is: Friendship of Allah.\")"
   ]
  },
  {
   "cell_type": "markdown",
   "id": "a12b3aa6",
   "metadata": {
    "id": "a12b3aa6"
   },
   "source": [
    "### **TODO Task 2:**\n",
    "\n",
    "**Task:** Print the following message on the Output Screen\n",
    ">Your name\n",
    "\n",
    ">Your age\n",
    "\n",
    ">Your  marks (percentage) in FSc / A Levels\n",
    "\n",
    "\n",
    "**Input:** \n",
    "\n",
    "My Name \n",
    "\n",
    "My age\n",
    "\n",
    "My Marks\n",
    "\n",
    "**Processing:** print() Function\n",
    "\n",
    "**Output:**\n",
    "\n",
    "Muhammad Danyal Aslam\n",
    "\n",
    "17 Years\n",
    "\n",
    "81 Percent\n",
    "\n",
    "**Code:**"
   ]
  },
  {
   "cell_type": "code",
   "execution_count": 20,
   "id": "d8fd3994",
   "metadata": {
    "id": "d8fd3994"
   },
   "outputs": [
    {
     "name": "stdout",
     "output_type": "stream",
     "text": [
      "My Name is Muhammad Danyal Aslam\n",
      "My Age is 17 Years\n",
      "I scored 81% in Fsc\n"
     ]
    }
   ],
   "source": [
    "# Developer Name: Muhammad Danyal Aslam\n",
    "\n",
    "\"\"\"\n",
    "Developer Email ID: 11951mda@gmail.com\n",
    "Python IDE: Jupyter Notebook\n",
    "IDE Version: 7.1\n",
    "Program Name: Printing\n",
    "\"\"\"\n",
    "print(\"My Name is Muhammad Danyal Aslam\")\n",
    "print(\"My Age is 17 Years\")\n",
    "print(\"I scored 81% in Fsc\")"
   ]
  },
  {
   "cell_type": "markdown",
   "id": "5229aa4d",
   "metadata": {
    "id": "5229aa4d"
   },
   "source": [
    "### **TODO Task 3:**\n",
    "**Task:** Print the following information about your city\n",
    ">Name\n",
    "\n",
    ">Population\n",
    "\n",
    ">Famous for\n",
    "\n",
    ">Geographic area in kilometers\n",
    "\n",
    "**Input:** Informaton about my City\n",
    "\n",
    "**Processing:** print() function\n",
    "\n",
    "**Output:**\n",
    "\n",
    "My City Name is Gujranwala\n",
    "\n",
    "It's Population is 2.4 Million\n",
    "\n",
    "It's Famous for It's Industries, Food, and Wrestling\n",
    "\n",
    "It's Area is 3,198 km²\n",
    "\n",
    "**Code:**"
   ]
  },
  {
   "cell_type": "code",
   "execution_count": 21,
   "id": "b419f9a1",
   "metadata": {
    "id": "b419f9a1"
   },
   "outputs": [
    {
     "name": "stdout",
     "output_type": "stream",
     "text": [
      "My City Name is Gujranwala\n",
      "It's Population is 2.4 Million\n",
      "It's Famous for It's Industries, Food, and Wrestling\n",
      "It's Area is 3,198 km²\n"
     ]
    }
   ],
   "source": [
    "# Developer Name: Muhammad Danyal Aslam\n",
    "\n",
    "\"\"\"\n",
    "Developer Email ID: 11951mda@gmail.com\n",
    "Python IDE: Jupyter Notebook\n",
    "IDE Version: 7.1\n",
    "Program Name: Printing\n",
    "\"\"\"\n",
    "print(\"My City Name is Gujranwala\")\n",
    "print(\"It's Population is 2.4 Million\")\n",
    "print(\"It's Famous for It's Industries, Food, and Wrestling\")\n",
    "print(\"It's Area is 3,198 km²\")"
   ]
  },
  {
   "cell_type": "markdown",
   "id": "cXAgX3oCdVxk",
   "metadata": {
    "id": "cXAgX3oCdVxk"
   },
   "source": [
    "### **Your Turn Task**\n",
    "> **Task:** print your information in multiple lines by using one print statement.\n",
    "\n",
    "**Input:** Information about me.\n",
    "\n",
    "**Processing:** print() function\n",
    "\n",
    "**Output:** \n",
    "\n",
    "My Name is Muhammad Danyal Aslam \n",
    "\n",
    "My Age is 17 Years \n",
    "\n",
    "I scored 81% in Fsc \n",
    "\n",
    "My City Name is Gujranwala \n",
    "\n",
    "It's Population is 2.4 Million \n",
    "\n",
    "It's Famous for It's Industries, Food, and Wrestling \n",
    "\n",
    "It's Area is 3,198 km²\n",
    "\n",
    "**Code:**"
   ]
  },
  {
   "cell_type": "code",
   "execution_count": 22,
   "id": "sB_-tM8-iftd",
   "metadata": {
    "id": "sB_-tM8-iftd"
   },
   "outputs": [
    {
     "name": "stdout",
     "output_type": "stream",
     "text": [
      "My Name is Muhammad Danyal Aslam \n",
      "My Age is 17 Years \n",
      "I scored 81% in Fsc \n",
      "My City Name is Gujranwala \n",
      "It's Population is 2.4 Million \n",
      "It's Famous for It's Industries, Food, and Wrestling \n",
      "It's Area is 3,198 km²\n"
     ]
    }
   ],
   "source": [
    "# Developer Name: Muhammad Danyal Aslam\n",
    "\n",
    "\"\"\"\n",
    "Developer Email ID: 11951mda@gmail.com\n",
    "Python IDE: Jupyter Notebook\n",
    "IDE Version: 7.1\n",
    "Program Name: Printing\n",
    "\"\"\"\n",
    "print(\"My Name is Muhammad Danyal Aslam \\nMy Age is 17 Years \\nI scored 81% in Fsc \\nMy City Name is Gujranwala \\nIt's Population is 2.4 Million \\nIt's Famous for It's Industries, Food, and Wrestling \\nIt's Area is 3,198 km²\")"
   ]
  },
  {
   "cell_type": "markdown",
   "id": "0b560f9a",
   "metadata": {},
   "source": [
    "#<h2  align=\"center\">**Lecture 3**</h2>\n",
    "**06 July 2024**\n",
    "\n",
    "**Saturday**"
   ]
  },
  {
   "cell_type": "markdown",
   "id": "3df711c7",
   "metadata": {},
   "source": [
    "\n",
    "\n",
    "\n",
    "\n",
    "\n",
    "#<h2  align=\"center\">**Variable and Datatype Declaration and Use**</h2>\n",
    "**Use**\n",
    "\n",
    "Three Main Variables\n",
    "\n",
    "- int = 10 , etc \n",
    "\n",
    "- float = 1.2 , etc\n",
    "\n",
    "- string = \"Hello\" , etc\n",
    "\n",
    "**Purpose**\n",
    "-  To declare Space in Ram for execution of Program\n",
    "\n",
    "\n"
   ]
  },
  {
   "cell_type": "markdown",
   "id": "97752725",
   "metadata": {},
   "source": [
    "### **Type() Fucntion** \n",
    ">type() Fucntion checks the TYPE OF INFORMATION carried by a variable\n",
    "\n",
    "**Code:**\n"
   ]
  },
  {
   "cell_type": "code",
   "execution_count": 23,
   "id": "47d6fb2b",
   "metadata": {},
   "outputs": [
    {
     "name": "stdout",
     "output_type": "stream",
     "text": [
      "<class 'int'>\n",
      "<class 'float'>\n",
      "<class 'complex'>\n"
     ]
    }
   ],
   "source": [
    "age = 25 # int\n",
    "cgpa = 3.86 # float\n",
    "complex_num = 1j # complex\n",
    "\n",
    "print(type(age))\n",
    "print(type(cgpa))\n",
    "print(type(complex_num))"
   ]
  },
  {
   "cell_type": "markdown",
   "id": "7158004e",
   "metadata": {},
   "source": [
    "### **Type Conversion** "
   ]
  },
  {
   "cell_type": "markdown",
   "id": "70c376b1",
   "metadata": {},
   "source": [
    ">You can convert from one type to another with the \n",
    "\n",
    ">int(), float(), and complex() methods"
   ]
  },
  {
   "cell_type": "markdown",
   "id": "9182d74e",
   "metadata": {},
   "source": [
    "### **Example 1:**\n",
    "\n",
    "x = 1 # int\n",
    "\n",
    "y = 2.8 # float\n",
    "\n",
    "z = 1j # complex\n",
    "\n",
    ">convert from int to float:\n",
    "\n",
    "a = float(x)\n",
    "\n",
    ">convert from float to int:\n",
    "\n",
    "b = int(y)\n",
    "\n",
    ">convert from int to complex:\n",
    "\n",
    "c = complex(x)\n",
    "\n",
    "**Code:**"
   ]
  },
  {
   "cell_type": "code",
   "execution_count": 24,
   "id": "2c025250",
   "metadata": {},
   "outputs": [
    {
     "name": "stdout",
     "output_type": "stream",
     "text": [
      "1.0\n",
      "2\n",
      "(1+0j)\n",
      "Hello\n",
      "<class 'float'>\n",
      "<class 'int'>\n",
      "<class 'complex'>\n",
      "<class 'str'>\n"
     ]
    }
   ],
   "source": [
    "w = \"Hello\"\n",
    "\n",
    "x = 1 # int\n",
    "\n",
    "y = 2.8 # float\n",
    "\n",
    "z = 1j # complex\n",
    "\n",
    "# convert from int to float:\n",
    "\n",
    "a = float(x)\n",
    "\n",
    "# convert from float to int:\n",
    "\n",
    "b = int(y)\n",
    "\n",
    "# convert from int to complex:\n",
    "\n",
    "c = complex(x)\n",
    "\n",
    "print(a)\n",
    "\n",
    "print(b)\n",
    "\n",
    "print(c)\n",
    "\n",
    "print(w)\n",
    "\n",
    "print(type(a))\n",
    "\n",
    "print(type(b))\n",
    "\n",
    "print(type(c))\n",
    "\n",
    "print(type(w))\n"
   ]
  },
  {
   "cell_type": "markdown",
   "id": "2924d083",
   "metadata": {},
   "source": [
    "### **Declairing Variable**"
   ]
  },
  {
   "cell_type": "markdown",
   "id": "562fa1b4",
   "metadata": {},
   "source": [
    "### **Example 1:**\n",
    "\n",
    "### Valid variable names\n",
    "my_variable = 10\n",
    "\n",
    "_my_variable = 20\n",
    "\n",
    "myVariable2 = 30\n",
    "\n",
    "### Invalid variable names (uncomment to see the errors)\n",
    "2myVariable = 40\n",
    "\n",
    "my-variable = 50\n",
    "\n",
    "my variable = 60\n",
    "\n",
    "**Code:**"
   ]
  },
  {
   "cell_type": "code",
   "execution_count": 25,
   "id": "1d6f8049",
   "metadata": {},
   "outputs": [],
   "source": [
    "my_variable = 10\n",
    "\n",
    "_my_variable = 20\n",
    "\n",
    "myVariable2 = 30"
   ]
  },
  {
   "cell_type": "code",
   "execution_count": 26,
   "id": "681aed36",
   "metadata": {},
   "outputs": [],
   "source": [
    "# 2myVariable = 40\n",
    "\n",
    "# my-variable = 50\n",
    "\n",
    "# my variable = 60"
   ]
  },
  {
   "cell_type": "markdown",
   "id": "a1b7240e",
   "metadata": {},
   "source": [
    "### **Example 2:**\n",
    "\n",
    "**Assigning values to variables at Coding Time**\n",
    "\n",
    "name = “Dr. Adeel” # string value\n",
    "\n",
    "age = 25 # integer value\n",
    "\n",
    "cgpa = 3.86 # float value\n",
    "\n",
    "is_handsome = True # boolean value\n",
    "\n",
    "age = 30\n",
    "\n",
    "cgpa = 3.90\n",
    "\n",
    "**Printing the values of variables**\n",
    "\n",
    "print(\"Name:\", name)\n",
    "\n",
    "print(\"Age:\", age)\n",
    "\n",
    "print(\"CGPA:\", cgpa)\n",
    "\n",
    "print(\"Is handsome:\", is_handsome)\n",
    "\n",
    "**Code:**"
   ]
  },
  {
   "cell_type": "code",
   "execution_count": 27,
   "id": "9c67ed22",
   "metadata": {},
   "outputs": [
    {
     "name": "stdout",
     "output_type": "stream",
     "text": [
      "Name: Dr. Adeel\n",
      "Age: 30\n",
      "CGPA: 3.9\n",
      "Is handsome: True\n"
     ]
    }
   ],
   "source": [
    "# Assigning values to variables at Coding Time\n",
    "\n",
    "name = \"Dr. Adeel\" # string value\n",
    "\n",
    "age = 25 # integer value\n",
    "\n",
    "cgpa = 3.86 # float value\n",
    "\n",
    "is_handsome = True # boolean value\n",
    "\n",
    "age = 30\n",
    "\n",
    "cgpa = 3.90\n",
    "\n",
    "# Printing the values of variables\n",
    "\n",
    "print(\"Name:\", name)\n",
    "\n",
    "print(\"Age:\", age)\n",
    "\n",
    "print(\"CGPA:\", cgpa)\n",
    "\n",
    "print(\"Is handsome:\", is_handsome)"
   ]
  },
  {
   "cell_type": "markdown",
   "id": "f9546c10",
   "metadata": {},
   "source": [
    "### **Example 3:**\n",
    "fruit_1, fruit_2, fruit_3 = \"Orange\", \"Banana\", \"Cherry\"\n",
    "\n",
    "print(“Fruit 1: ”, fruit_1)\n",
    "\n",
    "print(fruit_2)\n",
    "\n",
    "print(fruit_3)\n",
    "\n",
    "**Code:**"
   ]
  },
  {
   "cell_type": "code",
   "execution_count": 28,
   "id": "2baea2d9",
   "metadata": {},
   "outputs": [
    {
     "name": "stdout",
     "output_type": "stream",
     "text": [
      "Fruit 1:  Orange\n",
      "Banana\n",
      "Cherry\n"
     ]
    }
   ],
   "source": [
    "fruit_1, fruit_2, fruit_3 = \"Orange\", \"Banana\", \"Cherry\"\n",
    "\n",
    "print(\"Fruit 1: \", fruit_1)\n",
    "\n",
    "print(fruit_2)\n",
    "\n",
    "print(fruit_3)"
   ]
  },
  {
   "cell_type": "markdown",
   "id": "2fb58a7f",
   "metadata": {},
   "source": [
    "### **Multi Line String**"
   ]
  },
  {
   "cell_type": "code",
   "execution_count": 29,
   "id": "c948934b",
   "metadata": {},
   "outputs": [
    {
     "name": "stdout",
     "output_type": "stream",
     "text": [
      "Allah is One. \n",
      "He created us. \n",
      "He has control over everything. \n",
      "Purpose of our lives is: Friendship of Allah.\n"
     ]
    }
   ],
   "source": [
    "message = \"\"\"Allah is One. \n",
    "He created us. \n",
    "He has control over everything. \n",
    "Purpose of our lives is: Friendship of Allah.\"\"\"\n",
    "print(message)"
   ]
  },
  {
   "cell_type": "markdown",
   "id": "bb0fdb34",
   "metadata": {},
   "source": [
    "### **Your Turn Task 1**\n",
    "**Task:**\n",
    "\n",
    "Create variables to store your demographic information\n",
    "\n",
    "> Name\n",
    "\n",
    "> Gender\n",
    "\n",
    "> Age\n",
    "\n",
    "> Interest\n",
    "\n",
    "> Hobby\n",
    "\n",
    "> Address\n",
    "\n",
    "**Input:** Variables\n",
    "\n",
    "**Processing:** print() Function\n",
    "\n",
    "**Output:** \n",
    "\n",
    "Name: Muhammad Danyal Aslam\n",
    "\n",
    "Gender: M\n",
    "\n",
    "Age: 17\n",
    "\n",
    "Interest: Business\n",
    "\n",
    "Hobby: Exploration\n",
    "\n",
    "Address: Gujranwala\n",
    "\n",
    "Marks: 81.0\n",
    "\n",
    "**Code:**"
   ]
  },
  {
   "cell_type": "code",
   "execution_count": 30,
   "id": "987dc13a",
   "metadata": {},
   "outputs": [
    {
     "name": "stdout",
     "output_type": "stream",
     "text": [
      "Name: Muhammad Danyal Aslam\n",
      "Gender: M\n",
      "Age: 17\n",
      "Interest: Business\n",
      "Hobby: Exploration\n",
      "Address: Gujranwala\n",
      "Marks: 81.0\n"
     ]
    }
   ],
   "source": [
    "# Developer Name: Muhammad Danyal Aslam\n",
    "\n",
    "\"\"\"\n",
    "Developer Email ID: 11951mda@gmail.com\n",
    "Python IDE: Jupyter Notebook\n",
    "IDE Version: 7.1\n",
    "Program Name: Printing in Multi Line\n",
    "\"\"\"\n",
    "name = \"Muhammad Danyal Aslam\"\n",
    "gender = \"M\"\n",
    "age = 17\n",
    "interest = \"Business\"\n",
    "hobby = \"Exploration\"\n",
    "address = \"Gujranwala\"\n",
    "marks = 81.0\n",
    "\n",
    "print(\"Name: \" + name + \"\\nGender: \" + gender + \"\\nAge: \" + str(age) + \"\\nInterest: \" + interest + \"\\nHobby: \" + hobby + \"\\nAddress: \" + address + \"\\nMarks: \" + str(marks))\n"
   ]
  },
  {
   "cell_type": "markdown",
   "id": "ef8a3f7b",
   "metadata": {},
   "source": [
    "### **Your Turn Task 2**\n",
    "**Task:**\n",
    "1. Declare variables to store the following information:\n",
    "    - Book title (string)\n",
    "    - Author name (string)\n",
    "    - Publication year (integer)\n",
    "    - Price (float)\n",
    "2. Assign initial values to the variables.\n",
    "3. Use the variables to print out a message with the book information.\n",
    "4. Update the price variable to reflect a 10% discount.\n",
    "5. Print out the updated book information.\n",
    "\n",
    "\n",
    "**Input:** variables\n",
    "\n",
    "**Processing:** print() function\n",
    "\n",
    "**Output:** book information\n",
    "\n",
    "**Code:**"
   ]
  },
  {
   "cell_type": "code",
   "execution_count": 31,
   "id": "e5a4ab16",
   "metadata": {},
   "outputs": [
    {
     "name": "stdout",
     "output_type": "stream",
     "text": [
      "printing before change\n",
      "\n",
      "Book Title:  English\n",
      "Author Name:  Dr Jhon\n",
      "Publication Year:  2016\n",
      "Price:  70.0\n",
      "\n",
      "printing after change\n",
      "\n",
      "Book Title:  English\n",
      "Author Name:  Dr Jhon\n",
      "Publication Year:  2016\n",
      "Price:  63.0\n"
     ]
    }
   ],
   "source": [
    "# Developer Name: Muhammad Danyal Aslam\n",
    "\n",
    "\"\"\"\n",
    "Developer Email ID: 11951mda@gmail.com\n",
    "Python IDE: Jupyter Notebook\n",
    "IDE Version: 7.1\n",
    "Program Name: Printing in Multi Line\n",
    "\"\"\"\n",
    "# Declairing Variables and Assingning values\n",
    "book_title = \"English\"\n",
    "author_name = \"Dr Jhon\"\n",
    "publication_year = 2016\n",
    "price = 70.00\n",
    "#printing before change\n",
    "print(\"printing before change\")\n",
    "print(\"\\nBook Title: \", book_title)\n",
    "print(\"Author Name: \", author_name)\n",
    "print(\"Publication Year: \", publication_year)\n",
    "print(\"Price: \", price)\n",
    "#Changing Price\n",
    "price = 63.00\n",
    "#printing after change\n",
    "print(\"\\nprinting after change\")\n",
    "print(\"\\nBook Title: \", book_title)\n",
    "print(\"Author Name: \", author_name)\n",
    "print(\"Publication Year: \", publication_year)\n",
    "print(\"Price: \", price)\n"
   ]
  },
  {
   "cell_type": "markdown",
   "id": "b3f094eb",
   "metadata": {},
   "source": [
    "\n",
    "\n",
    "\n",
    "\n",
    "\n",
    "#<h2  align=\"center\">**Single line / Multi line Comments**</h2>\n",
    "**Use**\n",
    "- For Single line: #\n",
    "\n",
    "- For Multi line: ''' ''' or \"\"\" \"\"\"\n",
    "\n",
    "**Purpose**\n",
    "-  Documenting code for others\n",
    "-  It is not part of Code\n",
    "\n",
    "\n"
   ]
  },
  {
   "cell_type": "markdown",
   "id": "980f54c2",
   "metadata": {},
   "source": [
    "### **Example 1:**\n",
    "\n",
    "#This is a comment\n",
    "\n",
    "#Dispaly message on output screen\n",
    "\n",
    "print(\"Allah is One.\")\n",
    "\n",
    "**Code:**"
   ]
  },
  {
   "cell_type": "code",
   "execution_count": 32,
   "id": "fc5edc2f-0a56-4a41-892a-d82040abf73e",
   "metadata": {},
   "outputs": [
    {
     "name": "stdout",
     "output_type": "stream",
     "text": [
      "Allah is One.\n"
     ]
    }
   ],
   "source": [
    "#This is a comment\n",
    "#Dispaly message on output screen\n",
    "print(\"Allah is One.\")"
   ]
  },
  {
   "cell_type": "markdown",
   "id": "d09685bb",
   "metadata": {},
   "source": [
    "### **Example 2:**\n",
    "**Task:** \n",
    "\n",
    "print(\"Allah is One.\") #Display message on output screen\n",
    "\n",
    "**Code:**"
   ]
  },
  {
   "cell_type": "code",
   "execution_count": 33,
   "id": "4bef0621",
   "metadata": {},
   "outputs": [
    {
     "name": "stdout",
     "output_type": "stream",
     "text": [
      "Allah Created us.\n"
     ]
    }
   ],
   "source": [
    "print(\"Allah Created us.\") #Display message on output screen"
   ]
  },
  {
   "cell_type": "markdown",
   "id": "5390d210",
   "metadata": {},
   "source": [
    "### **Example 3:**\n",
    "\n",
    "\"\"\"\n",
    "\n",
    "I am writing \n",
    "\n",
    "this comment in\n",
    "\n",
    "mulitple lines\n",
    "\n",
    "\"\"\"\n",
    "\n",
    "print(\"Allah is only Creator.\")\n",
    "\n",
    "\n",
    "**Code:**"
   ]
  },
  {
   "cell_type": "code",
   "execution_count": 34,
   "id": "cbb2216f",
   "metadata": {},
   "outputs": [
    {
     "name": "stdout",
     "output_type": "stream",
     "text": [
      "Allah is only Creator.\n"
     ]
    }
   ],
   "source": [
    "\"\"\"\n",
    "I am writing \n",
    "this comment in\n",
    "mulitple lines\n",
    "\"\"\"\n",
    "print(\"Allah is only Creator.\")"
   ]
  },
  {
   "cell_type": "markdown",
   "id": "286c442f",
   "metadata": {},
   "source": [
    "### **Example 4:**\n",
    "\n",
    "'''\n",
    "\n",
    "I am writing \n",
    "\n",
    "this comment in\n",
    "\n",
    "mulitple lines\n",
    "\n",
    "'''\n",
    "\n",
    "print(\"Allah is Most Forgiving.\")\n",
    "\n",
    "\n",
    "**Code:**"
   ]
  },
  {
   "cell_type": "code",
   "execution_count": 35,
   "id": "bd35ecc4",
   "metadata": {},
   "outputs": [
    {
     "name": "stdout",
     "output_type": "stream",
     "text": [
      "Allah is Most Forgiving.\n"
     ]
    }
   ],
   "source": [
    "'''\n",
    "I am writing \n",
    "this comment in\n",
    "mulitple lines\n",
    "'''\n",
    "print(\"Allah is Most Forgiving.\")"
   ]
  },
  {
   "cell_type": "markdown",
   "id": "8e1b82ee",
   "metadata": {},
   "source": [
    "<h2 align= center>TODO Tasks</h2>"
   ]
  },
  {
   "cell_type": "markdown",
   "id": "be501bd8",
   "metadata": {},
   "source": [
    "### **TODO Task 1:**\n",
    "**Task:** Use Single Line Comments and Multi Line Comments in your program \n",
    "for the following Attribtues.\n",
    "\n",
    "> Developer Name:\n",
    "\n",
    "> Developer Email ID:\n",
    "\n",
    "> Python IDE:\n",
    "\n",
    "> Program Name:\n",
    "\n",
    "> Program Version: \n",
    "\n",
    "> Start Date:\n",
    "\n",
    "> End Date:"
   ]
  },
  {
   "cell_type": "code",
   "execution_count": 36,
   "id": "d70a6a69",
   "metadata": {},
   "outputs": [
    {
     "name": "stdout",
     "output_type": "stream",
     "text": [
      "Personal Information Printer Program\n"
     ]
    }
   ],
   "source": [
    "# Developer Name: Muhammad Danyal Aslam\n",
    "\n",
    "\"\"\"\n",
    "Developer Email ID: 11951mda@gmail.com\n",
    "Python IDE: Jupyter Notebook\n",
    "Program Name: Personal Information Printer\n",
    "Program Version: 7.1\n",
    "\"\"\"\n",
    "\n",
    "# Start Date: 02-07-2024\n",
    "\n",
    "'''\n",
    "End Date: 31-08-2024\n",
    "'''\n",
    "\n",
    "print(\"Personal Information Printer Program\")\n"
   ]
  },
  {
   "cell_type": "markdown",
   "id": "1a20fa83",
   "metadata": {},
   "source": [
    "### **TODO Task 2:**\n",
    "\n",
    "**Task:** Print the following message on the Output Screen with Comments\n",
    ">Your name\n",
    "\n",
    ">Your age\n",
    "\n",
    ">Your  marks (percentage) in FSc / A Levels"
   ]
  },
  {
   "cell_type": "code",
   "execution_count": 37,
   "id": "d4bf99fb",
   "metadata": {},
   "outputs": [
    {
     "name": "stdout",
     "output_type": "stream",
     "text": [
      "My name is: Muhammad Danyal Aslam\n",
      "My age is: 17\n",
      "My marks (percentage) in FSc is: 81.0%\n"
     ]
    }
   ],
   "source": [
    "# Developer Name: Muhammad Danyal Aslam\n",
    "\n",
    "\"\"\"\n",
    "Developer Email ID: 11951mda@gmail.com\n",
    "Python IDE: Jupyter Notebook\n",
    "IDE Version: 7.1\n",
    "Program Name: Demographic Information\n",
    "\"\"\"\n",
    "# Print the name\n",
    "print(\"My name is: Muhammad Danyal Aslam\")  # Developer's name\n",
    "\n",
    "# Print the age\n",
    "print(\"My age is: 17\")  # Developer's age\n",
    "\n",
    "# Print the marks (percentage) in FSc / A Levels\n",
    "print(\"My marks (percentage) in FSc is: 81.0%\")\n"
   ]
  },
  {
   "cell_type": "markdown",
   "id": "c6bb7045",
   "metadata": {},
   "source": [
    "### **TODO Task 3:**\n",
    "**Task:** Print the following information about your city with single line and Multi line Comments\n",
    ">Name\n",
    "\n",
    ">Population\n",
    "\n",
    ">Famous for\n",
    "\n",
    ">Geographic area in kilometers"
   ]
  },
  {
   "cell_type": "code",
   "execution_count": 1,
   "id": "e7b0c79e",
   "metadata": {},
   "outputs": [
    {
     "name": "stdout",
     "output_type": "stream",
     "text": [
      "City: Gujranwala\n"
     ]
    }
   ],
   "source": [
    "# City Name\n",
    "print(\"City: Gujranwala\")  \n",
    "\n",
    "\n",
    "# Population: 2.7 million\n",
    "# Famous for: Wheat production, textiles, and culinary delights\n",
    "# Geographic area: 3,198 square kilometers\n"
   ]
  },
  {
   "cell_type": "markdown",
   "id": "1c200bf8",
   "metadata": {},
   "source": [
    "<h2 align= center>Your Turn Tasks</h2>"
   ]
  },
  {
   "cell_type": "markdown",
   "id": "773079ce",
   "metadata": {},
   "source": [
    "### **Your Turn Task**\n",
    "**Task:**  Write down three different Python programs, with\n",
    "\n",
    " >Single Line Comments\n",
    "\n",
    " >Multi Line Comments"
   ]
  },
  {
   "cell_type": "code",
   "execution_count": 39,
   "id": "7a3f0369",
   "metadata": {},
   "outputs": [
    {
     "name": "stdout",
     "output_type": "stream",
     "text": [
      "Allah is one\n"
     ]
    },
    {
     "data": {
      "text/plain": [
       "'\\nThis is a multi-line comment\\nIt can span multiple lines\\n'"
      ]
     },
     "execution_count": 39,
     "metadata": {},
     "output_type": "execute_result"
    }
   ],
   "source": [
    "# This is a single-line comment\n",
    "print(\"Allah is one\")  # This is another single-line comment\n",
    "\n",
    "\"\"\"\n",
    "This is a multi-line comment\n",
    "It can span multiple lines\n",
    "\"\"\"\n"
   ]
  },
  {
   "cell_type": "code",
   "execution_count": 40,
   "id": "b4d6ad26",
   "metadata": {},
   "outputs": [
    {
     "name": "stdout",
     "output_type": "stream",
     "text": [
      "2+2 = 4\n"
     ]
    },
    {
     "data": {
      "text/plain": [
       "'\\nThis is simple addition of 2\\n'"
      ]
     },
     "execution_count": 40,
     "metadata": {},
     "output_type": "execute_result"
    }
   ],
   "source": [
    "# This is a single-line comment\n",
    "print(\"2+2 = 4\")  # This is another single-line comment\n",
    "\n",
    "\"\"\"\n",
    "This is simple addition of 2\n",
    "\"\"\"\n"
   ]
  },
  {
   "cell_type": "code",
   "execution_count": 41,
   "id": "68bbc6fb",
   "metadata": {},
   "outputs": [
    {
     "name": "stdout",
     "output_type": "stream",
     "text": [
      "5\n"
     ]
    }
   ],
   "source": [
    "\"\"\"Declairing value\"\"\"\n",
    "x = 5\n",
    "# printing value of x\n",
    "print(x)\n"
   ]
  },
  {
   "cell_type": "markdown",
   "id": "32b35ff9",
   "metadata": {},
   "source": [
    "#<h2  align=\"center\">**Lecture 4**</h2>\n",
    "**09 July 2024**\n",
    "\n",
    "**Tuesday**"
   ]
  },
  {
   "cell_type": "markdown",
   "id": "ce817322",
   "metadata": {},
   "source": [
    "\n",
    "\n",
    "\n",
    "\n",
    "\n",
    "#<h2  align=\"center\">**Taking Input from User**</h2>\n",
    "**Use**\n",
    "- Input() Function\n",
    "\n",
    "**Purpose**\n",
    "-  To get input data\n",
    "\n"
   ]
  },
  {
   "cell_type": "markdown",
   "id": "76678a84",
   "metadata": {},
   "source": [
    "### **Example 1:**\n",
    "**Task:** Input the following message from the User\n",
    "\n",
    "num1 = input(\"Enter a number: \")\n",
    "\n",
    "**Code:**"
   ]
  },
  {
   "cell_type": "code",
   "execution_count": 42,
   "id": "a27c7070",
   "metadata": {},
   "outputs": [],
   "source": [
    "num1 = input(\"Enter a number: \")"
   ]
  },
  {
   "cell_type": "markdown",
   "id": "b698b932",
   "metadata": {},
   "source": [
    "> ### **Input() Function treats user input as String**"
   ]
  },
  {
   "cell_type": "markdown",
   "id": "786155ef",
   "metadata": {},
   "source": [
    "### **Example 2:**\n",
    "**Task:** Taking Input from User \n",
    "\n",
    "> Get a number as a string from the user\n",
    "\n",
    "num1 = input(\"Enter a number: \")\n",
    "\n",
    "> Convert the string to floats before performing the calculation\n",
    "\n",
    "> Try converting the string to float\n",
    "\n",
    "number1 = float(num1)\n",
    "\n",
    "**Code:**"
   ]
  },
  {
   "cell_type": "code",
   "execution_count": 43,
   "id": "750f0c18",
   "metadata": {},
   "outputs": [],
   "source": [
    "\n",
    "# Get a number as a string from the user\n",
    "\n",
    "num1 = input(\"Enter a number: \")\n",
    "\n",
    "# Convert the string to floats before performing the calculation\n",
    "\n",
    "# Try converting the string to float\n",
    "\n",
    "number1 = float(num1)\n"
   ]
  },
  {
   "cell_type": "markdown",
   "id": "d420bd60",
   "metadata": {},
   "source": [
    "### **Arithmatic Operations in Python**"
   ]
  },
  {
   "cell_type": "markdown",
   "id": "d2cd2876",
   "metadata": {},
   "source": [
    "\n",
    "> Addition +\n",
    "\n",
    "o Adds two numbers. (e.g., 5 + 3 = 8)\n",
    "\n",
    "> Subtraction –\n",
    "\n",
    "o Subtracts one number from another. (e.g., 10 - 2 = 8)\n",
    "\n",
    "> Multiplication *\n",
    "\n",
    "o Multiplies two numbers. (e.g., 4 * 5 = 20)\n",
    "\n",
    ">Division /\n",
    "\n",
    "o Divides one number by another. In Python 3, this results in a \n",
    "\n",
    "floating-point number. (e.g., 12 / 3 = 4.0)\n",
    "\n",
    ">Floor Division //\n",
    "\n",
    "o Divides and returns the whole number quotient, discarding the \n",
    "remainder. (e.g., 11 // 3 = 3) \n",
    "\n",
    ">Modulo %\n",
    "\n",
    "o Returns the remainder after division. (e.g., 14 % 3 = 2)\n",
    "\n",
    "o Examples\n",
    "\n",
    "o 11 / 3 = 3.66\n",
    "\n",
    "o 11 / 3 = 3\n",
    "\n",
    "o 11 % 3 = 2\n",
    "\n",
    ">Exponentiation **\n",
    "\n",
    "o Raises a number to a power. (e.g., 2 ** 3 = 8) "
   ]
  },
  {
   "cell_type": "markdown",
   "id": "2d8a9120",
   "metadata": {},
   "source": [
    "**Precedence for Arithmetic Operators (from Highest to Lowest):**"
   ]
  },
  {
   "cell_type": "markdown",
   "id": "e035dc20",
   "metadata": {},
   "source": [
    "\n",
    "> ()\n",
    "\n",
    "> **\n",
    "\n",
    "> *, / , // , % (Left to right associativity)\n",
    "\n",
    "> +, - (Left to right associativity)\n",
    "\n"
   ]
  },
  {
   "cell_type": "markdown",
   "id": "c7012f4d",
   "metadata": {},
   "source": [
    "### **TODO Task 1:**\n",
    "**Task:** What will be the output of the following Arithemetic Expressions\n",
    "\n",
    "> 15 // 3 % 2 + 5 – 2 * 5\n",
    "\n",
    "> 15 // (3 % 2) + (5 – 2) * 5\n",
    "\n",
    "> 15 / 3 % 2 + 5 – 2 ** 3\n",
    "\n",
    "**Code:**"
   ]
  },
  {
   "cell_type": "code",
   "execution_count": 44,
   "id": "b32a46f2",
   "metadata": {},
   "outputs": [
    {
     "name": "stdout",
     "output_type": "stream",
     "text": [
      "-4\n"
     ]
    }
   ],
   "source": [
    "x = 15 // 3 % 2 + 5 - 2 * 5\n",
    "print(x)"
   ]
  },
  {
   "cell_type": "code",
   "execution_count": 45,
   "id": "e8b055b2",
   "metadata": {},
   "outputs": [
    {
     "name": "stdout",
     "output_type": "stream",
     "text": [
      "30\n"
     ]
    }
   ],
   "source": [
    "y = 15 // (3 % 2) + (5 - 2) * 5\n",
    "print(y)"
   ]
  },
  {
   "cell_type": "code",
   "execution_count": 46,
   "id": "5dd73a9b",
   "metadata": {},
   "outputs": [
    {
     "name": "stdout",
     "output_type": "stream",
     "text": [
      "-2\n"
     ]
    }
   ],
   "source": [
    "z = 15 / 3 % 2 + 5 - 2 ** 3\n",
    "print(int(z))"
   ]
  },
  {
   "cell_type": "markdown",
   "id": "c512e7bc",
   "metadata": {},
   "source": [
    "### **TODO Task 2:**\n",
    "**Task:**\n",
    "\n",
    ">Multiplication of three numbers\n",
    "\n",
    "**Input:** Three Numbers\n",
    "\n",
    "**Processing:** Multiplying and print()\n",
    "\n",
    "**Output:** multiple of three numbers taken\n",
    "\n",
    "**Pseudocode**\n",
    "\n",
    "- First declare three floating variables and store three numbers in it.\n",
    "- Then create one floating variable name multiply and multiply three taken numbers inn it.\n",
    "- Print out multiplied answer from variable multiply.\n",
    "\n",
    "**Code:**"
   ]
  },
  {
   "cell_type": "code",
   "execution_count": 47,
   "id": "780c9a39",
   "metadata": {},
   "outputs": [],
   "source": [
    "# Developer Name: Muhammad Danyal Aslam\n",
    "\n",
    "\"\"\"\n",
    "Developer Email ID: 11951mda@gmail.com\n",
    "Python IDE: Jupyter Notebook\n",
    "Program Name: Personal Information Printer\n",
    "Program Version: 7.1\n",
    "\"\"\"\n",
    "\n",
    "# Taking Three floating numbers from user\n",
    "number_1 = float(input(\"Enter first Number for Multiplication: \"))\n",
    "number_2 = float(input(\"Enter second Number for Multiplication: \"))\n",
    "number_3 = float(input(\"Enter third Number for Multiplication: \"))\n",
    "# Declairing variable multiplied and stored the answer of numbers multiple\n",
    "multiplied = number_1*number_2*number_3\n",
    "# printing value of multiplied\n",
    "print(\"Answer of \" + str(number_1) + \" * \" + str(number_2) + \" * \" + str(number_3) + \" is: \" + str(multiplied))\n"
   ]
  },
  {
   "cell_type": "markdown",
   "id": "18aa1f12",
   "metadata": {},
   "source": [
    "### **TODO Task 3:**\n",
    "**Task:**\n",
    "\n",
    ">Calculate square of a number\n",
    "\n",
    "**Input:** A Number\n",
    "\n",
    "**Processing:** Multiplying and print()\n",
    "\n",
    "**Output:** Square of number taken\n",
    "\n",
    "**Pseudocode**\n",
    "\n",
    "- First declare a floating variable and store a number in it.\n",
    "- Then create one floating variable name square and multiply taken number with itself and store in it.\n",
    "- Print out squared answer from variable square.\n",
    "\n",
    "**Code:**"
   ]
  },
  {
   "cell_type": "code",
   "execution_count": null,
   "id": "e6781c17",
   "metadata": {},
   "outputs": [
    {
     "name": "stdout",
     "output_type": "stream",
     "text": [
      "Square of 4.0 is: 16.0\n"
     ]
    }
   ],
   "source": [
    "# Developer Name: Muhammad Danyal Aslam\n",
    "\n",
    "\"\"\"\n",
    "Developer Email ID: 11951mda@gmail.com\n",
    "Python IDE: Jupyter Notebook\n",
    "Program Name: Personal Information Printer\n",
    "Program Version: 7.1\n",
    "\"\"\"\n",
    "\n",
    "# Taking floating number from user\n",
    "number = float(input(\"Enter Number to get it's Square: \"))\n",
    "# Declairing variable squared and stored the answer of numbers square in it\n",
    "squared = number*number\n",
    "# printing value of squared\n",
    "print(\"Square of \" + str(number) + \" is: \" + str(squared))\n"
   ]
  },
  {
   "cell_type": "markdown",
   "id": "a6ec58d9",
   "metadata": {},
   "source": [
    "### **TODO Task 4:**\n",
    "**Task:**\n",
    "\n",
    ">Calculate area of a circle\n",
    "\n",
    "**Input:**  Radius\n",
    "\n",
    "**Processing:** Multiplying and print()\n",
    "\n",
    "**Output:** Area of Circle of Given Radius\n",
    "\n",
    "**Pseudocode**\n",
    "\n",
    "- First declare a floating variables name radius and store a float number in it.\n",
    "- Then create one floating variable name area_of_circle and multiply it as 3.14 x radius x radius as of formula pi r x r and store value in it.\n",
    "- Print out area of circle from variable area_of_circle.\n",
    "\n",
    "**Code:**"
   ]
  },
  {
   "cell_type": "code",
   "execution_count": null,
   "id": "d1829826",
   "metadata": {},
   "outputs": [
    {
     "name": "stdout",
     "output_type": "stream",
     "text": [
      "Area of circle of radius 34.0 cm is: 3629.84 cm\n"
     ]
    }
   ],
   "source": [
    "# Developer Name: Muhammad Danyal Aslam\n",
    "\n",
    "\"\"\"\n",
    "Developer Email ID: 11951mda@gmail.com\n",
    "Python IDE: Jupyter Notebook\n",
    "Program Name: Personal Information Printer\n",
    "Program Version: 7.1\n",
    "\"\"\"\n",
    "\n",
    "# Taking Floating Radius from user\n",
    "radius = float(input(\"Enter Radius in cm to get area Circle: \"))\n",
    "# declairing area_of_circle and storing area of circle in it\n",
    "area_of_circle = 3.14*radius*radius\n",
    "# printing area_of_circle \n",
    "print(\"Area of circle of radius \" + str(radius) + \" cm is: \" + str(area_of_circle) + \" cm\")\n"
   ]
  },
  {
   "cell_type": "markdown",
   "id": "67d6e9bf",
   "metadata": {},
   "source": [
    "### **TODO Task 5:**\n",
    "**Task:**\n",
    "\n",
    ">Print a two digits number in reverse order\n",
    "\n",
    "**Input:**  Two digit Number\n",
    "\n",
    "**Processing:** floor division, modulus and print()\n",
    "\n",
    "**Output:** Two digits number in reverse order\n",
    "\n",
    "**Pseudocode**\n",
    "\n",
    "- First declare a variables name number and store a two digit number in it.\n",
    "- Then create one variable name number_1 and store answer of number//10 in it.\n",
    "- Then create another variable name number_2 and store answer of number%10 in it.\n",
    "- Print out number_2 and number_1 in given order you will get answer in reverse order.\n",
    "\n",
    "**Code:**"
   ]
  },
  {
   "cell_type": "code",
   "execution_count": null,
   "id": "b6349826",
   "metadata": {},
   "outputs": [
    {
     "name": "stdout",
     "output_type": "stream",
     "text": [
      "23\n",
      "3 2\n"
     ]
    }
   ],
   "source": [
    "# Developer Name: Muhammad Danyal Aslam\n",
    "\n",
    "\"\"\"\n",
    "Developer Email ID: 11951mda@gmail.com\n",
    "Python IDE: Jupyter Notebook\n",
    "Program Name: Personal Information Printer\n",
    "Program Version: 7.1\n",
    "\"\"\"\n",
    "# declairing variable integer and storing number\n",
    "integer = int(input(\"Enter a Two digit Number: \"))\n",
    "# printing integer\n",
    "print(integer)\n",
    "# declairing number_1 and number_2 and storing seperate number in them\n",
    "number_1 = integer // 10\n",
    "number_2 = integer % 10\n",
    "# printing number in reverse order\n",
    "print(number_2,number_1)\n"
   ]
  },
  {
   "cell_type": "markdown",
   "id": "568142ba",
   "metadata": {},
   "source": [
    "### **TODO Task 6:**\n",
    "**Task:**\n",
    "\n",
    ">Print a three digits number in reverse order\n",
    "\n",
    "**Input:**  Three digit Number\n",
    "\n",
    "**Processing:** floor division, modulus and print()\n",
    "\n",
    "**Output:** Three digits number in reverse order\n",
    "\n",
    "**Pseudocode**\n",
    "\n",
    "- First declare a variables name number and store a three digit number in it.\n",
    "- Then create one variable name number_1 and store answer of number//100 in it.\n",
    "- Creating variable to store two digit part of three digit number\n",
    "- Then create one variable name number_2 and store answer of number//10 in it.\n",
    "- Then create another variable name number_3 and store answer of number%10 in it.\n",
    "- Print out number_3, number_2 and number_1 in given order you will get answer in reverse order.\n",
    "\n",
    "**Code:**"
   ]
  },
  {
   "cell_type": "code",
   "execution_count": null,
   "id": "3d85fe3d",
   "metadata": {},
   "outputs": [
    {
     "name": "stdout",
     "output_type": "stream",
     "text": [
      "123\n",
      "3 2 1\n"
     ]
    }
   ],
   "source": [
    "# Developer Name: Muhammad Danyal Aslam\n",
    "\n",
    "\"\"\"\n",
    "Developer Email ID: 11951mda@gmail.com\n",
    "Python IDE: Jupyter Notebook\n",
    "IDE Version: 7.1\n",
    "Program Name: Three digits number in reverse order\n",
    "\"\"\"\n",
    "\n",
    "integer = int(input(\"Enter a Three digit Number: \"))\n",
    "print(integer)\n",
    "# declairing number_1 and storing first number in it\n",
    "number_1 = integer // 100\n",
    "#declairing integer to store two digit number\n",
    "integer_2 = integer % 100\n",
    "# declairing number_2 and number_3 and storing seperate number in them\n",
    "number_2 = integer_2 // 10\n",
    "number_3 = integer_2 % 10\n",
    "# printing number in reverse order\n",
    "print(number_3,number_2,number_1)\n"
   ]
  },
  {
   "cell_type": "markdown",
   "id": "6d0d49fc",
   "metadata": {},
   "source": [
    "### **Your Turn Task 1**\n",
    "**Task:** Write down three different Arithmetic Expressions and calcualte them\n",
    "\n",
    "> ((3 + 5) * (2 - 1)) / (7 - 3)\n",
    "\n",
    "- 2\n",
    "\n",
    "> (10 - 2) ** 2 + 12 / 3 - 5 \n",
    "\n",
    "- 63\n",
    "\n",
    "> ((7 + 2) * (3 - 1)) ** 2 - 9 / 3\n",
    "\n",
    "- 321\n",
    "\n",
    "\n",
    "**Input:** variables x y z\n",
    "\n",
    "**Processing:** print statement\n",
    "\n",
    "**Output:** answer\n",
    "\n",
    "**Code:**"
   ]
  },
  {
   "cell_type": "code",
   "execution_count": null,
   "id": "63c3c5ce",
   "metadata": {},
   "outputs": [
    {
     "name": "stdout",
     "output_type": "stream",
     "text": [
      "x: 2.0\n",
      "y: 63.0\n",
      "z: 321.0\n"
     ]
    }
   ],
   "source": [
    "# Developer Name: Muhammad Danyal Aslam\n",
    "\n",
    "\"\"\"\n",
    "Developer Email ID: 11951mda@gmail.com\n",
    "Python IDE: Jupyter Notebook\n",
    "IDE Version: 7.1\n",
    "Program Name: Arithmatic Calculation\n",
    "\"\"\"\n",
    "x = ((3 + 5) * (2 - 1)) / (7 - 3)\n",
    "y = (10 - 2) ** 2 + 12 / 3 - 5  \n",
    "z = ((7 + 2) * (3 - 1)) ** 2 - 9 / 3\n",
    "print(\"x: \" +str(x)+ \"\\ny: \" +str(y)+ \"\\nz: \" +str(z))"
   ]
  },
  {
   "cell_type": "markdown",
   "id": "de2764e4",
   "metadata": {},
   "source": [
    "### **Your Turn Task 2**\n",
    "**Task:** Write down three different Arithmetic Expressions and calcualte them\n",
    "\n",
    "> ((7 + 2) * (3 - 1)) ** 2 - 15 / (3 * (1 + 1)) + 2\n",
    "\n",
    "- 323.5\n",
    "\n",
    "> (10 - 2) ** 3 + 12 / (3 * (2 + 1)) - 5\n",
    "\n",
    "- 508.33\n",
    "\n",
    "> ((3 + 5) ** 2 - 10) / (2 * (4 - 1)) + 8\n",
    "\n",
    "- 17\n",
    "\n",
    "\n",
    "**Input:** variables a b c\n",
    "\n",
    "**Processing:** print statement\n",
    "\n",
    "**Output:** answer\n",
    "\n",
    "**Code:**"
   ]
  },
  {
   "cell_type": "code",
   "execution_count": null,
   "id": "546360c5",
   "metadata": {},
   "outputs": [
    {
     "name": "stdout",
     "output_type": "stream",
     "text": [
      "a: 323.5\n",
      "b: 508.33333333333337\n",
      "c: 17.0\n"
     ]
    }
   ],
   "source": [
    "# Developer Name: Muhammad Danyal Aslam\n",
    "\n",
    "\"\"\"\n",
    "Developer Email ID: 11951mda@gmail.com\n",
    "Python IDE: Jupyter Notebook\n",
    "IDE Version: 7.1\n",
    "Program Name: Arithmatic Calculation\n",
    "\"\"\"\n",
    "a = ((7 + 2) * (3 - 1)) ** 2 - 15 / (3 * (1 + 1)) + 2\n",
    "b = (10 - 2) ** 3 + 12 / (3 * (2 + 1)) - 5\n",
    "c = ((3 + 5) ** 2 - 10) / (2 * (4 - 1)) + 8\n",
    "print(\"a: \" +str(a)+ \"\\nb: \" +str(b)+ \"\\nc: \" +str(c))"
   ]
  },
  {
   "cell_type": "markdown",
   "id": "c885215d",
   "metadata": {},
   "source": [
    "#<h2  align=\"center\">**Lecture 5**</h2>\n",
    "**11 July 2024**\n",
    "\n",
    "**Thursday**"
   ]
  },
  {
   "cell_type": "markdown",
   "id": "b5433968",
   "metadata": {},
   "source": [
    "\n",
    "#<h2  align=\"center\">**Selection Structure**</h2>\n",
    "**Definition**\n",
    "\n",
    ">A Selection Structure (a.k.a. Conditional Structure) is a feature of \n",
    "Python Programming Language that is used to perform different \n",
    "actions / tasks based on Decision Making (whether a specific \n",
    "Condition is True or False)\n",
    "\n",
    "**Use**\n",
    "- If\n",
    "- If-Else\n",
    "- If-Else If-Else\n",
    "\n",
    "**Purpose**\n",
    "-  Decision Making\n",
    "\n"
   ]
  },
  {
   "cell_type": "markdown",
   "id": "aa4b4f91",
   "metadata": {},
   "source": [
    "<h2 align= center>If Statement</h2>"
   ]
  },
  {
   "cell_type": "markdown",
   "id": "5b7af2b5",
   "metadata": {},
   "source": [
    ">**How to Write a Condition (Relational Expression) in Python**"
   ]
  },
  {
   "cell_type": "markdown",
   "id": "47f4b204",
   "metadata": {},
   "source": [
    "- L.H.S (Relational Operator) R.H.S"
   ]
  },
  {
   "cell_type": "markdown",
   "id": "08ccac05",
   "metadata": {},
   "source": [
    "> LHS can have \n",
    "- Number / Variable / Expression\n",
    "> RHS can have \n",
    "- Number / Variable / Expression\n",
    "> Relational Operator can be\n",
    "- == Equal\n",
    "- != Not Equal\n",
    "- < Less Than\n",
    "- ( > Greater Than )\n",
    "- <= Less Than or Equal to\n",
    "- ( >= Greater Than or Equal to )"
   ]
  },
  {
   "cell_type": "markdown",
   "id": "aabdef35",
   "metadata": {},
   "source": [
    "> What is the outcome of a Condition?\n",
    "\n",
    "Two Possible Outcomes of a Condition \n",
    "- True \n",
    "- False"
   ]
  },
  {
   "cell_type": "markdown",
   "id": "dd00f11b",
   "metadata": {},
   "source": [
    "### **Example 1:**\n",
    "**Task:** Syntax of If Statement\n",
    "\n",
    "**Code:**"
   ]
  },
  {
   "cell_type": "code",
   "execution_count": null,
   "id": "796c26f5",
   "metadata": {},
   "outputs": [
    {
     "name": "stdout",
     "output_type": "stream",
     "text": [
      "Start\n",
      "Condition is True\n",
      "Number 1 is greater than Number 2\n",
      "End\n"
     ]
    }
   ],
   "source": [
    "num1 = 100\n",
    "num2 = 15\n",
    "print(\"Start\")\n",
    "if num1 > num2:\n",
    "   print(\"Condition is True\")\n",
    "   print(\"Number 1 is greater than Number 2\")\n",
    "print(\"End\")"
   ]
  },
  {
   "cell_type": "markdown",
   "id": "68007341",
   "metadata": {},
   "source": [
    "### **Example 2:**\n",
    "**Task:** Check the number is even or Odd\n",
    "\n",
    "**Input:** number from user\n",
    "\n",
    "**Processing:** If Statement\n",
    "\n",
    "**Output:** Even or Odd\n",
    "\n",
    "**Code:**"
   ]
  },
  {
   "cell_type": "code",
   "execution_count": null,
   "id": "1f226862",
   "metadata": {},
   "outputs": [
    {
     "name": "stdout",
     "output_type": "stream",
     "text": [
      "-245 is an Odd Number\n"
     ]
    }
   ],
   "source": [
    "# Take an Integer Number as Input from User\n",
    "number = int(input(\"Enter an Integer Number: \"))\n",
    "# Decision Making - Check whether Condition is True or False\n",
    "if number % 2 == 0:\n",
    "  print(number, \"is an Even Number\")\n",
    "# Decision Making - Check whether Condition is True or False\n",
    "if number % 2 == 1:\n",
    "  print(number, \"is an Odd Number\")"
   ]
  },
  {
   "cell_type": "markdown",
   "id": "0e703c14",
   "metadata": {},
   "source": [
    "### **TODO Task 1:**\n",
    "**Task:**\n",
    " Use Template-based Approach described in this Lecture to write the \n",
    "following programs \n",
    "\n",
    "- Write a program that takes an integer input from the user and \n",
    "determines whether the number is positive, negative, or zero.\n",
    "\n",
    "**Input:** Integrer\n",
    "\n",
    "**Processing:** Greator than or less than zero\n",
    "\n",
    "**Output:** Number is positive negative or zero\n",
    "\n",
    "**PseudoCode:**"
   ]
  },
  {
   "cell_type": "markdown",
   "id": "d698947b",
   "metadata": {},
   "source": [
    "- First Take a number from user and store it in Integer.\n",
    "- Apply Condition IF integer < 0: print(\"It is Negative Number\").\n",
    "- Apply Condition IF integer > 0: print(\"It is Positive Number\").\n",
    "- Apply Condition IF integer == 0: print(\"It is Zero\")."
   ]
  },
  {
   "cell_type": "markdown",
   "id": "1fbdc1ec",
   "metadata": {},
   "source": [
    "**Code:**"
   ]
  },
  {
   "cell_type": "code",
   "execution_count": null,
   "id": "67c240b2",
   "metadata": {},
   "outputs": [
    {
     "name": "stdout",
     "output_type": "stream",
     "text": [
      "It is Positive Number\n"
     ]
    }
   ],
   "source": [
    "\"\"\"\n",
    "Developer Name: Muhammad Danyal Aslam\n",
    "Developer Email ID: 11951mda@gmail.com\n",
    "Python IDE: Jupyter Notebook\n",
    "Program Name: Integer Seperator\n",
    "Program Version: 7.1\n",
    "\"\"\"\n",
    "# Declaring integer and storing number in it obtained from user\n",
    "integer = int(input(\"Enter a number to detrmine it is positive or negative: \"))\n",
    "#Applying condition for negative integer\n",
    "if integer < 0:\n",
    "    print(\"It is Negative Number\")\n",
    "#Applying condition for positive integer\n",
    "if integer > 0:\n",
    "    print(\"It is Positive Number\")\n",
    "#Applying condition for zero integer\n",
    "if integer == 0:\n",
    "    print(\"It is zero\")"
   ]
  },
  {
   "cell_type": "markdown",
   "id": "d5fc3b74",
   "metadata": {},
   "source": [
    "### **TODO Task 2:**\n",
    "\n",
    "> **Task:** Check if a password is correct (password = \"python\").\n",
    "\n",
    "**Input:** String\n",
    "\n",
    "**Processing:** If statement\n",
    "\n",
    "**Output:** Password check\n",
    "\n",
    "**Pseudocode:**\n",
    "\n",
    "- Declare a variable password.\n",
    "- Store string from user in it.\n",
    "- Use if statement to check if string enter match password \"python\".\n",
    "- if matched print password is correct.\n",
    "- if unmatched print password is incorrect. \n",
    "\n",
    "**Code:**"
   ]
  },
  {
   "cell_type": "code",
   "execution_count": null,
   "id": "23d103a6",
   "metadata": {},
   "outputs": [
    {
     "name": "stdout",
     "output_type": "stream",
     "text": [
      "Password is correct.\n"
     ]
    }
   ],
   "source": [
    "\"\"\"\n",
    "Developer Name: Muhammad Danyal Aslam\n",
    "Developer Email ID: 11951mda@gmail.com\n",
    "Python IDE: Jupyter Notebook\n",
    "Program Name: Password Authenticator\n",
    "Program Version: 7.1\n",
    "\"\"\"\n",
    "# declairing variable and storing value in it\n",
    "password = input(\"Enter your password: \")\n",
    "# checking condition\n",
    "if password == \"python\":\n",
    "  print(\"Password is correct.\") # if true\n",
    "if password != \"python\":\n",
    "  print(\"Password is incorrect.\") # if false\n",
    "\n"
   ]
  },
  {
   "cell_type": "markdown",
   "id": "f3c885aa",
   "metadata": {},
   "source": [
    "### **Your Turn Task 1**\n",
    "> **Task:** Check if a student is eligible for a scholarship (GPA > 3.5, age < 25, major = \"Computer Science\").\n",
    "\n",
    "**Input:** GPA, AGE and MAJOR\n",
    "\n",
    "**Processing:** IF Statement\n",
    "\n",
    "**Output:**Eligibility\n",
    "\n",
    "**Pseudocode:**\n",
    "\n",
    "- first declare variables gpa, age and major.\n",
    "- Store value in gpa, age and major from user.\n",
    "- check if condition.\n",
    "- If all conditions match Print you are eligible.\n",
    "\n",
    "**Code:**"
   ]
  },
  {
   "cell_type": "code",
   "execution_count": null,
   "id": "37ff387f",
   "metadata": {},
   "outputs": [],
   "source": [
    "\"\"\"\n",
    "Developer Name: Muhammad Danyal Aslam\n",
    "Developer Email ID: 11951mda@gmail.com\n",
    "Python IDE: Jupyter Notebook\n",
    "Program Name: Scholorship Eligibility\n",
    "Program Version: 7.1\n",
    "\"\"\"\n",
    "\n",
    "# Declairing variables and storing value in it\n",
    "gpa = float(input(\"Enter your GPA: \"))\n",
    "age = int(input(\"Enter your age: \"))\n",
    "major = input(\"Enter your major: \")\n",
    "# Checking condition\n",
    "if gpa > 3.5 and age < 25 and major == \"Computer Science\":\n",
    "  print(\"You are Eligible for a scholarship.\") # if true\n",
    "if gpa < 3.5 and age > 25 and major != \"Computer Science\":\n",
    "  print(\"You are Not Eligible for a scholarship.\") # if false\n"
   ]
  },
  {
   "cell_type": "markdown",
   "id": "145bc532",
   "metadata": {},
   "source": [
    "### **Your Turn Task 2**\n",
    "> **Task:** Check Eligibility to vote\n",
    "\n",
    "**Input:** age\n",
    "\n",
    "**Processing:** If statement\n",
    "\n",
    "**Output:** Eligibility check\n",
    "\n",
    "**Pseudocode:**\n",
    "\n",
    "- Declare a variable.\n",
    "- Checking if statement.\n",
    "- Printing eligibility\n",
    "\n",
    "**Code:**"
   ]
  },
  {
   "cell_type": "code",
   "execution_count": null,
   "id": "b934e1d5",
   "metadata": {},
   "outputs": [],
   "source": [
    "\"\"\"\n",
    "Developer Name: Muhammad Danyal Aslam\n",
    "Developer Email ID: 11951mda@gmail.com\n",
    "Python IDE: Jupyter Notebook\n",
    "Program Name: Eligibility to vote\n",
    "Program Version: 7.1\n",
    "\"\"\"\n",
    "\n",
    "# Declairing variables and storing value in it\n",
    "age = int(input(\"Enter your age: \"))\n",
    "# Checking condition\n",
    "if age >= 18:\n",
    "  print(\"You are eligible to vote.\") # if true\n",
    "if age < 18:\n",
    "  print(\"You are not eligible to vote.\") # if false\n"
   ]
  },
  {
   "cell_type": "markdown",
   "id": "98c7b42b",
   "metadata": {},
   "source": [
    "#<h2  align=\"center\">**Lecture 6**</h2>\n",
    "**16 July 2024**\n",
    "\n",
    "**Tuesday**"
   ]
  },
  {
   "cell_type": "markdown",
   "id": "4427afa9",
   "metadata": {},
   "source": [
    "\n",
    "#<h2  align=\"center\">**Selection Structure**</h2>\n",
    "**Definition**\n",
    "\n",
    ">A Selection Structure (a.k.a. Conditional Structure) is a feature of \n",
    "Python Programming Language that is used to perform different \n",
    "actions / tasks based on Decision Making (whether a specific \n",
    "Condition is True or False)\n",
    "\n",
    "**Use**\n",
    "- If\n",
    "- If-Else\n",
    "- If-Else If-Else\n",
    "\n",
    "**Purpose**\n",
    "-  Decision Making\n",
    "\n"
   ]
  },
  {
   "cell_type": "markdown",
   "id": "ebf69534",
   "metadata": {},
   "source": [
    "<h2 align= center>If-Else Statement</h2>"
   ]
  },
  {
   "cell_type": "markdown",
   "id": "26d3ad2b",
   "metadata": {},
   "source": [
    "**Syntax – if-else**"
   ]
  },
  {
   "cell_type": "code",
   "execution_count": null,
   "id": "7daf43ee",
   "metadata": {},
   "outputs": [],
   "source": [
    "\"\"\"\n",
    "if condition:\n",
    " # code to be executed if the condition is True\n",
    "else:\n",
    " # code to be executed if the condition is False\n",
    "\"\"\""
   ]
  },
  {
   "cell_type": "markdown",
   "id": "01b9de5e",
   "metadata": {},
   "source": [
    "Use if-else Statement when you have \n",
    "  - Two Possible Output Values"
   ]
  },
  {
   "cell_type": "markdown",
   "id": "d9100852",
   "metadata": {},
   "source": [
    "### **Example 1:**\n",
    "> **Task:** Given two numbers. Determine which number is greater?\n",
    "\n",
    "**Input:** 2 (Integer, Integer)\n",
    "\n",
    "**Processing:** If Else\n",
    "\n",
    "**Output:**\n",
    " 2\n",
    "- Number 1 greater \n",
    "- Number 2 is greater\n",
    "\n",
    "**Code:**"
   ]
  },
  {
   "cell_type": "code",
   "execution_count": null,
   "id": "f925507c",
   "metadata": {},
   "outputs": [
    {
     "name": "stdout",
     "output_type": "stream",
     "text": [
      "Enter two Numbers to find which is greatest\n",
      "32 is greater than 12\n"
     ]
    }
   ],
   "source": [
    "print(\"Enter two Numbers to find which is greatest\")\n",
    "num1 = int(input(\"Enter first Number: \"))\n",
    "num2 = int(input(\"Enter second Number: \"))\n",
    "if num1 > num2:\n",
    "  print(num1, \"is greater than\", num2)\n",
    "else:\n",
    "  print(num1, \"is less than\", num2)"
   ]
  },
  {
   "cell_type": "markdown",
   "id": "a2a72327",
   "metadata": {},
   "source": [
    "### **Example 2:**\n",
    "> **Task:** Determine whether a number is odd or even?\n",
    "\n",
    "**Input:** 1(Integer)\n",
    "\n",
    "**Processing:** If Else\n",
    "\n",
    "**Output:** 1\n",
    "- Even or Odd\n",
    "\n",
    "**Code:**"
   ]
  },
  {
   "cell_type": "code",
   "execution_count": null,
   "id": "9830171e",
   "metadata": {},
   "outputs": [
    {
     "name": "stdout",
     "output_type": "stream",
     "text": [
      "34  is Even Number\n"
     ]
    }
   ],
   "source": [
    "number = int(input(\"Enter Number to find it is Even or Odd: \"))\n",
    "if number % 2 == 0:\n",
    "    print(number, \" is Even Number\")\n",
    "else:\n",
    "    print(number,\"is Odd Number\")"
   ]
  },
  {
   "cell_type": "markdown",
   "id": "9009a8e8",
   "metadata": {},
   "source": [
    "### **TODO Task 1:**\n",
    "> **Task:** Write a program which takes age of a person as input, and determines if \n",
    "(s)he is eligible to vote or not?\n",
    "\n",
    "o Note \n",
    "- Person whose age is greater than or equal to 18 is eligible to \n",
    "vote\n",
    "\n",
    "**Input:**\n",
    "- Age from user\n",
    "\n",
    "**Processing:** If Else Statement\n",
    "\n",
    "**Output:** 1\n",
    "\n",
    "Eligibility to vote\n",
    "\n",
    "**Pseudocode:**\n",
    "- Get Input from user.\n",
    "- Use if condition to check if age is >= 18.\n",
    "- if condition is true print you are eligible.\n",
    "- else print you are in eligible.\n",
    "\n",
    "**Code:**"
   ]
  },
  {
   "cell_type": "code",
   "execution_count": null,
   "id": "117e4ac8",
   "metadata": {},
   "outputs": [
    {
     "name": "stdout",
     "output_type": "stream",
     "text": [
      "You are Eligible to vote\n"
     ]
    }
   ],
   "source": [
    "# Developer Name: Muhammad Danyal Aslam\n",
    "\n",
    "\"\"\"\n",
    "Developer Email ID: 11951mda@gmail.com\n",
    "Python IDE: Jupyter Notebook\n",
    "IDE Version: 7.1\n",
    "Program Name: Eligibility to vote\n",
    "\"\"\"\n",
    "# Taking Input from user\n",
    "age = int(input(\"Enter your age to find you are eligible to vote: \"))\n",
    "# Using If Codition\n",
    "if age >= 18:\n",
    "    print(\"You are Eligible to vote\")\n",
    "else:\n",
    "    print(\"You are not eligible to vote\")"
   ]
  },
  {
   "cell_type": "markdown",
   "id": "06e61b8a",
   "metadata": {},
   "source": [
    "### **TODO Task 2:**\n",
    "> **Task:** Write a program which takes hair length of a person as input, and \n",
    "determines if the person if male or female?\n",
    "\n",
    "o Note \n",
    "- Person whose hair length is greater than 6 inches is a female.\n",
    "\n",
    "**Input:** Hair lenght\n",
    "\n",
    "**Processing:** If Else Statement\n",
    "\n",
    "**Output:** 1\n",
    "\n",
    "Male or Female\n",
    "\n",
    "**Pseudocode:**\n",
    "- Get Input from user.\n",
    "- Use if condition to check if age is > 6.\n",
    "- if condition is true print you are Female.\n",
    "- else print you are Male.\n",
    "\n",
    "**Code:**"
   ]
  },
  {
   "cell_type": "code",
   "execution_count": null,
   "id": "b5959d69",
   "metadata": {},
   "outputs": [
    {
     "name": "stdout",
     "output_type": "stream",
     "text": [
      "You are Male\n"
     ]
    }
   ],
   "source": [
    "# Developer Name: Muhammad Danyal Aslam\n",
    "\n",
    "\"\"\"\n",
    "Developer Email ID: 11951mda@gmail.com\n",
    "Python IDE: Jupyter Notebook\n",
    "IDE Version: 7.1\n",
    "Program Name: Gender Identification\n",
    "\"\"\"\n",
    "# Taking Input from user\n",
    "hair_lenght = int(input(\"Enter your Hair Lenght in Inches to find you are Male or Female: \"))\n",
    "# Using If Codition\n",
    "if hair_lenght > 6:\n",
    "    print(\"You are Female\")\n",
    "else:\n",
    "    print(\"You are Male\")"
   ]
  },
  {
   "cell_type": "markdown",
   "id": "4894dae3",
   "metadata": {},
   "source": [
    "### **Your Turn Task 1**\n",
    "> **Task:** Number divisible by 5 or not\n",
    "\n",
    "**Input:** 1\n",
    "\n",
    "Number \n",
    "\n",
    "**Processing:** If Else\n",
    "\n",
    "**Output:** 1\n",
    "\n",
    "**Pseudocode:**\n",
    "- First take input from user.\n",
    "- Check if else condition (number % 5 = 0).\n",
    "- if true print it is divisible.\n",
    "- Else print not divisible.\n",
    "\n",
    "**Code:**"
   ]
  },
  {
   "cell_type": "code",
   "execution_count": null,
   "id": "28a364b9",
   "metadata": {},
   "outputs": [],
   "source": [
    "# Developer Name: Muhammad Danyal Aslam\n",
    "\n",
    "\"\"\"\n",
    "Developer Email ID: 11951mda@gmail.com\n",
    "Python IDE: Jupyter Notebook\n",
    "IDE Version: 7.1\n",
    "Program Name: Divisibility Check\n",
    "\"\"\"\n",
    "# Prompt the user to enter a number\n",
    "number = int(input(\"Enter a number to find it is divisible by 5 or not: \"))\n",
    "\n",
    "# Check if the number is divisible by 5 using an if else statement\n",
    "if number % 5 == 0:\n",
    "    print(\"Divisible by 5\")\n",
    "else:\n",
    "    print(\"Not Divisible by 5\")\n"
   ]
  },
  {
   "cell_type": "markdown",
   "id": "1d2a57e9",
   "metadata": {},
   "source": [
    "<h2 align= center>If-Else If-Else Statement</h2>"
   ]
  },
  {
   "cell_type": "markdown",
   "id": "731f6122",
   "metadata": {},
   "source": [
    "**Syntax – if-elif-else Statement**"
   ]
  },
  {
   "cell_type": "code",
   "execution_count": null,
   "id": "3ca57817",
   "metadata": {},
   "outputs": [],
   "source": [
    "\"\"\"\n",
    "if condition 1:\n",
    "# code to be executed if condition1 is True\n",
    "elif condition 2:\n",
    "# code to be executed if condition1 is False and condition2 is True\n",
    "# ... You can have multiple elif conditions ...\n",
    "else:\n",
    "# code to be executed if none of the above conditions are True\n",
    "\"\"\""
   ]
  },
  {
   "cell_type": "markdown",
   "id": "661196e5",
   "metadata": {},
   "source": [
    "### **Example 1:**\n",
    "> **Task:** Write a program that calculates the Body Mass Index (BMI) and \n",
    "categorizes it into underweight, normal weight, overweight, or \n",
    "obese.\n",
    "\n",
    "**Input:** 2\n",
    "- Weight\n",
    "- Height\n",
    "\n",
    "**Processing:** If-Elif-Else\n",
    "\n",
    "**Output:** 1\n",
    "\n",
    "**Code:**"
   ]
  },
  {
   "cell_type": "code",
   "execution_count": null,
   "id": "5f6b2a50",
   "metadata": {},
   "outputs": [
    {
     "name": "stdout",
     "output_type": "stream",
     "text": [
      "You are underweight.\n"
     ]
    }
   ],
   "source": [
    "weight = float(input(\"Enter your weight in kg: \"))\n",
    "height = float(input(\"Enter your height in meters: \"))\n",
    "bmi = weight / (height ** 2)\n",
    "if bmi < 18.5:\n",
    " print(\"You are underweight.\")\n",
    "elif bmi < 24.9:\n",
    " print(\"You have a normal weight.\")\n",
    "elif bmi < 29.9:\n",
    " print(\"You are overweight.\")\n",
    "else:\n",
    " print(\"You are obese.\")\n"
   ]
  },
  {
   "cell_type": "markdown",
   "id": "72d7ee76",
   "metadata": {},
   "source": [
    "### **Example 2:**\n",
    "> **Task:** Write a program that takes a numerical grade as input and outputs \n",
    "the corresponding letter grade based on a standard grading scale.\n",
    "\n",
    "**Input:** 1 (float)\n",
    "\n",
    "**Processing:** If-Elif-Else\n",
    "\n",
    "**Output:** 1\n",
    "\n",
    "**Code:**"
   ]
  },
  {
   "cell_type": "code",
   "execution_count": null,
   "id": "d71cb50e",
   "metadata": {},
   "outputs": [
    {
     "name": "stdout",
     "output_type": "stream",
     "text": [
      "Very Good!\n"
     ]
    }
   ],
   "source": [
    "grade = float(input(\"Enter Your Percentage: \"))\n",
    "if grade >= 90:\n",
    " print(\"Excellent!\")\n",
    "elif grade >= 80:\n",
    " print(\"Very Good!\")\n",
    "elif grade >= 70:\n",
    " print(\"Good!\")\n",
    "else:\n",
    " print(\"Needs Improvement\")\n"
   ]
  },
  {
   "cell_type": "markdown",
   "id": "104c5b04",
   "metadata": {},
   "source": [
    "### **TODO Task 1:**\n",
    "> **Task:** Write a program that takes an integer input from the user and determines \n",
    "whether the number is positive, negative, or zero.\n",
    "\n",
    "**Input:** 1 number\n",
    "\n",
    "**Processing:** If Elif Else\n",
    "\n",
    "**Output:** 1 \n",
    "\n",
    "**Pseudocode:**\n",
    "- Take input from user.\n",
    "- Check If elif else statement condition that if number is less than zero.\n",
    "- if number < 0 print it's Negative.\n",
    "- if number > 0 print it's Positive.\n",
    "- Else it's zero.\n",
    "\n",
    "**Code:**"
   ]
  },
  {
   "cell_type": "code",
   "execution_count": null,
   "id": "6ae534a4",
   "metadata": {},
   "outputs": [
    {
     "name": "stdout",
     "output_type": "stream",
     "text": [
      "It is Negative number\n"
     ]
    }
   ],
   "source": [
    "# Developer Name: Muhammad Danyal Aslam\n",
    "\n",
    "\"\"\"\n",
    "Developer Email ID: 11951mda@gmail.com\n",
    "Python IDE: Jupyter Notebook\n",
    "IDE Version: 7.1\n",
    "Program Name: Integer Seperation\n",
    "\"\"\"\n",
    "\n",
    "# Prompt the user to enter a number\n",
    "number = int(input(\"Enter a number to find it is +ve, -ve or zero: \"))\n",
    "\n",
    "# Check if the number is less than zero using an if else statement\n",
    "if number < 0:\n",
    "    print(\"It is Negative number\")\n",
    "elif number > 0:\n",
    "    print(\"It is Positive number\")\n",
    "else:\n",
    "    print(\"It is Zero\")\n"
   ]
  },
  {
   "cell_type": "markdown",
   "id": "eb2b7eb3",
   "metadata": {},
   "source": [
    "### **TODO Task 2:**\n",
    "> **Task:** Write a program that takes the age of a person as input and classifies them \n",
    "into different age groups (child, teenager, adult, senior).\n",
    "\n",
    "\n",
    "**Input:** 1 Age\n",
    "\n",
    "**Processing:** If elif\n",
    "\n",
    "**Output:** 1 \n",
    "- Four possibilities\n",
    "- child\n",
    "- teenager\n",
    "- adult\n",
    "- senior\n",
    "\n",
    "**Pseudocode:**\n",
    "- First take age from user.\n",
    "- Check condition.\n",
    "- If\n",
    "- age <= 12: Your a child.\n",
    "- age <= 19: Your a teenager.\n",
    "- age <= 59: Your an adult.\n",
    "- age >= 60 You are a senior.\n",
    "\n",
    "**Code:**"
   ]
  },
  {
   "cell_type": "code",
   "execution_count": null,
   "id": "e99a0e8c",
   "metadata": {},
   "outputs": [
    {
     "name": "stdout",
     "output_type": "stream",
     "text": [
      "You are a Teenager\n"
     ]
    }
   ],
   "source": [
    "# Developer Name: Muhammad Danyal Aslam\n",
    "\n",
    "\"\"\"\n",
    "Developer Email ID: 11951mda@gmail.com\n",
    "Python IDE: Jupyter Notebook\n",
    "IDE Version: 7.1\n",
    "Program Name: Classification according to age\n",
    "\"\"\"\n",
    "# Prompt the user to enter a number\n",
    "age = int(input(\"Enter your age: \"))\n",
    "\n",
    "# Check if the number is less than zero using an if else statement\n",
    "if age <= 12:\n",
    "    print(\"You are a Child\")\n",
    "elif age <= 19:\n",
    "    print(\"You are a Teenager\")\n",
    "elif age <= 59:\n",
    "    print(\"You are an Adult\")\n",
    "elif age >= 60:\n",
    "    print(\"You are a Senior Citizen\")\n"
   ]
  },
  {
   "cell_type": "markdown",
   "id": "3e10482c",
   "metadata": {},
   "source": [
    "### **Your Turn Task 1**\n",
    "> **Task:** Evaluates a student's grade based on their score and determines their corresponding letter grade.\n",
    "- 90-100: A\n",
    "- 80-89:  B\n",
    "- 70-79:  C\n",
    "- 60-69:  D\n",
    "- 0-59:   F\n",
    "\n",
    "**Input:** 1 Grades\n",
    "\n",
    "**Processing:** If Elif Else\n",
    "\n",
    "**Output:** 1 \n",
    "- 5 Possibilities.\n",
    "- 90-100: A\n",
    "- 80-89: B\n",
    "- 70-79: C\n",
    "- 60-69: D\n",
    "- 0-59: F\n",
    "\n",
    "**Pseudocode:**\n",
    "\n",
    "- First take grade from user.\n",
    "- If Condition will be checked.\n",
    "- Grade >= 90: A\n",
    "- Grade >= 80: B\n",
    "- Grade >= 70: C\n",
    "- Grade >= 60: D\n",
    "- Grade <= 59: F\n",
    "- According to condition Grade would be printed\n",
    "\n",
    "**Code:**"
   ]
  },
  {
   "cell_type": "code",
   "execution_count": null,
   "id": "6f9f47a7",
   "metadata": {},
   "outputs": [
    {
     "name": "stdout",
     "output_type": "stream",
     "text": [
      "Your grade is 'B'\n"
     ]
    }
   ],
   "source": [
    "# Developer Name: Muhammad Danyal Aslam\n",
    "\n",
    "\"\"\"\n",
    "Developer Email ID: 11951mda@gmail.com\n",
    "Python IDE: Jupyter Notebook\n",
    "IDE Version: 7.1\n",
    "Program Name: Grade Evaluation\n",
    "\"\"\"\n",
    "# input as Grade from user\n",
    "Grade = float(input(\"Enter your total percentage to get Grade: \"))\n",
    "# If condition is checked and grades are printed according to condition\n",
    "if Grade >= 90:\n",
    "  print(\"Your grade is 'A'\")\n",
    "elif Grade >= 80:\n",
    "  print(\"Your grade is 'B'\")\n",
    "elif Grade >= 70:\n",
    "  print(\"Your grade is 'C'\")\n",
    "elif Grade >= 60:\n",
    "  print(\"Your grade is 'D'\")\n",
    "elif Grade <= 59:\n",
    "  print(\"Your grade is 'F'\")"
   ]
  },
  {
   "cell_type": "markdown",
   "id": "cbc24f1b",
   "metadata": {},
   "source": [
    "<h2 align= center>Nested if Statement</h2>"
   ]
  },
  {
   "cell_type": "markdown",
   "id": "2a9a47c6",
   "metadata": {},
   "source": [
    "**Syntax – Nested if Statement**\n",
    "\n",
    "o Note\n",
    "- Nesting == > if within an if"
   ]
  },
  {
   "cell_type": "code",
   "execution_count": null,
   "id": "555acde4",
   "metadata": {},
   "outputs": [],
   "source": [
    "if condition1:\n",
    "  if condition2:\n",
    "  # code to be executed if both conditions are True\n",
    "  else:\n",
    "  # code to be executed if only condition1 is True\n",
    "else:\n",
    " # code to be executed if condition1 is False"
   ]
  },
  {
   "cell_type": "markdown",
   "id": "2ca0da73",
   "metadata": {},
   "source": [
    "### **Example 1:**\n",
    "> **Task:** Find both numbers signs (Negative or Positive)\n",
    "\n",
    "**Input:** 2\n",
    "\n",
    "**Processing:** Nested If\n",
    "\n",
    "**Output:** 1\n",
    "\n",
    " 3 possibilities\n",
    "\n",
    "**Code:**"
   ]
  },
  {
   "cell_type": "code",
   "execution_count": null,
   "id": "d94b81de",
   "metadata": {},
   "outputs": [
    {
     "name": "stdout",
     "output_type": "stream",
     "text": [
      "Both x and y are positive\n"
     ]
    }
   ],
   "source": [
    "x = 5\n",
    "y = 10\n",
    "if x > 0:\n",
    " if y > 0:\n",
    "  print(\"Both x and y are positive\")\n",
    " else:\n",
    "  print(\"x is positive, but y is not\")\n",
    "else:\n",
    " print(\"x is not positive\")\n"
   ]
  },
  {
   "cell_type": "markdown",
   "id": "eba4973d",
   "metadata": {},
   "source": [
    "### **Your Turn Task 1** \n",
    "> **Task:** Pushup level according to you age\n",
    "\n",
    "For ages 18-25:\n",
    "- 40+ push-ups: Excellent\n",
    "- 30-39 push-ups: Good\n",
    "- 20-29 push-ups: Average\n",
    "- Less than 20 push-ups: Poor\n",
    "\n",
    "For ages 26-35:\n",
    "- 35+ push-ups: Excellent\n",
    "- 25-34 push-ups: Good\n",
    "- 15-24 push-ups: Average\n",
    "- Less than 15 push-ups: Poor\n",
    "\n",
    "For ages 36-45:\n",
    "- 30+ push-ups: Excellent\n",
    "- 20-29 push-ups: Good\n",
    "- 10-19 push-ups: Average\n",
    "- Less than 10 push-ups: Poor\n",
    "\n",
    "**Input:** 2\n",
    "- Age\n",
    "- Number of Pusups\n",
    "\n",
    "**Processing:** Nested If else\n",
    "\n",
    "**Output:**\n",
    "- Your level of Pushups\n",
    "- 4 Posibilities\n",
    "\n",
    "**Pseudocode:**\n",
    "- First take age from user.\n",
    "- Then take No of Pushups from user.\n",
    "Then by using outter if statement we will clasify age.\n",
    "\n",
    "For ages 18-25:\n",
    "- 40+ push-ups: Excellent\n",
    "- 30-39 push-ups: Good\n",
    "- 20-29 push-ups: Average\n",
    "- Less than 20 push-ups: Poor\n",
    "\n",
    "For ages 26-35:\n",
    "- 35+ push-ups: Excellent\n",
    "- 25-34 push-ups: Good\n",
    "- 15-24 push-ups: Average\n",
    "- Less than 15 push-ups: Poor\n",
    "\n",
    "For ages 36-45:\n",
    "- 30+ push-ups: Excellent\n",
    "- 20-29 push-ups: Good\n",
    "- 10-19 push-ups: Average\n",
    "- Less than 10 push-ups: Poor\n",
    "\n",
    "By using inner if statement we will classify your level by your pushups.\n",
    "\n",
    "For ages 18-25:\n",
    "- 40+ push-ups: Excellent\n",
    "- 30-39 push-ups: Good\n",
    "- 20-29 push-ups: Average\n",
    "- Less than 20 push-ups: Poor\n",
    "\n",
    "For ages 26-35:\n",
    "- 35+ push-ups: Excellent\n",
    "- 25-34 push-ups: Good\n",
    "- 15-24 push-ups: Average\n",
    "- Less than 15 push-ups: Poor\n",
    "\n",
    "For ages 36-45:\n",
    "- 30+ push-ups: Excellent\n",
    "- 20-29 push-ups: Good\n",
    "- 10-19 push-ups: Average\n",
    "- Less than 10 push-ups: Poor\n",
    "\n",
    "- After this your level will be printed.\n",
    "\n",
    "**Flowchart:**\n",
    "\n",
    "**Code:**"
   ]
  },
  {
   "cell_type": "code",
   "execution_count": null,
   "id": "2df24748",
   "metadata": {},
   "outputs": [
    {
     "name": "stdout",
     "output_type": "stream",
     "text": [
      "Pusup level according to your age\n",
      "Your level is Average\n"
     ]
    }
   ],
   "source": [
    "# Developer Name: Muhammad Danyal Aslam\n",
    "\n",
    "\"\"\"\n",
    "Developer Email ID: 11951mda@gmail.com\n",
    "Python IDE: Jupyter Notebook\n",
    "IDE Version: 7.1\n",
    "Program Name: Exercise Level\n",
    "\"\"\"\n",
    "# Taking Input from user\n",
    "print(\"Pusup level according to your age\")\n",
    "age = int(input(\"Enter Your Age: \")) # Age\n",
    "pushup = int(input(\"How many Pusups could you do: \")) # No of Pushups\n",
    "# Outter if statement for age\n",
    "if age <= 25 and age >= 18:\n",
    "# First inner statement for age 18 to 25\n",
    "    if pushup < 20:\n",
    "        print(\"Your level is Poor\")\n",
    "    elif pushup <= 29:\n",
    "        print(\"Your level is Average\")\n",
    "    elif pushup <= 39:\n",
    "        print(\"Your level is Good\")\n",
    "    elif pushup >= 40:\n",
    "        print(\"Your level is Excelent\")\n",
    "# Outer 2nd elif statement\n",
    "elif age <= 35:\n",
    "# second inner statement for age 26 to 35\n",
    "    if pushup < 15:\n",
    "        print(\"Your level is Poor\")\n",
    "    elif pushup <= 24:\n",
    "        print(\"Your level is Average\")\n",
    "    elif pushup <= 34:\n",
    "        print(\"Your level is Good\")\n",
    "    elif pushup >= 35:\n",
    "        print(\"Your level is Excelent\")\n",
    "# outter 3rd and last statement\n",
    "elif age <= 45:\n",
    "#Third inner statement for 36 to 45\n",
    "    if pushup < 10:\n",
    "        print(\"Your level is Poor\")\n",
    "    elif pushup <= 19:\n",
    "        print(\"Your level is Average\")\n",
    "    elif pushup <= 29:\n",
    "        print(\"Your level is Good\")\n",
    "    elif pushup >= 30:\n",
    "        print(\"Your level is Excelent\")\n",
    "# programms end"
   ]
  },
  {
   "cell_type": "markdown",
   "id": "d1e96700",
   "metadata": {},
   "source": [
    "<h2 align= center>Conditional Statement</h2>"
   ]
  },
  {
   "cell_type": "markdown",
   "id": "1b0c2d77",
   "metadata": {},
   "source": [
    "**Syntax – Conditional Statement**"
   ]
  },
  {
   "cell_type": "code",
   "execution_count": null,
   "id": "244f3ba6",
   "metadata": {},
   "outputs": [],
   "source": [
    "a if condition else b"
   ]
  },
  {
   "cell_type": "markdown",
   "id": "7c95c170",
   "metadata": {},
   "source": [
    "### **Example 1:**\n",
    "\n",
    "**Code:**"
   ]
  },
  {
   "cell_type": "code",
   "execution_count": null,
   "id": "42774050",
   "metadata": {},
   "outputs": [
    {
     "name": "stdout",
     "output_type": "stream",
     "text": [
      "True\n"
     ]
    }
   ],
   "source": [
    "age = 40\n",
    "is_adult = True if age >= 18 else False\n",
    "print(is_adult)"
   ]
  },
  {
   "cell_type": "code",
   "execution_count": null,
   "id": "09d1ebbc",
   "metadata": {},
   "outputs": [
    {
     "name": "stdout",
     "output_type": "stream",
     "text": [
      "fail\n"
     ]
    }
   ],
   "source": [
    "grade = 65\n",
    "result = \"pass\" if grade >= 70 else \"fail\"\n",
    "print(result)"
   ]
  },
  {
   "cell_type": "markdown",
   "id": "d5507e5f",
   "metadata": {},
   "source": [
    "### **Your Turn Task 1**\n",
    "> **Task:** Membership validation\n",
    "\n",
    "**Input:** yes/no\n",
    "\n",
    "**Processing:** Conditional If else\n",
    "\n",
    "**Output:** Member or not\n",
    "\n",
    "**Pseudocode:**\n",
    "- First take input from user as it got membership(yes/no).\n",
    "- Then check with if statement.\n",
    "- If answer is yes print you are eligible for discount.\n",
    "- else you are not.\n",
    "\n",
    "**Code:**"
   ]
  },
  {
   "cell_type": "code",
   "execution_count": null,
   "id": "eb5b9650",
   "metadata": {},
   "outputs": [],
   "source": [
    "# Developer Name: Muhammad Danyal Aslam\n",
    "\n",
    "\"\"\"\n",
    "Developer Email ID: 11951mda@gmail.com\n",
    "Python IDE: Jupyter Notebook\n",
    "IDE Version: 7.1\n",
    "Program Name: Membership validation\n",
    "\"\"\"\n",
    "# Prompt the user to enter their membership status\n",
    "membership_status = input(\"Are you a member (yes/no)? \")\n",
    "\n",
    "# Determine discount eligibility using a conditional (ternary) operator\n",
    "result = \"Eligible for Discount\" if membership_status == \"yes\" else \"Not Eligible for Discount\"\n",
    "\n",
    "# Print the result\n",
    "print(result)\n"
   ]
  },
  {
   "cell_type": "markdown",
   "id": "6b14a69c",
   "metadata": {},
   "source": [
    "<h2 align= center>Logic Operators</h2>"
   ]
  },
  {
   "cell_type": "markdown",
   "id": "e9a10ed9",
   "metadata": {},
   "source": [
    "### **TODO Task 1:**\n",
    "> **Task:** Write a program that takes a year as input and determines whether it is a \n",
    "leap year.\n",
    "\n",
    "**Input:** 1 Year\n",
    "\n",
    "**Processing:** If Else with logic operators\n",
    "\n",
    "**Output:** 1\n",
    "\n",
    "leap year or not\n",
    "\n",
    "**Pseudocode:**\n",
    "- Take Input from user about year.\n",
    "- now check condition.\n",
    "- if year divided by 4 gives 0 remainder and year divide by 100 don't give zero then print it is leap year.\n",
    "- or if year divided by 400 gives remainder 0 print it is leap year.\n",
    "- else print it's not leap year.\n",
    "\n",
    "**Code:**"
   ]
  },
  {
   "cell_type": "code",
   "execution_count": null,
   "id": "4ae80908",
   "metadata": {},
   "outputs": [
    {
     "name": "stdout",
     "output_type": "stream",
     "text": [
      "It's Not Leap Year\n"
     ]
    }
   ],
   "source": [
    "# Developer Name: Muhammad Danyal Aslam\n",
    "\n",
    "\"\"\"\n",
    "Developer Email ID: 11951mda@gmail.com\n",
    "Python IDE: Jupyter Notebook\n",
    "IDE Version: 7.1\n",
    "Program Name: Leap Year Identification\n",
    "\"\"\"\n",
    "#----------------------------------------\n",
    "\"\"\"\n",
    "You will need to use two logical operators\n",
    "o or\n",
    "o and\n",
    "• Learp year\n",
    "o year % 4 == 0 and year % 100 != 0\n",
    "• Leap year \n",
    "o year % 400 == 0\n",
    "\"\"\"\n",
    "# Input from user about year\n",
    "year = int(input(\"Enter Year to find if  it is Leap or Not: \"))\n",
    "# if condition to check weather year is leap or not\n",
    "if year % 4 == 0 and year % 100 != 0 or year % 400 == 0:\n",
    "    print(\"It is a Leap Year\")\n",
    "else:\n",
    "    print(\"It's Not Leap Year\")"
   ]
  },
  {
   "cell_type": "markdown",
   "id": "ab388999",
   "metadata": {},
   "source": [
    "**And Operator**"
   ]
  },
  {
   "cell_type": "markdown",
   "id": "3494b6b3",
   "metadata": {},
   "source": [
    "> This operator returns `True` only if BOTH operands (conditions) are `True`. \n",
    "Otherwise, it returns `False`"
   ]
  },
  {
   "cell_type": "markdown",
   "id": "a28a4a67",
   "metadata": {},
   "source": [
    "### **Example 1:**\n",
    "> **Task:** Given three integer number: n1, n2, and n3. Find out the largest \n",
    "number?\n",
    "- n1 is largest \n",
    "\n",
    "o Conditions to be True\n",
    "\n",
    "▪ n1 > n2 and n1 > n3\n",
    "\n",
    "- n2 is largest \n",
    "\n",
    "o Conditions to be True\n",
    "\n",
    "▪ n2 > n1 and n2 > n3\n",
    "\n",
    "- n3 is largest \n",
    "\n",
    "o Conditions to be True\n",
    "\n",
    "▪ n3 > n1 and n3 > n2\n",
    "\n",
    "**Input:** 3 Numbers\n",
    "\n",
    "**Processing:** If Elif Else with logic operators\n",
    "\n",
    "**Output:** 1\n",
    "\n",
    "Largest\n",
    "\n",
    "**Code:**"
   ]
  },
  {
   "cell_type": "code",
   "execution_count": null,
   "id": "5978bc4a",
   "metadata": {},
   "outputs": [],
   "source": [
    "n1 = 5\n",
    "n2 = 10\n",
    "n3 = 2\n",
    "if (n1 > n2) and (n1 > n3): \n",
    " print(n1, \"is largest number \")\n",
    "elif (n2 > n1) and (n2 > n3): \n",
    " print(n2, \"is largest number \")\n",
    "elif (n3 > n1) and (n3 > n2): \n",
    " print(n3, \"is largest number \")"
   ]
  },
  {
   "cell_type": "markdown",
   "id": "8414268c",
   "metadata": {},
   "source": [
    "### **TODO Task 1:**\n",
    "> **Task:** Write a program which takes five numbers as input from user and prints \n",
    "the largest number?\n",
    "\n",
    "**Input:** Five integer Numbers\n",
    "\n",
    "**Processing:** If elif Else with And operator\n",
    "\n",
    "**Output:** Largest Number\n",
    "\n",
    "**Pseudocode:**\n",
    "- First get Five numbers input from user.\n",
    "Now use five five conditions to check which number is greatest.\n",
    "- (number_1 > number_2) and (number_1 > number_3) and (number_1 > number_4) and (number_1 > number_5)\n",
    "- (number_2 > number_1) and (number_2 > number_3) and (number_2 > number_4) and (number_2 > number_5)\n",
    "- (number_3 > number_2) and (number_3 > number_1) and (number_3 > number_4) and (number_3 > number_5)\n",
    "- (number_4 > number_2) and (number_4 > number_3) and (number_4 > number_1) and (number_4 > number_5)\n",
    "- (number_5 > number_2) and (number_5 > number_3) and (number_5 > number_4) and (number_5 > number_1)\n",
    "\n",
    "- it is store in largest\n",
    "- it is printed.\n"
   ]
  },
  {
   "cell_type": "markdown",
   "id": "58241ec1",
   "metadata": {},
   "source": [
    "\n",
    "**Code:**"
   ]
  },
  {
   "cell_type": "code",
   "execution_count": 14,
   "id": "44fc2302",
   "metadata": {},
   "outputs": [
    {
     "name": "stdout",
     "output_type": "stream",
     "text": [
      "Second largest number: 54\n"
     ]
    }
   ],
   "source": [
    "# Developer Name: Muhammad Danyal Aslam\n",
    "\n",
    "\"\"\"\n",
    "Developer Email ID: 11951mda@gmail.com\n",
    "Python IDE: Jupyter Notebook\n",
    "IDE Version: 7.1\n",
    "Program Name: Seperation of largest\n",
    "\"\"\"\n",
    "# (n1 > n2) and (n1 > n3) and (n1 > n4) and (n1 > n5)\n",
    "# Inputing Numbers \n",
    "number_1 = int(input(\"Enter First Number: \"))\n",
    "number_2 = int(input(\"Enter Second Number: \"))\n",
    "number_3 = int(input(\"Enter Third Number: \"))\n",
    "number_4 = int(input(\"Enter Fourth Number: \"))\n",
    "number_5 = int(input(\"Enter Fifth Number: \"))\n",
    "# checking if condition\n",
    "if (number_1 > number_2) and (number_1 > number_3) and (number_1 > number_4) and (number_1 > number_5):\n",
    "   largest = number_1\n",
    "elif (number_2 > number_1) and (number_2 > number_3) and (number_2 > number_4) and (number_2 > number_5):\n",
    "   largest = number_2\n",
    "elif (number_3 > number_2) and (number_3 > number_1) and (number_3 > number_4) and (number_3 > number_5):\n",
    "   largest = number_3\n",
    "elif (number_4 > number_2) and (number_4 > number_3) and (number_4 > number_1) and (number_4 > number_5):\n",
    "   largest = number_4\n",
    "elif (number_5 > number_2) and (number_5 > number_3) and (number_5 > number_4) and (number_5 > number_1):\n",
    "   largest = number_5\n",
    "# Printing largest among numbers\n",
    "print(\"Largest number of\",number_1, number_2, number_3, number_4, number_5,\"is: \",largest )"
   ]
  },
  {
   "cell_type": "markdown",
   "id": "15b5f045",
   "metadata": {},
   "source": [
    "### **Your Turn Task 1:**\n",
    "> **Task:** Write a program which takes five numbers as input from user and prints \n",
    "the Second largest number?\n",
    "\n",
    "**Input:** Five integer Numbers\n",
    "\n",
    "**Processing:** If elif Else with And operator\n",
    "\n",
    "**Output:** Largest Number\n",
    "\n",
    "**Pseudocode:**\n",
    "- First get Five numbers input from user.\n",
    "Now use five five conditions to check which number is greatest.\n",
    "- (number_1 > number_2) and (number_1 > number_3) and (number_1 > number_4) and (number_1 > number_5)\n",
    "- (number_2 > number_1) and (number_2 > number_3) and (number_2 > number_4) and (number_2 > number_5)\n",
    "- (number_3 > number_2) and (number_3 > number_1) and (number_3 > number_4) and (number_3 > number_5)\n",
    "- (number_4 > number_2) and (number_4 > number_3) and (number_4 > number_1) and (number_4 > number_5)\n",
    "- (number_5 > number_2) and (number_5 > number_3) and (number_5 > number_4) and (number_5 > number_1)\n",
    "\n",
    "- it is store in largest\n",
    "- it is printed.\n"
   ]
  },
  {
   "cell_type": "code",
   "execution_count": null,
   "id": "b307a2a9",
   "metadata": {},
   "outputs": [],
   "source": [
    "# Developer Name: Muhammad Danyal Aslam\n",
    "\n",
    "\"\"\"\n",
    "Developer Email ID: 11951mda@gmail.com\n",
    "Python IDE: Jupyter Notebook\n",
    "IDE Version: 7.1\n",
    "Program Name: Seperation of largest\n",
    "\"\"\"\n",
    "# (n1 > n2) and (n1 > n3) and (n1 > n4) and (n1 > n5)\n",
    "# Taking Input\n",
    "number_1 = int(input(\"Enter First Number: \"))\n",
    "number_2 = int(input(\"Enter Second Number: \"))\n",
    "number_3 = int(input(\"Enter Third Number: \"))\n",
    "number_4 = int(input(\"Enter Fourth Number: \"))\n",
    "number_5 = int(input(\"Enter Fifth Number: \"))\n",
    "# Checking If condition for largest\n",
    "if (number_1 > number_2) and (number_1 > number_3) and (number_1 > number_4) and (number_1 > number_5):\n",
    "   largest = number_1\n",
    "elif (number_2 > number_1) and (number_2 > number_3) and (number_2 > number_4) and (number_2 > number_5):\n",
    "   largest = number_2\n",
    "elif (number_3 > number_2) and (number_3 > number_1) and (number_3 > number_4) and (number_3 > number_5):\n",
    "   largest = number_3\n",
    "elif (number_4 > number_2) and (number_4 > number_3) and (number_4 > number_1) and (number_4 > number_5):\n",
    "   largest = number_4\n",
    "elif (number_5 > number_2) and (number_5 > number_3) and (number_5 > number_4) and (number_5 > number_1):\n",
    "   largest = number_5\n",
    "# Printing Largest Number\n",
    "print(\"Largest number of\",number_1, number_2, number_3, number_4, number_5,\"is: \",largest )\n",
    "# Checking condition for Second largest\n",
    "if (number_1 < largest):\n",
    "   second_largest = number_1\n",
    "if (number_2 < largest) and (number_2 > number_1):\n",
    "   second_largest = number_2\n",
    "if (number_3 < largest) and (number_3 > number_2) and (number_3 > number_1):\n",
    "   second_largest = number_3\n",
    "if (number_4 < largest) and (number_4 > number_2) and (number_4 > number_3) and (number_4 > number_1):\n",
    "   second_largest = number_4\n",
    "if (number_5 > number_2) and (number_5 > number_3) and (number_5 > number_4) and (number_5 > number_1) and (number_5 < largest):\n",
    "   second_largest = number_5\n",
    "# Printing Second Largest\n",
    "print(\"Second Largest number of\",number_1, number_2, number_3, number_4, number_5,\"is: \",second_largest )"
   ]
  },
  {
   "cell_type": "code",
   "execution_count": 20,
   "id": "83e862ed",
   "metadata": {},
   "outputs": [
    {
     "name": "stdout",
     "output_type": "stream",
     "text": [
      "Finding the largest number\n",
      "\n",
      "Second largest number: 4\n"
     ]
    }
   ],
   "source": [
    "# GPT Code\n",
    "# Second Largest Number \n",
    "# Define the numbers\n",
    "print(\"Finding the largest number\\n\")\n",
    "\n",
    "num1 = int(input(\"Enter First Number: \"))\n",
    "num2 = int(input(\"Enter Second Number: \"))\n",
    "num3 = int(input(\"Enter Third Number: \"))\n",
    "num4 = int(input(\"Enter Fourth Number: \"))\n",
    "num5 = int(input(\"Enter Fifth Number: \"))\n",
    "\n",
    "# Find the largest number\n",
    "if num1 > num2 and num1 > num3 and num1 > num4 and num1 > num5:\n",
    "    largest = num1\n",
    "    if num2 > num3 and num2 > num4 and num2 > num5:\n",
    "        second_largest = num2\n",
    "    elif num3 > num2 and num3 > num4 and num3 > num5:\n",
    "        second_largest = num3\n",
    "    elif num4 > num2 and num4 > num3 and num4 > num5:\n",
    "        second_largest = num4\n",
    "    else:\n",
    "        second_largest = num5\n",
    "elif num2 > num1 and num2 > num3 and num2 > num4 and num2 > num5:\n",
    "    largest = num2\n",
    "    if num1 > num3 and num1 > num4 and num1 > num5:\n",
    "        second_largest = num1\n",
    "    elif num3 > num1 and num3 > num4 and num3 > num5:\n",
    "        second_largest = num3\n",
    "    elif num4 > num1 and num4 > num3 and num4 > num5:\n",
    "        second_largest = num4\n",
    "    else:\n",
    "        second_largest = num5\n",
    "elif num3 > num1 and num3 > num2 and num3 > num4 and num3 > num5:\n",
    "    largest = num3\n",
    "    if num1 > num2 and num1 > num4 and num1 > num5:\n",
    "        second_largest = num1\n",
    "    elif num2 > num1 and num2 > num4 and num2 > num5:\n",
    "        second_largest = num2\n",
    "    elif num4 > num1 and num4 > num2 and num4 > num5:\n",
    "        second_largest = num4\n",
    "    else:\n",
    "        second_largest = num5\n",
    "elif num4 > num1 and num4 > num2 and num4 > num3 and num4 > num5:\n",
    "    largest = num4\n",
    "    if num1 > num2 and num1 > num3 and num1 > num5:\n",
    "        second_largest = num1\n",
    "    elif num2 > num1 and num2 > num3 and num2 > num5:\n",
    "        second_largest = num2\n",
    "    elif num3 > num1 and num3 > num2 and num3 > num5:\n",
    "        second_largest = num3\n",
    "    else:\n",
    "        second_largest = num5\n",
    "else:\n",
    "    largest = num5\n",
    "    if num1 > num2 and num1 > num3 and num1 > num4:\n",
    "        second_largest = num1\n",
    "    elif num2 > num1 and num2 > num3 and num2 > num4:\n",
    "        second_largest = num2\n",
    "    elif num3 > num1 and num3 > num2 and num3 > num4:\n",
    "        second_largest = num3\n",
    "    else:\n",
    "        second_largest = num4\n",
    "\n",
    "print(\"Second largest number:\", second_largest)\n"
   ]
  },
  {
   "cell_type": "markdown",
   "id": "c0e5dc3b",
   "metadata": {},
   "source": [
    "### **Your Turn Task 2**\n",
    "> **Task:** Write a Python program to check whether a person is eligible to vote in a certain country. A person is eligible to vote if they are a citizen of the country AND are 18 years or older.\n",
    "\n",
    "**Input:** 2, 1 is string, 1 is int\n",
    "\n",
    "**Processing:** if else with and operator\n",
    "\n",
    "**Output:** eligibility\n",
    "\n",
    "**Pseudocode:**\n",
    "- Take input of user if he is citizen of country.\n",
    "- take input of his age.\n",
    "- if condition citizen == \"yes\" and age >= 18 is true.\n",
    "- print you are eligible.\n",
    "- else in-eligible.\n",
    "\n",
    "**Code:**"
   ]
  },
  {
   "cell_type": "code",
   "execution_count": null,
   "id": "7a5bf2c3",
   "metadata": {},
   "outputs": [
    {
     "name": "stdout",
     "output_type": "stream",
     "text": [
      "You are In-Eligible to vote\n"
     ]
    }
   ],
   "source": [
    "# Developer Name: Muhammad Danyal Aslam\n",
    "\n",
    "\"\"\"\n",
    "Developer Email ID: 11951mda@gmail.com\n",
    "Python IDE: Jupyter Notebook\n",
    "IDE Version: 7.1\n",
    "Program Name: Eligibility to vote\n",
    "\"\"\"\n",
    "# taking input\n",
    "print(\"Checking Eligibility to Vote\\n\")\n",
    "\n",
    "citizen = input(\"Are you Citizen of this Country (yes/no): \")\n",
    "age = int(input(\"What is your age: \"))\n",
    "# Checking If Condition\n",
    "if citizen == \"yes\" and age >= 18:\n",
    "    print(\"You are Eligible to vote\")\n",
    "else:\n",
    "    print(\"You are In-Eligible to vote\")"
   ]
  },
  {
   "cell_type": "markdown",
   "id": "a34bb1ca",
   "metadata": {},
   "source": [
    "**OR Operator**"
   ]
  },
  {
   "cell_type": "markdown",
   "id": "6ce7eeec",
   "metadata": {},
   "source": [
    "> This operator returns `True` if AT LEAST ONE of the operands (Conditions)\n",
    "is `True`. It returns `False` only if BOTH operands are `False`."
   ]
  },
  {
   "cell_type": "markdown",
   "id": "ab8c40ae",
   "metadata": {},
   "source": [
    "### **Example 1:**\n",
    "> **Task:** Write a program which takes a character as input and determines if \n",
    "it is a vowel or consonant?\n",
    "\n",
    "**Code:**"
   ]
  },
  {
   "cell_type": "code",
   "execution_count": null,
   "id": "a00010dd",
   "metadata": {},
   "outputs": [
    {
     "name": "stdout",
     "output_type": "stream",
     "text": [
      "i is Vowel\n"
     ]
    }
   ],
   "source": [
    "letter = input(\"Enter Letter to find is it Vowel or Consonant: \")\n",
    "if letter == \"a\" or letter == \"e\" or letter == \"i\" or letter == \"o\" or letter == \"u\" or letter == \"A\" or letter == \"E\" or letter == \"I\" or letter == \"O\" or letter == \"U\":\n",
    "  print(letter, \"is Vowel\")\n",
    "else:\n",
    "  print(letter, \"is Consonant\")\n"
   ]
  },
  {
   "cell_type": "markdown",
   "id": "014ed17e",
   "metadata": {},
   "source": [
    "### **TODO Task 1:**\n",
    "> **Task:** Write a program that takes the lengths of the three sides of a triangle and \n",
    "determines whether it is equilateral, isosceles, or scalene.\n",
    "\n",
    "**Input:** 3 sides float\n",
    "\n",
    "**Processing:** if elif else\n",
    "\n",
    "**Output:** type of triangle Equilateral Isoceles Sacelene\n",
    "\n",
    "**Pseudocode:**\n",
    "- First take user input of side 1, side 2, side 3.\n",
    "- now check condition for equilateral yriangle if all sides are same side_1 == side_2 and side_2 == side_3 and side_3 == side_1.\n",
    "- elif condition if previous is false foer isoceles with two equal sides side_1 == side_2 or side_2 == side_3 or side_3 == side_1.\n",
    "- Else condition if both are false for scalene whose all sides are different.\n",
    "\n",
    "**Code:**"
   ]
  },
  {
   "cell_type": "code",
   "execution_count": null,
   "id": "fccb639b",
   "metadata": {},
   "outputs": [
    {
     "name": "stdout",
     "output_type": "stream",
     "text": [
      "Enter sides lenght of Triangle to determines whether it is equilateral, isosceles, or scalene\n",
      "It's an Isoceles Triangle\n"
     ]
    }
   ],
   "source": [
    "# Developer Name: Muhammad Danyal Aslam\n",
    "\n",
    "\"\"\"\n",
    "Developer Email ID: 11951mda@gmail.com\n",
    "Python IDE: Jupyter Notebook\n",
    "IDE Version: 7.1\n",
    "Program Name: Leap Year Identification\n",
    "\"\"\"\n",
    "print(\"Enter sides lenght of Triangle to determines whether it is equilateral, isosceles, or scalene\\n\")\n",
    "# Taking Input of Sides\n",
    "side_1 = float(input(\"Enter lenght of side 1 in cm: \"))\n",
    "side_2 = float(input(\"Enter lenght of side 2 in cm: \"))\n",
    "side_3 = float(input(\"Enter lenght of side 3 in cm: \"))\n",
    "# Checking condition for equilateral triangle\n",
    "if side_1 == side_2 and side_2 == side_3 and side_3 == side_1:\n",
    "    print(\"It's an Equilateral triangle\")\n",
    "# Checking condition for Isoceles triangle\n",
    "elif side_1 == side_2 or side_2 == side_3 or side_3 == side_1:\n",
    "    print(\"It's an Isoceles Triangle\")\n",
    "# Ifno side is equal it is scalene triangle\n",
    "else:\n",
    "    print(\"It's Scalene Triangle\")"
   ]
  },
  {
   "cell_type": "markdown",
   "id": "94a721bc",
   "metadata": {},
   "source": [
    "### **Your Turn Task 1**\n",
    "> **Task:** Write a Python program to check whether a person is eligible to receive a loan from a bank. A person is eligible if they meet any of the following conditions:\n",
    "\n",
    "- They have a credit score of 700 or higher.\n",
    "- They have a steady income of $50,000 or higher.\n",
    "- They have a collateral asset worth $100,000 or higher.\n",
    "\n",
    "**Input:** 3 Integers\n",
    "\n",
    "**Processing:** if else with and operator\n",
    "\n",
    "**Output:** 1 eligibility\n",
    "\n",
    "**Pseudocode:**\n",
    "- First take input from user.\n",
    "- His Credit Score.\n",
    "- His Income.\n",
    "- His Collateral Assets.\n",
    "- now check condition (credit_score >= 700 or income >= 50000 or collateral_assets >= 100000).\n",
    "- if Codition is true print eligible.\n",
    "- if Codition is false print in-eligible.\n",
    "\n",
    "**Code:**"
   ]
  },
  {
   "cell_type": "code",
   "execution_count": null,
   "id": "709da5b3",
   "metadata": {},
   "outputs": [
    {
     "name": "stdout",
     "output_type": "stream",
     "text": [
      "You are Eligible to Recieve loan\n"
     ]
    }
   ],
   "source": [
    "# Developer Name: Muhammad Danyal Aslam\n",
    "\n",
    "\"\"\"\n",
    "Developer Email ID: 11951mda@gmail.com\n",
    "Python IDE: Jupyter Notebook\n",
    "IDE Version: 7.1\n",
    "Program Name: Eligible to loan\n",
    "\"\"\"\n",
    "print(\"Eligibility to vote\")\n",
    "# Taking three inputs\n",
    "credit_score = int(input(\"What is your Credit Score: \"))\n",
    "income = int(input(\"What is your Income in $: \"))\n",
    "collateral_assets = int(input(\"How much is your collateral assets: \"))\n",
    "# Checking condition if any one matches He is eligible to vote\n",
    "if (credit_score >= 700 or income >= 50000 or collateral_assets >= 100000):\n",
    "    print(\"You are Eligible to Recieve loan\")\n",
    "else:\n",
    "    print(\"You are In-Eligible to Recieve loan\")"
   ]
  },
  {
   "cell_type": "markdown",
   "id": "3193dce4",
   "metadata": {},
   "source": [
    "**Not Operator**"
   ]
  },
  {
   "cell_type": "markdown",
   "id": "a4b08940",
   "metadata": {},
   "source": [
    "> This operator reverses the logical state of its operand\n",
    "\n",
    "> If the operand is `True`, `not` makes it `False`, and vice versa\n"
   ]
  },
  {
   "cell_type": "markdown",
   "id": "2a758c18",
   "metadata": {},
   "source": [
    "### **Example 1:**\n",
    "\n",
    "**Code:**"
   ]
  },
  {
   "cell_type": "code",
   "execution_count": null,
   "id": "da04b0fb",
   "metadata": {},
   "outputs": [
    {
     "name": "stdout",
     "output_type": "stream",
     "text": [
      "Let's go for a walk!\n"
     ]
    }
   ],
   "source": [
    "is_raining = False\n",
    "if not is_raining: # Checks if it's not raining (is_raining is False)\n",
    " print(\"Let's go for a walk!\")\n",
    "else:\n",
    " print(\"Stay indoors, it's raining!\")\n"
   ]
  },
  {
   "cell_type": "markdown",
   "id": "24dc5a6a",
   "metadata": {},
   "source": [
    "### **Your Turn Task 1**\n",
    "> **Task:** Write a Python program to check whether a person is not eligible for a discount on a product. A person is not eligible if they do NOT meet any of the following conditions:\n",
    "\n",
    "- They are NOT a student.\n",
    "- They are NOT a senior citizen.\n",
    "- They have NOT made a purchase in the last 30 days.\n",
    "\n",
    "**Input:** 3 \n",
    "string\n",
    "\n",
    "**Processing:** if else with not operator\n",
    "\n",
    "**Output:** 1 eligibility\n",
    "\n",
    "**Pseudocode:**\n",
    "- First take input from user.\n",
    "- Is he Student.\n",
    "- Is he Senior Citizen.\n",
    "- Is he had made purchase in last 30 days.\n",
    "- now check condition not (student == \"yes\" or senior_citizen == \"yes\" or purchase_last_30_days == \"yes\").\n",
    "- if any one is true it will become false.\n",
    "- if not is true if condition will print you are not eligible else if not is false it print you are eligible.\n",
    "\n",
    "**Code:**"
   ]
  },
  {
   "cell_type": "code",
   "execution_count": null,
   "id": "9200f4d5",
   "metadata": {},
   "outputs": [
    {
     "name": "stdout",
     "output_type": "stream",
     "text": [
      "You are eligible for the discount.\n"
     ]
    }
   ],
   "source": [
    "# Developer Name: Muhammad Danyal Aslam\n",
    "\n",
    "\"\"\"\n",
    "Developer Email ID: 11951mda@gmail.com\n",
    "Python IDE: Jupyter Notebook\n",
    "IDE Version: 7.1\n",
    "Program Name: Eligibility for Dicount\n",
    "\"\"\"\n",
    "print(\"Eligibility for Discount\\n\")\n",
    "# Taking Input\n",
    "student = input(\"Are you a student? (yes/no): \")\n",
    "senior_citizen = input(\"Are you a senior citizen? (yes/no): \")\n",
    "purchase_last_30_days = input(\"Have you made a purchase in the last 30 days? (yes/no): \")\n",
    "# Checking Condition if any one is true not_eligible becomes false\n",
    "not_eligible = not (student == \"yes\" or senior_citizen == \"yes\" or purchase_last_30_days == \"yes\")\n",
    "# if not eligible is false person is eligible for discount\n",
    "print(\"You are not eligible for the discount!\" if not_eligible else \"You are eligible for the discount.\")\n"
   ]
  },
  {
   "cell_type": "markdown",
   "id": "ea418708",
   "metadata": {},
   "source": [
    "#<h2  align=\"center\">**Lecture 7**</h2>\n",
    "**18 July 2024**\n",
    "\n",
    "**Thursday**"
   ]
  },
  {
   "cell_type": "markdown",
   "id": "b92b7cf7",
   "metadata": {},
   "source": [
    "\n",
    "#<h2  align=\"center\">**Repitition Structure**</h2>\n",
    "**Definition**\n",
    "\n",
    ">A loop in programming is a control structure that repeatedly \n",
    "executes a block of code as long as a specified condition is True\n",
    "\n",
    "**Use**\n",
    "- While Loop\n",
    "- For loop\n",
    "\n",
    "**Purpose**\n",
    "- The primary purpose of loops is to automate repetitive tasks without \n",
    "having to write the same code multiple times. \n",
    "\n",
    "- Loops help in iterating over data structures (like lists, strings, \n",
    "dictionaries) and executing code blocks until certain conditions are \n",
    "met.\n",
    "\n",
    "**Applications**\n",
    "- Iterating Over Data Structures\n",
    "\n",
    "    Processing items in lists, tuples, dictionaries, and sets.\n",
    "\n",
    "- Data Analysis\n",
    "\n",
    "    Performing operations on datasets, such as filtering, aggregating, and transforming data.\n",
    "\n",
    "- Simulations and Modeling\n",
    "\n",
    "    Running simulations that require multiple iterations.\n",
    "\n",
    "- Generating Sequences\n",
    "\n",
    "    Creating sequences of numbers, strings, or other objects.\n",
    "\n",
    "- Automation\n",
    "\n",
    "    Automating tasks like file processing, web scraping, and batch processing.\n",
    "\n",
    "- Game Development\n",
    "\n",
    "    Managing game loops that handle rendering, updating game states, and processing user input."
   ]
  },
  {
   "cell_type": "markdown",
   "id": "ccbf1bdf",
   "metadata": {},
   "source": [
    "**Main Components of a Loop**\n",
    "- Initialization\n",
    "\n",
    "        Setting up LOOP CONTROL VARIABLE(S) required for the loop\n",
    "- Condition\n",
    "\n",
    "        A test expression that determines whether the loop will continue \n",
    "        executing\n",
    "- Body\n",
    "\n",
    "        The block of code that gets executed repeatedly as long as the \n",
    "        condition is True\n",
    "- Update\n",
    "\n",
    "        Code that updates the LOOP CONTROL VARIABLE(S) to eventually \n",
    "        terminate the loop"
   ]
  },
  {
   "cell_type": "markdown",
   "id": "97b2e76a",
   "metadata": {},
   "source": [
    "<h2 align= center>While loop</h2>"
   ]
  },
  {
   "cell_type": "markdown",
   "id": "967eba8b",
   "metadata": {},
   "source": [
    "**Definition**\n",
    "- A `while` loop repeatedly executes a block of code as long as a \n",
    "condition is True\n",
    "\n",
    "**Suitable to Use**\n",
    "- While loops are useful when you don't know the exact number of \n",
    "iterations beforehand, but have a condition that determines when \n",
    "to stop.\n",
    "\n",
    "**Syntax – while Loop**\n",
    "\n",
    "1. INITIALIZATION\n",
    "2. while CONDITION:\n",
    "3. BODY OF LOOP\n",
    "4. UPDATE\n"
   ]
  },
  {
   "cell_type": "code",
   "execution_count": null,
   "id": "59d323eb",
   "metadata": {},
   "outputs": [
    {
     "name": "stdout",
     "output_type": "stream",
     "text": [
      "1\n",
      "2\n",
      "3\n",
      "4\n",
      "5\n"
     ]
    }
   ],
   "source": [
    "counter = 1 # Initialization\n",
    "while counter <= 5: # While Condition\n",
    "  print(counter) # Body of loop\n",
    "  counter = counter + 1 # counter += 1 # Update Within Body of Loop"
   ]
  },
  {
   "cell_type": "markdown",
   "id": "74d34e9e",
   "metadata": {},
   "source": [
    "### **Example 1:**\n",
    "> **Task:** Print the first five odd numbers on the Output Screen\n",
    "\n",
    "**Code:**"
   ]
  },
  {
   "cell_type": "code",
   "execution_count": null,
   "id": "2da56835",
   "metadata": {},
   "outputs": [
    {
     "name": "stdout",
     "output_type": "stream",
     "text": [
      "1\n",
      "3\n",
      "5\n",
      "7\n",
      "9\n"
     ]
    }
   ],
   "source": [
    "counter = 1\n",
    "while counter <= 9:\n",
    "  print(counter)\n",
    "  counter = counter + 2 # counter += 1"
   ]
  },
  {
   "cell_type": "markdown",
   "id": "8f784865",
   "metadata": {},
   "source": [
    "> **Task:** Printing five times String"
   ]
  },
  {
   "cell_type": "code",
   "execution_count": 3,
   "id": "b27c72e2",
   "metadata": {},
   "outputs": [
    {
     "name": "stdout",
     "output_type": "stream",
     "text": [
      "Allah\n",
      "Allah\n",
      "Allah\n",
      "Allah\n",
      "Allah\n"
     ]
    }
   ],
   "source": [
    "counter = 1\n",
    "while counter <= 5:\n",
    "  print('Allah')\n",
    "  counter = counter + 1 # counter += 1"
   ]
  },
  {
   "cell_type": "markdown",
   "id": "293953e3",
   "metadata": {},
   "source": [
    "> **Task:** Jumping counter 10 times"
   ]
  },
  {
   "cell_type": "code",
   "execution_count": 4,
   "id": "ddefeeaf",
   "metadata": {},
   "outputs": [
    {
     "name": "stdout",
     "output_type": "stream",
     "text": [
      "10\n",
      "20\n",
      "30\n",
      "40\n",
      "50\n"
     ]
    }
   ],
   "source": [
    "counter = 10\n",
    "while counter <= 50:\n",
    "  print(counter)\n",
    "  counter = counter + 10"
   ]
  },
  {
   "cell_type": "markdown",
   "id": "1b3bb93d",
   "metadata": {},
   "source": [
    "> **Task:** Jumping Counters"
   ]
  },
  {
   "cell_type": "code",
   "execution_count": 5,
   "id": "ab0650f6",
   "metadata": {},
   "outputs": [
    {
     "name": "stdout",
     "output_type": "stream",
     "text": [
      "Allah\n",
      "Allah\n",
      "Allah\n"
     ]
    }
   ],
   "source": [
    "counter = 1\n",
    "while counter <= 5:\n",
    "  print('Allah')\n",
    "  counter = counter + 2 # counter += 1 "
   ]
  },
  {
   "cell_type": "markdown",
   "id": "4b3a80cc",
   "metadata": {},
   "source": [
    "> **Task:** Jumping Counters"
   ]
  },
  {
   "cell_type": "code",
   "execution_count": 6,
   "id": "83a55a7f",
   "metadata": {},
   "outputs": [
    {
     "name": "stdout",
     "output_type": "stream",
     "text": [
      "Allah\n",
      "Allah\n"
     ]
    }
   ],
   "source": [
    "counter = 1\n",
    "while counter <= 5:\n",
    "  print('Allah')\n",
    "  counter = counter + 3 # counter += 1"
   ]
  },
  {
   "cell_type": "markdown",
   "id": "70d559b7",
   "metadata": {},
   "source": [
    "> **Task:** Directly Printing Counters with jump of 5"
   ]
  },
  {
   "cell_type": "code",
   "execution_count": 10,
   "id": "c137b205",
   "metadata": {},
   "outputs": [
    {
     "name": "stdout",
     "output_type": "stream",
     "text": [
      "0\n",
      "5\n",
      "10\n",
      "15\n",
      "20\n",
      "25\n"
     ]
    }
   ],
   "source": [
    "counter = 0\n",
    "while counter <= 25:\n",
    "  print(counter)\n",
    "  counter = counter + 5 # counter += 1 "
   ]
  },
  {
   "cell_type": "markdown",
   "id": "de95bd1c",
   "metadata": {},
   "source": [
    "> **Task:** Decrement"
   ]
  },
  {
   "cell_type": "code",
   "execution_count": 25,
   "id": "0db548e9",
   "metadata": {},
   "outputs": [
    {
     "name": "stdout",
     "output_type": "stream",
     "text": [
      "500\n",
      "400\n",
      "300\n",
      "200\n",
      "100\n"
     ]
    }
   ],
   "source": [
    "counter = 500\n",
    "while counter >= 100:\n",
    "  print(counter)\n",
    "  counter = counter - 100  "
   ]
  },
  {
   "cell_type": "markdown",
   "id": "faa8067b",
   "metadata": {},
   "source": [
    "### **Example 2:**\n",
    "> **Task:** Write a program to print table of 2.\n",
    "\n",
    "**Code:**"
   ]
  },
  {
   "cell_type": "code",
   "execution_count": 11,
   "id": "cac332b8",
   "metadata": {},
   "outputs": [
    {
     "name": "stdout",
     "output_type": "stream",
     "text": [
      "2 * 1 = 2\n",
      "2 * 2 = 4\n",
      "2 * 3 = 6\n",
      "2 * 4 = 8\n",
      "2 * 5 = 10\n",
      "2 * 6 = 12\n",
      "2 * 7 = 14\n",
      "2 * 8 = 16\n",
      "2 * 9 = 18\n",
      "2 * 10 = 20\n"
     ]
    }
   ],
   "source": [
    "num = 1\n",
    "while num <= 10:\n",
    "  print(f\"2 * {num} = {2 * num}\")\n",
    "  num += 1\n"
   ]
  },
  {
   "cell_type": "code",
   "execution_count": 12,
   "id": "d724b2eb",
   "metadata": {},
   "outputs": [
    {
     "name": "stdout",
     "output_type": "stream",
     "text": [
      "4 * 5 = 20\n",
      "4 * 6 = 24\n",
      "4 * 7 = 28\n",
      "4 * 8 = 32\n",
      "4 * 9 = 36\n",
      "4 * 10 = 40\n"
     ]
    }
   ],
   "source": [
    "num = 5\n",
    "while num <= 10:\n",
    "  print(f\"4 * {num} = {4 * num}\")\n",
    "  num += 1\n"
   ]
  },
  {
   "cell_type": "code",
   "execution_count": 13,
   "id": "a9198974",
   "metadata": {},
   "outputs": [
    {
     "name": "stdout",
     "output_type": "stream",
     "text": [
      "4 * 5 = 20\n",
      "4 * 7 = 28\n",
      "4 * 9 = 36\n"
     ]
    }
   ],
   "source": [
    "num = 5\n",
    "while num <= 10:\n",
    "  print(f\"4 * {num} = {4 * num}\")\n",
    "  num += 2"
   ]
  },
  {
   "cell_type": "markdown",
   "id": "eb36ff99",
   "metadata": {},
   "source": [
    "### **Example 3:**\n",
    "> **Task:** Calculate Square of a number\n",
    "\n",
    "**Code:**"
   ]
  },
  {
   "cell_type": "code",
   "execution_count": 14,
   "id": "c5f54ea9",
   "metadata": {},
   "outputs": [
    {
     "name": "stdout",
     "output_type": "stream",
     "text": [
      "The square of 6.0 is 36.0.\n"
     ]
    }
   ],
   "source": [
    "number = float(input(\"Enter a number: \"))\n",
    "# Calculate the square of the number\n",
    "square = number ** 2\n",
    "# Print the result\n",
    "print(f\"The square of {number} is {square}.\")"
   ]
  },
  {
   "cell_type": "markdown",
   "id": "cde9b6e7",
   "metadata": {},
   "source": [
    "### **Example 4:**\n",
    "> **Task:** User Driven Programm\n",
    "\n",
    "**Code:**"
   ]
  },
  {
   "cell_type": "code",
   "execution_count": 26,
   "id": "3b3c4291",
   "metadata": {},
   "outputs": [
    {
     "name": "stdout",
     "output_type": "stream",
     "text": [
      "The square of 2.0 is 4.0.\n",
      "The square of 5.0 is 25.0.\n"
     ]
    }
   ],
   "source": [
    "choice = \"yes\"\n",
    "while choice == \"yes\":\n",
    "   # Ask the user to enter a number\n",
    "   number = float(input(\"Enter a number: \"))\n",
    "   # Calculate the square of the number\n",
    "   square = number ** 2\n",
    "   # Print the result\n",
    "   print(f\"The square of {number} is {square}.\")\n",
    "   # Ask the user if (s)he wants to continue\n",
    "   choice = input(\"Do you want to calculate the square of another number? (yes/no): \").strip().lower()"
   ]
  },
  {
   "cell_type": "markdown",
   "id": "cdc7deb3",
   "metadata": {},
   "source": [
    "### **TODO Task 1:**\n",
    "> **Task:** Write a program which prints the first fifty even numbers on the output \n",
    "screen.\n",
    "\n",
    "**Input:** 1 counter\n",
    "\n",
    "**Processing:** while loop\n",
    "\n",
    "**Output:** print() 50 even numbers\n",
    "\n",
    "**Pseudocode:**\n",
    "- Declare a variable named counter.\n",
    "- start a loop to move counter till 100.\n",
    "- use if condition that if counter % 2 == 0.\n",
    "- print it as even.\n",
    "- even counter is printed.\n",
    "- counter is incremented by 1.\n",
    "\n",
    "**Code:**"
   ]
  },
  {
   "cell_type": "code",
   "execution_count": 40,
   "id": "9ff01bc8",
   "metadata": {},
   "outputs": [
    {
     "name": "stdout",
     "output_type": "stream",
     "text": [
      "0\n",
      "2\n",
      "4\n",
      "6\n",
      "8\n",
      "10\n",
      "12\n",
      "14\n",
      "16\n",
      "18\n",
      "20\n",
      "22\n",
      "24\n",
      "26\n",
      "28\n",
      "30\n",
      "32\n",
      "34\n",
      "36\n",
      "38\n",
      "40\n",
      "42\n",
      "44\n",
      "46\n",
      "48\n",
      "50\n",
      "52\n",
      "54\n",
      "56\n",
      "58\n",
      "60\n",
      "62\n",
      "64\n",
      "66\n",
      "68\n",
      "70\n",
      "72\n",
      "74\n",
      "76\n",
      "78\n",
      "80\n",
      "82\n",
      "84\n",
      "86\n",
      "88\n",
      "90\n",
      "92\n",
      "94\n",
      "96\n",
      "98\n",
      "100\n"
     ]
    }
   ],
   "source": [
    "# Developer Name: Muhammad Danyal Aslam\n",
    "\n",
    "\"\"\"\n",
    "Developer Email ID: 11951mda@gmail.com\n",
    "Python IDE: Jupyter Notebook\n",
    "IDE Version: 7.1\n",
    "Program Name: Fifty Even Numbers\n",
    "\"\"\"\n",
    "# Declared a counter variavle\n",
    "counter = 0\n",
    "# Started a loop till 100\n",
    "while(counter <= 100):\n",
    "    # Using if condition for even\n",
    "    if (counter % 2 == 0):\n",
    "        # Printing even\n",
    "        print(counter)\n",
    "    # Incrementing counter to +1\n",
    "    counter += 1\n"
   ]
  },
  {
   "cell_type": "markdown",
   "id": "43b6dbe4",
   "metadata": {},
   "source": [
    "### **TODO Task 2:**\n",
    "> **Task:** Write a program which takes a number as input from user and prints its \n",
    "table on the output screen\n",
    "\n",
    "**Input:** 1 Number\n",
    "\n",
    "**Processing:** While loop\n",
    "\n",
    "**Output:** print() table\n",
    "\n",
    "**Pseudocode:**\n",
    "- Get a number from user for which we have to print the table.\n",
    "- declare a counter to move to 10 till when we want to print table.\n",
    "- Start while loop till 10.\n",
    "- print the table.\n",
    "- increase counter to +1\n",
    "\n",
    "**Code:**"
   ]
  },
  {
   "cell_type": "code",
   "execution_count": 41,
   "id": "a401f789",
   "metadata": {},
   "outputs": [
    {
     "name": "stdout",
     "output_type": "stream",
     "text": [
      "4 x 1 = 4\n",
      "4 x 2 = 8\n",
      "4 x 3 = 12\n",
      "4 x 4 = 16\n",
      "4 x 5 = 20\n",
      "4 x 6 = 24\n",
      "4 x 7 = 28\n",
      "4 x 8 = 32\n",
      "4 x 9 = 36\n",
      "4 x 10 = 40\n"
     ]
    }
   ],
   "source": [
    "# Developer Name: Muhammad Danyal Aslam\n",
    "\n",
    "\"\"\"\n",
    "Developer Email ID: 11951mda@gmail.com\n",
    "Python IDE: Jupyter Notebook\n",
    "IDE Version: 7.1\n",
    "Program Name: Printing Table\n",
    "\"\"\"\n",
    "# Taking number from user for which number we want table\n",
    "number = int(input(\"Enter Number to get it's table: \"))\n",
    "# declare a counter till when we want our table\n",
    "counter = 1\n",
    "# Declare a while loop till 10\n",
    "while counter <= 10:\n",
    "    # printing table\n",
    "    print(f\"{number} x {counter} = {number*counter}\")\n",
    "    # increasing counter to 1\n",
    "    counter += 1"
   ]
  },
  {
   "cell_type": "markdown",
   "id": "2ff18abd",
   "metadata": {},
   "source": [
    "### **TODO Task 3:**\n",
    "> **Task:** Write a program which takes a number as input from user and prints its \n",
    "table on the output screen with upper and lower bound.\n",
    "\n",
    "**Input:** 3 Number, Upper bound, Lower bound\n",
    "\n",
    "**Processing:** while loop\n",
    "\n",
    "**Output:** print() function\n",
    "\n",
    "**Pseudocode:**\n",
    "- Get a number from user for which we have to print the table.\n",
    "- Get upper bound.\n",
    "- Get lower bound\n",
    "- declare a counter from lower bound.\n",
    "- Start while loop till upper bound.\n",
    "- print the table.\n",
    "- increase counter to +1 \n",
    "\n",
    "**Code:**"
   ]
  },
  {
   "cell_type": "code",
   "execution_count": 45,
   "id": "efd581c6",
   "metadata": {},
   "outputs": [
    {
     "name": "stdout",
     "output_type": "stream",
     "text": [
      "2 x 3 = 6\n",
      "2 x 4 = 8\n",
      "2 x 5 = 10\n",
      "2 x 6 = 12\n",
      "2 x 7 = 14\n",
      "2 x 8 = 16\n"
     ]
    }
   ],
   "source": [
    "# Developer Name: Muhammad Danyal Aslam\n",
    "\n",
    "\"\"\"\n",
    "Developer Email ID: 11951mda@gmail.com\n",
    "Python IDE: Jupyter Notebook\n",
    "IDE Version: 7.1\n",
    "Program Name: Table with upper and lower bound\n",
    "\"\"\"\n",
    "\n",
    "\"\"\"\n",
    "Sample Output\n",
    "Enter a number: 10\n",
    "Enter lower bound: 5\n",
    "Enter upper bound: 8\n",
    "10 * 5 = 50\n",
    "10 * 6 = 60\n",
    "10 * 7 = 70\n",
    "10 * 8 = 80\n",
    "\"\"\"\n",
    "# Taking upper lower bound and number from user\n",
    "number = int(input(\"Enter Number to get it's table: \"))\n",
    "counter = int(input(\"Enter Lower bound: \"))\n",
    "upper_bound = int(input(\"Enter Upper Bound: \"))\n",
    "# declairing while loop till upper bound\n",
    "while counter <= upper_bound:\n",
    "    # printing table\n",
    "    print(f\"{number} x {counter} = {number*counter}\")\n",
    "    counter += 1"
   ]
  },
  {
   "cell_type": "markdown",
   "id": "d3a3a40f",
   "metadata": {},
   "source": [
    "### **TODO Task 4A:** \n",
    "> **Task:** Make at least two programs: User Driven Programs, that you have \n",
    "previously done in Selection Structures.\n",
    "\n",
    "**Input:** Five integer Numbers , choice\n",
    "\n",
    "**Processing:** If elif Else with And operator , While loop\n",
    "\n",
    "**Output:** Largest Number , choice\n",
    "\n",
    "**Pseudocode:**\n",
    "- Declare a choice variable and appoint it as yes.\n",
    "- start a while loop which continue when choice is yes.\n",
    "- code is executed.\n",
    "- First get Five numbers input from user.\n",
    "- Now use five conditions to check which number is greatest.\n",
    "- (number_1 > number_2) and (number_1 > number_3) and (number_1 > number_4) and (number_1 > number_5)\n",
    "- (number_2 > number_1) and (number_2 > number_3) and (number_2 > number_4) and (number_2 > number_5)\n",
    "- (number_3 > number_2) and (number_3 > number_1) and (number_3 > number_4) and (number_3 > number_5)\n",
    "- (number_4 > number_2) and (number_4 > number_3) and (number_4 > number_1) and (number_4 > number_5)\n",
    "- (number_5 > number_2) and (number_5 > number_3) and (number_5 > number_4) and (number_5 > number_1)\n",
    "- it is store in largest\n",
    "- it is printed.\n",
    "- Choice is taken from user to repeat the program.\n",
    "- if choice is yes program is repeated."
   ]
  },
  {
   "cell_type": "code",
   "execution_count": 19,
   "id": "342b337c",
   "metadata": {},
   "outputs": [
    {
     "name": "stdout",
     "output_type": "stream",
     "text": [
      "Largest number of 1 2 3 4 5 is:  5\n",
      "Second Largest number of 1 2 3 4 5 is: 4 \n",
      "\n",
      "Largest number of 7826487 213486324 35432652 42 52 is:  213486324\n",
      "Second Largest number of 7826487 213486324 35432652 42 52 is: 7826487 \n",
      "\n"
     ]
    }
   ],
   "source": [
    "# Developer Name: Muhammad Danyal Aslam\n",
    "\n",
    "\"\"\"\n",
    "Developer Email ID: 11951mda@gmail.com\n",
    "Python IDE: Jupyter Notebook\n",
    "IDE Version: 7.1\n",
    "Program Name: Seperation of largest\n",
    "\"\"\"\n",
    "# declairing choice\n",
    "choice = \"yes\"\n",
    "# starting loop for choice == yes\n",
    "while choice == \"yes\":\n",
    "    # (n1 > n2) and (n1 > n3) and (n1 > n4) and (n1 > n5)\n",
    "    # Taking Input\n",
    "    number_1 = int(input(\"Enter First Number: \"))\n",
    "    number_2 = int(input(\"Enter Second Number: \"))\n",
    "    number_3 = int(input(\"Enter Third Number: \"))\n",
    "    number_4 = int(input(\"Enter Fourth Number: \"))\n",
    "    number_5 = int(input(\"Enter Fifth Number: \"))\n",
    "    # Checking If condition for largest\n",
    "    if (number_1 > number_2) and (number_1 > number_3) and (number_1 > number_4) and (number_1 > number_5):\n",
    "       largest = number_1\n",
    "    elif (number_2 > number_1) and (number_2 > number_3) and (number_2 > number_4) and (number_2 > number_5):\n",
    "       largest = number_2\n",
    "    elif (number_3 > number_2) and (number_3 > number_1) and (number_3 > number_4) and (number_3 > number_5):\n",
    "       largest = number_3\n",
    "    elif (number_4 > number_2) and (number_4 > number_3) and (number_4 > number_1) and (number_4 > number_5):\n",
    "       largest = number_4\n",
    "    elif (number_5 > number_2) and (number_5 > number_3) and (number_5 > number_4) and (number_5 > number_1):\n",
    "       largest = number_5\n",
    "    # Printing Largest Number\n",
    "    print(\"Largest number of\",number_1, number_2, number_3, number_4, number_5,\"is: \",largest )\n",
    "    # Checking condition for Second largest\n",
    "    if (number_1 < largest):\n",
    "       second_largest = number_1\n",
    "    if (number_2 < largest) and (number_2 > number_1):\n",
    "       second_largest = number_2\n",
    "    if (number_3 < largest) and (number_3 > number_2) and (number_3 > number_1):\n",
    "       second_largest = number_3\n",
    "    if (number_4 < largest) and (number_4 > number_2) and (number_4 > number_3) and (number_4 > number_1):\n",
    "       second_largest = number_4\n",
    "    if (number_5 > number_2) and (number_5 > number_3) and (number_5 > number_4) and (number_5 > number_1) and (number_5 < largest):\n",
    "       second_largest = number_5\n",
    "    # Printing Second Largest\n",
    "    print(f\"Second Largest number of {number_1}, {number_2}, {number_3}, {number_4}, {number_5} is: {second_largest} \")\n",
    "    # taking choice from user to repeat program\n",
    "    choice = input(\"Do you want to repeat the program (yes/no): \").strip().lower()\n",
    "    print(\"\")"
   ]
  },
  {
   "cell_type": "markdown",
   "id": "088cf3c9",
   "metadata": {},
   "source": [
    "### **TODO Task 4B:** \n",
    "> **Task:** Evaluates a student's grade based on their score and determines their corresponding letter grade.\n",
    "- 90-100: A\n",
    "- 80-89:  B\n",
    "- 70-79:  C\n",
    "- 60-69:  D\n",
    "- 0-59:   F\n",
    "\n",
    "**Input:** 2 Grades , choice\n",
    "\n",
    "**Processing:** If Elif Else , while loop\n",
    "\n",
    "**Output:** 1 \n",
    "- 5 Possibilities.\n",
    "- 90-100: A\n",
    "- 80-89: B\n",
    "- 70-79: C\n",
    "- 60-69: D\n",
    "- 0-59: F\n",
    "\n",
    "**Pseudocode:**\n",
    "\n",
    "- Declare a choice variable and appoint it as yes.\n",
    "- start a while loop which continue when choice is yes.\n",
    "- code is executed.\n",
    "- First take grade from user.\n",
    "- If Condition will be checked.\n",
    "- Grade >= 90: A\n",
    "- Grade >= 80: B\n",
    "- Grade >= 70: C\n",
    "- Grade >= 60: D\n",
    "- Grade <= 59: F\n",
    "- According to condition Grade would be printed\n",
    "- Choice is taken from user to repeat the program.\n",
    "- if choice is yes program is repeated.\n",
    "\n",
    "**Code:**"
   ]
  },
  {
   "cell_type": "code",
   "execution_count": 13,
   "id": "9904b0df",
   "metadata": {},
   "outputs": [
    {
     "name": "stdout",
     "output_type": "stream",
     "text": [
      "Your grade is 'B'\n",
      "\n"
     ]
    }
   ],
   "source": [
    "# Developer Name: Muhammad Danyal Aslam\n",
    "\n",
    "\"\"\"\n",
    "Developer Email ID: 11951mda@gmail.com\n",
    "Python IDE: Jupyter Notebook\n",
    "IDE Version: 7.1\n",
    "Program Name: Grade Evaluation\n",
    "\"\"\"\n",
    "# Creating variable choice for repeating\n",
    "choice = \"yes\"\n",
    "# Starting loop for repeat on choice yes\n",
    "while choice == \"yes\":\n",
    "    # input as Grade from user\n",
    "    Grade = float(input(\"Enter your total percentage to get Grade: \"))\n",
    "    # If condition is checked and grades are printed according to condition\n",
    "    if Grade >= 90:\n",
    "      print(\"Your grade is 'A'\")\n",
    "    elif Grade >= 80:\n",
    "      print(\"Your grade is 'B'\")\n",
    "    elif Grade >= 70:\n",
    "      print(\"Your grade is 'C'\")\n",
    "    elif Grade >= 60:\n",
    "      print(\"Your grade is 'D'\")\n",
    "    elif Grade <= 59:\n",
    "      print(\"Your grade is 'F'\")\n",
    "# Taking choice from user and updating it\n",
    "    choice = input(\"Do you want to repeat the program (yes/no): \").strip().lower()\n",
    "    print(\"\")\n"
   ]
  },
  {
   "cell_type": "markdown",
   "id": "75301b69",
   "metadata": {},
   "source": [
    "### **Your Turn Task 1**\n",
    "> **Task:** Write a program that asks the user to enter a series of numbers and calculates the sum of all the numbers entered. The program should continue to ask for numbers until the user enters a negative number.\n",
    "\n",
    "**Input:** Number\n",
    "\n",
    "**Processing:** Loop\n",
    "\n",
    "**Output:** Sum\n",
    "\n",
    "**Pseudocode:**\n",
    "- Declare an integer number and assigne it to 0.\n",
    "- Start a loop thet moves till number is negative. \n",
    "- Take input from user within loop and sum it with sum that is declared.\n",
    "- Print the number.\n",
    "- If user enters a negative number loop exits and sum is printed.\n",
    "\n",
    "\n",
    "**Code:**"
   ]
  },
  {
   "cell_type": "code",
   "execution_count": 15,
   "id": "cdf98604",
   "metadata": {},
   "outputs": [
    {
     "name": "stdout",
     "output_type": "stream",
     "text": [
      "34\n",
      "12\n",
      "-2\n",
      "Your sum is: 44\n"
     ]
    }
   ],
   "source": [
    "# Developer Name: Muhammad Danyal Aslam\n",
    "\n",
    "\"\"\"\n",
    "Developer Email ID: 11951mda@gmail.com\n",
    "Python IDE: Jupyter Notebook\n",
    "IDE Version: 7.1\n",
    "Program Name: Positive number summation\n",
    "\"\"\"\n",
    "# declairing number\n",
    "number = 0\n",
    "sum = 0\n",
    "# starting while loop for condition till number greator than 0 or non negative\n",
    "while number >= 0:\n",
    "# Getting number from user\n",
    "    number = int(input(\"Enter a number: \"))\n",
    "    # Summing numbers\n",
    "    sum = sum + number\n",
    "    # printing numbers\n",
    "    print(number)\n",
    "# Exitting loop\n",
    "# printing sum\n",
    "print(f\"Your sum is: {sum}\")"
   ]
  },
  {
   "cell_type": "markdown",
   "id": "0ba6c61b",
   "metadata": {},
   "source": [
    "### **Your Turn Task 2**\n",
    "> **Task:** Write a program that prints the first 10 Fibonacci numbers (0, 1, 1, 2, 3, 5, 8, 13, 21, 34).\n",
    "\n",
    "Requirements:\n",
    "\n",
    "- Use a while loop to iterate 10 times\n",
    "- Initialize two variables, a and b, to 0 and 1, respectively\n",
    "- In each iteration, print the current value of a\n",
    "- Update the values of a and b to b and a + b, respectively\n",
    "\n",
    "**Input:** 3 \n",
    "\n",
    "**Processing:** while loop\n",
    "\n",
    "**Output:** 1 print()\n",
    "\n",
    "**Pseudocode:**\n",
    "- Declare three varibles a, b and count.\n",
    "- declare while loop till count till 10.\n",
    "- declare a sum and sum both a and b.\n",
    "- print a.\n",
    "- replace a with b.\n",
    "- replace b with sum.\n",
    "- increment count with 1.\n",
    "\n",
    "**Code:**"
   ]
  },
  {
   "cell_type": "code",
   "execution_count": 11,
   "id": "965c87b0",
   "metadata": {},
   "outputs": [
    {
     "name": "stdout",
     "output_type": "stream",
     "text": [
      "0\n",
      "1\n",
      "1\n",
      "2\n",
      "3\n",
      "5\n",
      "8\n",
      "13\n",
      "21\n",
      "34\n"
     ]
    }
   ],
   "source": [
    "# Developer Name: Muhammad Danyal Aslam\n",
    "\n",
    "\"\"\"\n",
    "Developer Email ID: 11951mda@gmail.com\n",
    "Python IDE: Jupyter Notebook\n",
    "IDE Version: 7.1\n",
    "Program Name: Fibonachi series\n",
    "\"\"\"\n",
    "# Declairing two variables for fibonachi series one to be printed one to be updated\n",
    "a = 0\n",
    "b = 1\n",
    "# declairing count to move loop until we want\n",
    "count = 1\n",
    "# Starting loop\n",
    "while count <= 10:\n",
    "# declairing sum and updating value\n",
    "    sum = a + b\n",
    "# printing a\n",
    "    print(a)\n",
    "    # updating a\n",
    "    a = b\n",
    "    # updating b with sum\n",
    "    b = sum\n",
    "    count += 1\n",
    "# 0, 1, 1, 2, 3, 5, 8, 13, 21, 34\n",
    "    "
   ]
  },
  {
   "cell_type": "markdown",
   "id": "06a753ff",
   "metadata": {},
   "source": [
    "### **Your Turn Task 3**\n",
    "> **Task:** Write a program that prints the first 10 prime numbers.\n",
    "\n",
    "**Input:** 1 how many prime we want to find\n",
    "\n",
    "**Processing:** nested while loop\n",
    "\n",
    "**Output:** prime numbers we wanted\n",
    "\n",
    "**Pseudocode:**\n",
    "- Youtube updated with meta most easy and understandable.\n",
    "- To find prime numbers.\n",
    "- Divide the number with its all divisor number from 1 to number itself.\n",
    "- a prime will only be divided by 1 and itself which will be counted in \"count\".\n",
    "- if count is == 2 it is prime.\n",
    "- if count >= 3 it is not prime and it will be breaked.\n",
    "\n",
    "**Code:**"
   ]
  },
  {
   "cell_type": "code",
   "execution_count": null,
   "id": "a1b7ac0e",
   "metadata": {},
   "outputs": [],
   "source": [
    "# Developer Name: Muhammad Danyal Aslam\n",
    "\n",
    "\"\"\"\n",
    "Developer Email ID: 11951mda@gmail.com\n",
    "Python IDE: Jupyter Notebook\n",
    "IDE Version: 7.1\n",
    "Program Name: Grade Evaluation\n",
    "\"\"\"\n",
    "# number from which we want to start finding prime which will be updated at the last of body of code\n",
    "number = 2\n",
    "# declare prime_count to count prime until we want\n",
    "prime_count = 0\n",
    "# outter loop to run till we want prime numbers\n",
    "while prime_count < 5:\n",
    "    # divisor that starts from one in every cycle of outter loop\n",
    "    divisor = 1\n",
    "    # count declared to be used in the inner loop\n",
    "    count = 0\n",
    "    # inner loop which divide number with all it's divisor from 1 till the number\n",
    "    while divisor <= number:\n",
    "        # condition if divisor divides the number and give zero remainder it will becounted +1\n",
    "        if number % divisor == 0:\n",
    "            count += 1\n",
    "            # if count >= 3 loop will discontinue\n",
    "            if count >= 3:\n",
    "                break\n",
    "            # inner loop increment of divisor\n",
    "        divisor += 1\n",
    "        # checking condition for count == 2 (only possible for prime) and printing number\n",
    "    if count == 2:\n",
    "        print(number)\n",
    "        prime_count += 1\n",
    "    number += 1\n"
   ]
  },
  {
   "cell_type": "markdown",
   "id": "0b13ff4d",
   "metadata": {},
   "source": [
    "#<h2  align=\"center\">**Lecture 8**</h2>\n",
    "**20 July 2024**\n",
    "\n",
    "**Saturday**"
   ]
  },
  {
   "cell_type": "markdown",
   "id": "dac4862c",
   "metadata": {},
   "source": [
    "\n",
    "#<h2  align=\"center\">**Repitition Structure - For Loop**</h2>\n",
    "\n",
    "**Definition**\n",
    "\n",
    "- A `for` loop in Python is a control flow statement used to iterate over \n",
    "a sequence (such as a list, tuple, dictionary, set, or string) or any \n",
    "other iterable object. \n",
    "- It allows you to execute a block of code multiple times, once for each \n",
    "item in the sequence.\n",
    "\n",
    "**Purpose**\n",
    "\n",
    "- The primary purpose of a `for` loop is to automate and repeat tasks \n",
    "efficiently. It is commonly used to:\n",
    "\n",
    "    ▪ Iterate through elements of a collection.\n",
    "\n",
    "    ▪ Execute a block of code for each item in a sequence.\n",
    "\n",
    "    ▪ Reduce the amount of code needed for repetitive tasks.\n",
    "\n",
    "    ▪ Perform operations like traversing lists, processing items in a \n",
    "    collection, and generating sequences.\n",
    "\n",
    "**Suitable to Use**\n",
    "\n",
    "- A `for` loop is suitable to use when:\n",
    "\n",
    "    ▪ You know in advance the number of iterations (i.e., you need \n",
    "    to iterate over all items in a collection).\n",
    "\n",
    "**Syntax**\n",
    "\n",
    "\n",
    "\"\n",
    "\n",
    "for variable in iterable:\n",
    "\n",
    "        do something with variable\n",
    "\"\n",
    "\n",
    "Where:\n",
    "\n",
    "- variable is the name given to the variable that will take on the value of each item in the sequence during each iteration\n",
    "- iterable is the sequence (list, tuple, string, etc.) that you want to iterate over\n",
    "\n",
    "\n"
   ]
  },
  {
   "cell_type": "code",
   "execution_count": 2,
   "id": "62936c52",
   "metadata": {},
   "outputs": [
    {
     "name": "stdout",
     "output_type": "stream",
     "text": [
      "1\n",
      "2\n",
      "3\n"
     ]
    }
   ],
   "source": [
    "# Iterate through a sequence of numbers \n",
    "# numbers = [1, 2, 3, 4, 5]\n",
    "numbers = [1, 2, 3]\n",
    "for num in numbers:\n",
    "  print(num)"
   ]
  },
  {
   "cell_type": "code",
   "execution_count": 3,
   "id": "6db382d4",
   "metadata": {},
   "outputs": [
    {
     "name": "stdout",
     "output_type": "stream",
     "text": [
      "80.5\n",
      "30.7\n",
      "90.3\n"
     ]
    }
   ],
   "source": [
    "# Iterate through a sequence of floats\n",
    "marks = [80.5, 30.7, 90.3]\n",
    "for num in marks:\n",
    "  print(num)"
   ]
  },
  {
   "cell_type": "code",
   "execution_count": 4,
   "id": "1fe92100",
   "metadata": {},
   "outputs": [
    {
     "name": "stdout",
     "output_type": "stream",
     "text": [
      "apple\n",
      "banana\n",
      "cherry\n"
     ]
    }
   ],
   "source": [
    "# Iterate through a sequence of strings\n",
    "# fruits = [\"apple\", \"banana\", \"cherry\", “grape”, “pineapples”]\n",
    "fruits = [\"apple\", \"banana\", \"cherry\"]\n",
    "for fruit in fruits:\n",
    "  print(fruit)"
   ]
  },
  {
   "cell_type": "markdown",
   "id": "89e8f2ad",
   "metadata": {},
   "source": [
    "<h2 align= center>Range Function and For Loop</h2>"
   ]
  },
  {
   "cell_type": "markdown",
   "id": "fd64dd2e",
   "metadata": {},
   "source": [
    "- To iterate over a range in Python using a `for` loop, you can use the \n",
    "  `range()` function\n",
    "\n",
    "- The `range()` function generates a \n",
    "    \n",
    "    - sequence of numbers, which you can then iterate over with a `for` \n",
    "    loop.\n"
   ]
  },
  {
   "cell_type": "markdown",
   "id": "78d13c65",
   "metadata": {},
   "source": [
    "**Syntax – range() Function and for Loop**\n",
    "\n",
    "\"\"\"\n",
    "\n",
    "for variable in range(start, stop, step):\n",
    "\n",
    "-        # Code block to execute\n",
    "\n",
    "\"\"\"\n",
    "\n",
    "- `start` (optional)\n",
    "    - The starting value of the sequence (inclusive)\n",
    "    - The default is 0\n",
    "- `stop` (required)\n",
    "    - The end value of the sequence (exclusive)\n",
    "- `step` (optional)\n",
    "    - The difference between each number in the sequence\n",
    "    - The default is 1"
   ]
  },
  {
   "cell_type": "markdown",
   "id": "7815627c",
   "metadata": {},
   "source": [
    "### **Example 1:**\n",
    "\n",
    "**Code:**"
   ]
  },
  {
   "cell_type": "code",
   "execution_count": 5,
   "id": "5fad074c",
   "metadata": {},
   "outputs": [
    {
     "name": "stdout",
     "output_type": "stream",
     "text": [
      "0\n",
      "1\n",
      "2\n"
     ]
    }
   ],
   "source": [
    "# Only Stop value\n",
    "for counter in range(3):\n",
    "  print(counter)"
   ]
  },
  {
   "cell_type": "code",
   "execution_count": 6,
   "id": "762ace73",
   "metadata": {},
   "outputs": [
    {
     "name": "stdout",
     "output_type": "stream",
     "text": [
      "1\n",
      "2\n",
      "3\n"
     ]
    }
   ],
   "source": [
    "# Stop and start value of range\n",
    "for counter in range(1, 4):\n",
    "  print(counter)"
   ]
  },
  {
   "cell_type": "code",
   "execution_count": 7,
   "id": "a734b63e",
   "metadata": {},
   "outputs": [
    {
     "name": "stdout",
     "output_type": "stream",
     "text": [
      "1\n",
      "3\n",
      "5\n"
     ]
    }
   ],
   "source": [
    "# stop start and step all three value of range\n",
    "for counter in range(1, 6, 2):\n",
    "  print(counter)"
   ]
  },
  {
   "cell_type": "markdown",
   "id": "19f54aa9",
   "metadata": {},
   "source": [
    "### **Example 2:**"
   ]
  },
  {
   "cell_type": "code",
   "execution_count": 14,
   "id": "771026df",
   "metadata": {},
   "outputs": [
    {
     "name": "stdout",
     "output_type": "stream",
     "text": [
      "0- Allah\n",
      "1- Allah\n",
      "2- Allah\n",
      "3- Allah\n",
      "4- Allah\n"
     ]
    }
   ],
   "source": [
    "for counter in range(5):\n",
    "  print(f\"{counter}- Allah\")"
   ]
  },
  {
   "cell_type": "code",
   "execution_count": 15,
   "id": "f9b48eb1",
   "metadata": {},
   "outputs": [
    {
     "name": "stdout",
     "output_type": "stream",
     "text": [
      "1- Allah\n",
      "2- Allah\n",
      "3- Allah\n",
      "4- Allah\n"
     ]
    }
   ],
   "source": [
    "# increment of 1\n",
    "for counter in range(1, 5):\n",
    "  print(f'{counter}- Allah')"
   ]
  },
  {
   "cell_type": "code",
   "execution_count": 16,
   "id": "53a6239e",
   "metadata": {},
   "outputs": [
    {
     "name": "stdout",
     "output_type": "stream",
     "text": [
      "1- Allah\n",
      "3- Allah\n"
     ]
    }
   ],
   "source": [
    "# increment of 2\n",
    "for counter in range(1, 5, 2):\n",
    "  print(f'{counter}- Allah')"
   ]
  },
  {
   "cell_type": "code",
   "execution_count": 17,
   "id": "47c4095b",
   "metadata": {},
   "outputs": [
    {
     "name": "stdout",
     "output_type": "stream",
     "text": [
      "1\n",
      "6\n",
      "11\n",
      "16\n",
      "21\n",
      "26\n"
     ]
    }
   ],
   "source": [
    "# increment of 5\n",
    "for counter in range(1,30, 5):\n",
    "  print(counter)"
   ]
  },
  {
   "cell_type": "code",
   "execution_count": 18,
   "id": "d54d62ac",
   "metadata": {},
   "outputs": [
    {
     "name": "stdout",
     "output_type": "stream",
     "text": [
      "0\n",
      "10\n",
      "20\n"
     ]
    }
   ],
   "source": [
    "# Increment of 10\n",
    "for counter in range(0,30, 10):\n",
    "  print(counter)\n"
   ]
  },
  {
   "cell_type": "code",
   "execution_count": 21,
   "id": "cd52932f",
   "metadata": {},
   "outputs": [
    {
     "name": "stdout",
     "output_type": "stream",
     "text": [
      "10\n",
      "9\n",
      "8\n",
      "7\n",
      "6\n",
      "5\n",
      "4\n",
      "3\n",
      "2\n",
      "1\n"
     ]
    }
   ],
   "source": [
    "# decrementing value\n",
    "for counter in range(10, 0, -1):\n",
    "  print(counter)\n"
   ]
  },
  {
   "cell_type": "code",
   "execution_count": 22,
   "id": "512ccdb0",
   "metadata": {},
   "outputs": [
    {
     "name": "stdout",
     "output_type": "stream",
     "text": [
      "10\n",
      "7\n",
      "4\n"
     ]
    }
   ],
   "source": [
    "# decrementing by 3\n",
    "for counter in range(10, 2, -3):\n",
    "  print(counter)"
   ]
  },
  {
   "cell_type": "markdown",
   "id": "e1c674ac",
   "metadata": {},
   "source": [
    "### **Example 3:**\n",
    "> **Task:** Write a program to print table of 2.\n",
    "\n",
    "**Code:**"
   ]
  },
  {
   "cell_type": "code",
   "execution_count": 19,
   "id": "8c5320a7",
   "metadata": {},
   "outputs": [
    {
     "name": "stdout",
     "output_type": "stream",
     "text": [
      "2 * 1 = 2\n",
      "2 * 2 = 4\n",
      "2 * 3 = 6\n",
      "2 * 4 = 8\n",
      "2 * 5 = 10\n",
      "2 * 6 = 12\n",
      "2 * 7 = 14\n",
      "2 * 8 = 16\n",
      "2 * 9 = 18\n",
      "2 * 10 = 20\n"
     ]
    }
   ],
   "source": [
    "for num in range(1, 11):\n",
    "  print(f\"2 * {num} = {2 * num}\")\n"
   ]
  },
  {
   "cell_type": "code",
   "execution_count": 20,
   "id": "334a8237",
   "metadata": {},
   "outputs": [
    {
     "name": "stdout",
     "output_type": "stream",
     "text": [
      "5 * 5 = 25\n",
      "5 * 6 = 30\n",
      "5 * 7 = 35\n",
      "5 * 8 = 40\n"
     ]
    }
   ],
   "source": [
    "# with start and stop value\n",
    "for num in range(5, 9):\n",
    "  print(f\"5 * {num} = {5 * num}\")\n"
   ]
  },
  {
   "cell_type": "code",
   "execution_count": null,
   "id": "4c3557a0",
   "metadata": {},
   "outputs": [],
   "source": [
    "# with start stop and step value\n",
    "for num in range(5, 9, 2):\n",
    "  print(f\"5 * {num} = {5 * num}\")"
   ]
  },
  {
   "cell_type": "code",
   "execution_count": 23,
   "id": "30652c3a",
   "metadata": {},
   "outputs": [
    {
     "name": "stdout",
     "output_type": "stream",
     "text": [
      "45 * 1 = 45\n",
      "45 * 2 = 90\n",
      "45 * 3 = 135\n",
      "45 * 4 = 180\n",
      "45 * 5 = 225\n",
      "45 * 6 = 270\n",
      "45 * 7 = 315\n",
      "45 * 8 = 360\n",
      "45 * 9 = 405\n",
      "45 * 10 = 450\n"
     ]
    }
   ],
   "source": [
    "# Take a number as input from user\n",
    "number = int(input(\"Enter a number: \"))\n",
    "# Print table of number\n",
    "for num in range(1, 11):\n",
    "  print(f\"{number} * {num} = {number * num}\")"
   ]
  },
  {
   "cell_type": "markdown",
   "id": "ba3ef8d7",
   "metadata": {},
   "source": [
    "### **Example 4:**\n",
    "> **Task:** User driven and nested loop\n",
    "\n",
    "**Code:**"
   ]
  },
  {
   "cell_type": "code",
   "execution_count": 26,
   "id": "9d5817f7",
   "metadata": {},
   "outputs": [
    {
     "name": "stdout",
     "output_type": "stream",
     "text": [
      "3 * 1 = 3\n",
      "3 * 2 = 6\n",
      "3 * 3 = 9\n",
      "3 * 4 = 12\n",
      "3 * 5 = 15\n",
      "3 * 6 = 18\n",
      "3 * 7 = 21\n",
      "3 * 8 = 24\n",
      "3 * 9 = 27\n",
      "3 * 10 = 30\n",
      "\n",
      "2 * 1 = 2\n",
      "2 * 2 = 4\n",
      "2 * 3 = 6\n",
      "2 * 4 = 8\n",
      "2 * 5 = 10\n",
      "2 * 6 = 12\n",
      "2 * 7 = 14\n",
      "2 * 8 = 16\n",
      "2 * 9 = 18\n",
      "2 * 10 = 20\n",
      "\n"
     ]
    }
   ],
   "source": [
    "choice = \"yes\"\n",
    "while choice == \"yes\":\n",
    "  number = int(input(\"Enter a number: \"))\n",
    "# Print table of number\n",
    "  for num in range(1, 11):\n",
    "    print(f\"{number} * {num} = {number * num}\")\n",
    "   \n",
    "  # Ask the user if (s)he wants to continue\n",
    "  choice = input(\"Do you want to calculate the square of another number? (yes/no): \").strip().lower()\n",
    "  print(\"\")\n"
   ]
  },
  {
   "cell_type": "markdown",
   "id": "1859ef86",
   "metadata": {},
   "source": [
    "### **TODO Task 1:**\n",
    "> **Task:** Write a program which prints the first fifty even numbers on the output \n",
    "screen.\n",
    "\n",
    "**Input:** 1 number\n",
    "\n",
    "**Processing:** for loop\n",
    "\n",
    "**Output:** 50 even numbers printed\n",
    "\n",
    "**Pseudocode:**\n",
    "- declare a for loop with a number and use range function from 0 to 100.\n",
    "- Using If Condition if number % 2 == 0 then print number.\n",
    "\n",
    "**Code:**"
   ]
  },
  {
   "cell_type": "code",
   "execution_count": 1,
   "id": "6e114dd8",
   "metadata": {},
   "outputs": [
    {
     "name": "stdout",
     "output_type": "stream",
     "text": [
      "0\n",
      "2\n",
      "4\n",
      "6\n",
      "8\n",
      "10\n",
      "12\n",
      "14\n",
      "16\n",
      "18\n",
      "20\n",
      "22\n",
      "24\n",
      "26\n",
      "28\n",
      "30\n",
      "32\n",
      "34\n",
      "36\n",
      "38\n",
      "40\n",
      "42\n",
      "44\n",
      "46\n",
      "48\n",
      "50\n",
      "52\n",
      "54\n",
      "56\n",
      "58\n",
      "60\n",
      "62\n",
      "64\n",
      "66\n",
      "68\n",
      "70\n",
      "72\n",
      "74\n",
      "76\n",
      "78\n",
      "80\n",
      "82\n",
      "84\n",
      "86\n",
      "88\n",
      "90\n",
      "92\n",
      "94\n",
      "96\n",
      "98\n"
     ]
    }
   ],
   "source": [
    "# Developer Name: Muhammad Danyal Aslam\n",
    "\n",
    "\"\"\"\n",
    "Developer Email ID: 11951mda@gmail.com\n",
    "Python IDE: Jupyter Notebook\n",
    "IDE Version: 7.1\n",
    "Program Name: First fifty even numbers\n",
    "\"\"\"\n",
    "# Declairing a for loop from 0 to 100\n",
    "for number in range(0 , 100):\n",
    "    # Using Condition to print numbers that are only number % 2 == 0\n",
    "    if number % 2 == 0:\n",
    "        print(number)"
   ]
  },
  {
   "cell_type": "markdown",
   "id": "55eb615d",
   "metadata": {},
   "source": [
    "### **TODO Task 2:**\n",
    "> **Task:** Write a program which takes a number as input from user and prints its \n",
    "table on the output screen.\n",
    "\n",
    "**Input:** 1 number\n",
    "\n",
    "**Processing:** for loop\n",
    "\n",
    "**Output:** 1 print() table\n",
    "\n",
    "**Pseudocode:**\n",
    "- Take number from user.\n",
    "- declare a for loop of times which moves from 1 to 10 and increment of +1.\n",
    "- in loop print table multiplying number with times.\n",
    "\n",
    "**Code:**"
   ]
  },
  {
   "cell_type": "code",
   "execution_count": 2,
   "id": "e9028326",
   "metadata": {},
   "outputs": [
    {
     "name": "stdout",
     "output_type": "stream",
     "text": [
      "\n",
      "Table of 5 is: \n",
      "\n",
      "5 x 1 = 5\n",
      "5 x 2 = 10\n",
      "5 x 3 = 15\n",
      "5 x 4 = 20\n",
      "5 x 5 = 25\n",
      "5 x 6 = 30\n",
      "5 x 7 = 35\n",
      "5 x 8 = 40\n",
      "5 x 9 = 45\n",
      "5 x 10 = 50\n",
      "\n"
     ]
    }
   ],
   "source": [
    "# Developer Name: Muhammad Danyal Aslam\n",
    "\n",
    "\"\"\"\n",
    "Developer Email ID: 11951mda@gmail.com\n",
    "Python IDE: Jupyter Notebook\n",
    "IDE Version: 7.1\n",
    "Program Name: Printing Table\n",
    "\"\"\"\n",
    "# Taking number from user\n",
    "number = int(input(\"Enter number to print it's table: \"))\n",
    "print(\"\")\n",
    "print(f\"Table of {number} is: \")\n",
    "print(\"\")\n",
    "# Declairing a for loop name times from 1 to 10\n",
    "for times in range(1,11):\n",
    "    # Printing table\n",
    "    print(f\"{number} x {times} = {number*times}\")\n",
    "    # Giving space between tables in case of multiple tables\n",
    "print(\"\")\n",
    "    "
   ]
  },
  {
   "cell_type": "markdown",
   "id": "523bf6ff",
   "metadata": {},
   "source": [
    "### **TODO Task 3:**\n",
    "> **Task:** Write a program which takes a number, lower bound, and upper bound as \n",
    "input from user, and prints its table on the output screen according to \n",
    "lower bound and upper bound.\n",
    "\n",
    "**Input:** 3 number, Upper bound, Lower bound\n",
    "\n",
    "**Processing:** for loop\n",
    "\n",
    "**Output:** 1 print() table\n",
    "\n",
    "**Pseudocode:**\n",
    "- Take number, Upper bound, and lower bound from user.\n",
    "- declare a for loop of times which moves from lower_bound to upper_bound and increment of +1.\n",
    "- in loop print table multiplying number with times.\n",
    "\n",
    "**Code:**"
   ]
  },
  {
   "cell_type": "code",
   "execution_count": 2,
   "id": "0a638304",
   "metadata": {},
   "outputs": [
    {
     "name": "stdout",
     "output_type": "stream",
     "text": [
      "\n",
      "Table of 3 is: \n",
      "\n",
      "3 x 2 = 6\n",
      "3 x 3 = 9\n",
      "3 x 4 = 12\n",
      "3 x 5 = 15\n",
      "3 x 6 = 18\n",
      "\n"
     ]
    }
   ],
   "source": [
    "# Developer Name: Muhammad Danyal Aslam\n",
    "\n",
    "\"\"\"\n",
    "Developer Email ID: 11951mda@gmail.com\n",
    "Python IDE: Jupyter Notebook\n",
    "IDE Version: 7.1\n",
    "Program Name: Printing Table with upper bound and lower bound\n",
    "\"\"\"\n",
    "# Taking number, lower_bound and upper_bound from user\n",
    "number = int(input(\"Enter number to print it's table: \"))\n",
    "lower_bound = int(input(\"Enter lower bound of table: \"))\n",
    "upper_bound = int(input(\"Enter upper bound of table: \"))\n",
    "print(\"\")\n",
    "print(f\"Table of {number} is: \")\n",
    "print(\"\")\n",
    "# Starting for loop times from lower_bound to upper_bound\n",
    "for times in range(lower_bound,upper_bound+1):\n",
    "    # Printing Table\n",
    "    print(f\"{number} x {times} = {number*times}\")\n",
    "print(\"\")\n",
    "    "
   ]
  },
  {
   "cell_type": "markdown",
   "id": "b0391882",
   "metadata": {},
   "source": [
    "### **TODO Task 4A:**\n",
    "> **Task:** Write a program that prints the first 10 prime numbers.\n",
    "\n",
    "**Input:** 1 how many prime we want to find\n",
    "\n",
    "**Processing:** nested while loop\n",
    "\n",
    "**Output:** prime numbers we wanted\n",
    "\n",
    "**Pseudocode:**\n",
    "- Youtube updated with meta most easy and understandable.\n",
    "- To find prime numbers.\n",
    "- Divide the number with its all divisor number from 1 to number itself.\n",
    "- a prime will only be divided by 1 and itself which will be counted in \"count\".\n",
    "- if count is == 2 it is prime.\n",
    "- if count >= 3 it is not prime and it will be breaked.\n",
    "\n",
    "**Code:**"
   ]
  },
  {
   "cell_type": "code",
   "execution_count": 7,
   "id": "fdfa0dfb",
   "metadata": {},
   "outputs": [
    {
     "name": "stdout",
     "output_type": "stream",
     "text": [
      "2\n",
      "3\n",
      "5\n",
      "7\n",
      "11\n",
      "13\n",
      "\n"
     ]
    }
   ],
   "source": [
    "# Developer Name: Muhammad Danyal Aslam\n",
    "\n",
    "\"\"\"\n",
    "Developer Email ID: 11951mda@gmail.com\n",
    "Python IDE: Jupyter Notebook\n",
    "IDE Version: 7.1\n",
    "Program Name: Prime Number\n",
    "\"\"\"\n",
    "# Choice with loop to repeat the program\n",
    "choice = \"yes\"\n",
    "while choice == \"yes\":\n",
    "  # declairing number and prime and taking from user\n",
    "  number = 2\n",
    "  prime = 1\n",
    "  numbers = int(input(\"How many prime numbers do you want to print: \"))\n",
    "  # outter while codition\n",
    "  while prime <= numbers:\n",
    "      count = 0\n",
    "      # inner for loop\n",
    "      for divisor in range(1,number+1,1):\n",
    "          if number % divisor == 0:\n",
    "              count += 1\n",
    "              if count >= 3:\n",
    "                  break\n",
    "      if count == 2:\n",
    "          print(number)\n",
    "          prime += 1\n",
    "      number += 1\n",
    "  choice = input(\"Do you want to repeat the program (yes/no): \")\n",
    "  print(\"\")"
   ]
  },
  {
   "cell_type": "markdown",
   "id": "4afa78a1",
   "metadata": {},
   "source": [
    "### **TODO Task 4B:**\n",
    "> **Task:** Write a program that prints the first 10 Fibonacci numbers (0, 1, 1, 2, 3, 5, 8, 13, 21, 34).\n",
    "\n",
    "Requirements:\n",
    "\n",
    "- Use a while loop to iterate 10 times\n",
    "- Initialize two variables, a and b, to 0 and 1, respectively\n",
    "- In each iteration, print the current value of a\n",
    "- Update the values of a and b to b and a + b, respectively\n",
    "\n",
    "**Input:** 3 \n",
    "\n",
    "**Processing:** while loop\n",
    "\n",
    "**Output:** 1 print()\n",
    "\n",
    "**Pseudocode:**\n",
    "- Declare three varibles a, b and count.\n",
    "- declare while loop till count till 10.\n",
    "- declare a sum and sum both a and b.\n",
    "- print a.\n",
    "- replace a with b.\n",
    "- replace b with sum.\n",
    "- increment count with 1.\n",
    "\n",
    "**Code:**"
   ]
  },
  {
   "cell_type": "code",
   "execution_count": null,
   "id": "2fb539b9",
   "metadata": {},
   "outputs": [],
   "source": [
    "# Developer Name: Muhammad Danyal Aslam\n",
    "\n",
    "\"\"\"\n",
    "Developer Email ID: 11951mda@gmail.com\n",
    "Python IDE: Jupyter Notebook\n",
    "IDE Version: 7.1\n",
    "Program Name: Fibonachi series\n",
    "\"\"\"\n",
    "# choice with while loop for repeat of program\n",
    "choice = \"yes\"\n",
    "while choice == \"yes\":\n",
    "  # two variables a and b for series one for printing other for upgrade\n",
    "  a = 0\n",
    "  b = 1\n",
    "  numbers = int(input(\"How many fibonachi numbers do you want to print: \"))\n",
    "  for series in range(numbers):\n",
    "      # sum to store before upgrading b\n",
    "      sum = a+b\n",
    "      print(a)\n",
    "      a = b\n",
    "      b = sum\n",
    "  print(\"\")\n",
    "  choice = input(\"Do you want to repeat the program (yes/no): \")"
   ]
  },
  {
   "cell_type": "markdown",
   "id": "16018f19",
   "metadata": {},
   "source": [
    "### **Your Turn Task 1**\n",
    "> **Task:** Printing Factorial of Number\n",
    "\n",
    "**Input:** 1 Number\n",
    "\n",
    "**Processing:** For Loop\n",
    "\n",
    "**Output:** print()\n",
    "\n",
    "**Pseudocode:**\n",
    "- Take input from user about number which we need factorial\n",
    "- Declairing factorial and start value.\n",
    "- Starting for loop which moves from 1 to number.\n",
    "- upgrading factorial by multiplying it with it's previous number. \n",
    "- at end of loop printing factorial.\n",
    "\n",
    "**Code:**"
   ]
  },
  {
   "cell_type": "code",
   "execution_count": 5,
   "id": "9fc2310b",
   "metadata": {},
   "outputs": [
    {
     "name": "stdout",
     "output_type": "stream",
     "text": [
      "5040\n"
     ]
    }
   ],
   "source": [
    "# Developer Name: Muhammad Danyal Aslam\n",
    "\n",
    "\"\"\"\n",
    "Developer Email ID: 11951mda@gmail.com\n",
    "Python IDE: Jupyter Notebook\n",
    "IDE Version: 7.1\n",
    "Program Name: Factorial\n",
    "\"\"\"\n",
    "# Getting Number for factorial\n",
    "number = int(input(\"Enter number to get it's Factorial: \"))\n",
    "# declairing factorial and assining it value of number\n",
    "factorial = number\n",
    "# Declairing a loop from 1 as factorial is till multiplication of one\n",
    "for series in range(1, number):\n",
    "    # updating factorial and multiplying it with previous numbers\n",
    "    factorial = factorial * series\n",
    "# at end of loop printing factorial\n",
    "print (factorial)"
   ]
  },
  {
   "cell_type": "markdown",
   "id": "4f1abb34",
   "metadata": {},
   "source": [
    "#<h2  align=\"center\">**Lecture 9**</h2>\n",
    "**23 July 2024**\n",
    "\n",
    "**Tuesday**"
   ]
  },
  {
   "cell_type": "markdown",
   "id": "01e07106",
   "metadata": {},
   "source": [
    "\n",
    "\n",
    "\n",
    "\n",
    "\n",
    "#<h2  align=\"center\">**Nested Loops**</h2>\n",
    "\n",
    ">**Definition**\n",
    "\n",
    "- In Python, nested loops involve placing one or more loop iterations \n",
    "(usually a `for` or `while` loop) within the body of another loop.  \n",
    "\n",
    "- This creates a structure where the inner loop executes multiple times \n",
    "for each execution of the outer loop. \n",
    "\n",
    ">**Purpose**\n",
    "\n",
    "- Nested  loops  are  employed  to  iterate  over  multidimensional  data \n",
    "structures  or  perform  repetitive  tasks  that  depend  on  outer  loop \n",
    "iterations.  \n",
    "\n",
    "- They  enable  you  to  efficiently  process  data  with  nested  structures \n",
    "like matrices, grids, or hierarchical relationships. \n",
    "\n",
    ">**Importance**\n",
    "\n",
    "- Nested loops are fundamental building blocks for various \n",
    "programming tasks, particularly when dealing with: \n",
    "\n",
    "        ▪ Multidimensional Data \n",
    "\n",
    "- Traversing rows and columns of matrices, tables, or images. \n",
    "\n",
    "        ▪ Algorithms \n",
    "\n",
    "- Implementing  sorting  algorithms  (e.g.,  bubble  sort,  nested \n",
    "selection sort) or dynamic programming techniques. \n",
    "\n",
    "        ▪ Game Development \n",
    "\n",
    "- Simulating game mechanics that involve interactions between \n",
    "multiple elements (e.g., iterating over enemies and their \n",
    "actions within a game world). \n",
    "\n",
    "        ▪ Data Processing \n",
    "\n",
    "- Analyzing  nested  data  structures  like  log  files  or  web  page \n",
    "structures. \n",
    "\n",
    ">**Applications**\n",
    "\n",
    "        ▪ Matrix Operations \n",
    "\n",
    "- Performing addition, subtraction, multiplication, or \n",
    "other calculations on elements in matrices. \n",
    "\n",
    "        ▪ 2D Game Development \n",
    "\n",
    "- Moving game characters or objects across a grid-based \n",
    "game world. \n",
    "\n",
    "        ▪ Image Processing \n",
    "\n",
    "- Applying  filters  or  transformations  to  each  pixel  in  an \n",
    "image. \n",
    "\n",
    "       ▪ File Processing \n",
    "\n",
    "- Reading  and  manipulating  data  from  files  with  nested \n",
    "structures (e.g., CSV files with rows and columns). \n",
    "\n",
    "        ▪ Data Validation \n",
    "\n",
    "- Checking  each  element  in  a  dataset  against  specific \n",
    "criteria."
   ]
  },
  {
   "cell_type": "markdown",
   "id": "c9dd3a1b",
   "metadata": {},
   "source": [
    "### **Example 1:**\n",
    "> **Task:** Print pattern: Use a for loop to print a pattern like this:\n",
    "\n",
    "'*'\n",
    "\n",
    "'* *'\n",
    "\n",
    "'* * *'\n",
    "\n",
    "'* * * *'\n",
    "\n",
    "'* * * * *'\n",
    " \n",
    "\n",
    "**Input:**\n",
    "\n",
    "**Processing:**\n",
    "\n",
    "**Output:**\n",
    "\n",
    "**Code:**"
   ]
  },
  {
   "cell_type": "code",
   "execution_count": 4,
   "id": "7dc11a37",
   "metadata": {},
   "outputs": [
    {
     "name": "stdout",
     "output_type": "stream",
     "text": [
      "*\n",
      "**\n",
      "***\n",
      "****\n"
     ]
    }
   ],
   "source": [
    "for i in range(1,5):\n",
    "    for j in range(1,i+1):\n",
    "        print(\"*\",end=\"\")\n",
    "    print(\"\")\n",
    "    "
   ]
  },
  {
   "cell_type": "markdown",
   "id": "8001ddf6",
   "metadata": {},
   "source": [
    "### **Example 2:**\n",
    "> **Task:** Printing the following Pattern on Output Screen. \n",
    " \n",
    "'* * * * *'\n",
    "\n",
    "'* * * *'\n",
    "\n",
    "'* * *'\n",
    "\n",
    "'* *'\n",
    "\n",
    "'*'\n",
    "\n",
    "**Input:**\n",
    "\n",
    "**Processing:**\n",
    "\n",
    "**Output:**\n",
    "\n",
    "**Code:**"
   ]
  },
  {
   "cell_type": "code",
   "execution_count": 5,
   "id": "25194757",
   "metadata": {},
   "outputs": [
    {
     "name": "stdout",
     "output_type": "stream",
     "text": [
      "****\n",
      "***\n",
      "**\n",
      "*\n"
     ]
    }
   ],
   "source": [
    "for i in range(5,1,-1):\n",
    "    for j in range(i,1,-1):\n",
    "        print(\"*\",end=\"\")\n",
    "    print(\"\")\n",
    "    "
   ]
  },
  {
   "cell_type": "markdown",
   "id": "4c0e1b4d",
   "metadata": {},
   "source": [
    "### **TODO Task 1:**\n",
    "> **Task:**• Write a program which prints the following pattern on the output screen. \n",
    " \n",
    "'1'\n",
    "\n",
    "'1 2'\n",
    "\n",
    "'1 2 3'\n",
    "\n",
    "'1 2 3 4'\n",
    "\n",
    "'1 2 3 4 5'\n",
    "\n",
    "\n",
    "**Input:** Number\n",
    "\n",
    "**Processing:** 2 loops\n",
    "\n",
    "**Output:** Number triangle\n",
    "\n",
    "**Pseudocode:**\n",
    "- Getting number of lines from user.\n",
    "- First for loop for rows.\n",
    "- second for loop for number of elements per row.\n",
    "- end=\"\" value to not go to new line as default it is end=\"\\n\".\n",
    "\n",
    "**Code:**"
   ]
  },
  {
   "cell_type": "code",
   "execution_count": 10,
   "id": "c3e67fe9",
   "metadata": {},
   "outputs": [
    {
     "name": "stdout",
     "output_type": "stream",
     "text": [
      "1\n",
      "12\n",
      "123\n",
      "1234\n",
      "12345\n"
     ]
    }
   ],
   "source": [
    "# Developer Name: Muhammad Danyal Aslam\n",
    "\n",
    "\"\"\"\n",
    "Developer Email ID: 11951mda@gmail.com\n",
    "Python IDE: Jupyter Notebook\n",
    "IDE Version: 7.1\n",
    "Program Name: Number Triangle\n",
    "\"\"\"\n",
    "# Getting number of lines from user\n",
    "number = 1 + int(input(\"Enter number of lines to print triangle: \"))\n",
    "# First for loop for rows\n",
    "for i in range(1,number):\n",
    "    # second for loop for number of elements per row\n",
    "    for j in range(1,i+1):\n",
    "        # end=\"\" value to not go to new line as default it is end=\"\\n\"\n",
    "        print(j,end=\"\")\n",
    "    print(\"\")\n",
    "    "
   ]
  },
  {
   "cell_type": "markdown",
   "id": "7dc53f9c",
   "metadata": {},
   "source": [
    "### **TODO Task 2:**\n",
    "> **Task:** Write a program which prints the Equilateral Triangle pattern on the output screen. \n",
    "- Tips \n",
    "\n",
    "o Three Loops will be used.  \n",
    "\n",
    "o Ther third loop will control printing of spaces. \n",
    "\n",
    "**Input:** number of rows , i\n",
    "\n",
    "**Processing:** three loops\n",
    "\n",
    "**Output:** Equilateral Triangle\n",
    "\n",
    "**Pseudocode:**\n",
    "- Taking number from user for the lines of triangle.\n",
    "- Starting outter loop for rows/no of lines.\n",
    "- Inner first loop for spaces.\n",
    "- Inner Second loop for printing stars.\n",
    "\n",
    "**Code:**"
   ]
  },
  {
   "cell_type": "code",
   "execution_count": 12,
   "id": "dc385c30",
   "metadata": {},
   "outputs": [
    {
     "name": "stdout",
     "output_type": "stream",
     "text": [
      "           \n",
      "          *\n",
      "         **\n",
      "        ***\n",
      "       ****\n",
      "      *****\n",
      "     ******\n",
      "    *******\n",
      "   ********\n",
      "  *********\n",
      " **********\n"
     ]
    }
   ],
   "source": [
    "# Developer Name: Muhammad Danyal Aslam\n",
    "\n",
    "\"\"\"\n",
    "Developer Email ID: 11951mda@gmail.com\n",
    "Python IDE: Jupyter Notebook\n",
    "IDE Version: 7.1\n",
    "Program Name: Equilateral Triangle\n",
    "\"\"\"\n",
    "# Taking number from user for the lines of triangle.\n",
    "number = 1 + int(input(\"Enter number of lines of triangle: \"))\n",
    "# Starting outter loop for rows/no of lines\n",
    "for i in range(number):\n",
    "    # Inner first loop for spaces.\n",
    "    for j in range(i-number,0):\n",
    "        print(\" \",end=\"\")\n",
    "    # Inner Second loop for printing stars\n",
    "    for k in range(i):\n",
    "        print(\"*\",end=\"\")\n",
    "    print(\"\")"
   ]
  },
  {
   "cell_type": "markdown",
   "id": "00dfb94b",
   "metadata": {},
   "source": [
    "### **TODO Task 3:**\n",
    "> **Task:** • Write a program which prints the Diamond pattern on the output screen. \n",
    "\n",
    "**Input:** number, i, j, k\n",
    "\n",
    "**Processing:** three for loops\n",
    "\n",
    "**Output:** diamond shape\n",
    "\n",
    "**Pseudocode:**\n",
    "- First Number from user.\n",
    "- First three loops for upper triangle.\n",
    "- First loop for lines till number.\n",
    "- second loop for spaces with respect to number - i.\n",
    "- Third loop for printing stars 2 times.\n",
    "- Now three loops for lower triangle.\n",
    "- First loop will move opposit with respect to upper triangle first loop.\n",
    "- Second and third loop will remain same.\n",
    "\n",
    "**Code:**"
   ]
  },
  {
   "cell_type": "code",
   "execution_count": 40,
   "id": "591547d4",
   "metadata": {},
   "outputs": [
    {
     "name": "stdout",
     "output_type": "stream",
     "text": [
      "   \n",
      "  *\n",
      " ***\n",
      "*****\n",
      " ***\n",
      "  *\n"
     ]
    }
   ],
   "source": [
    "# Developer Name: Muhammad Danyal Aslam\n",
    "\n",
    "\"\"\"\n",
    "Developer Email ID: 11951mda@gmail.com\n",
    "Python IDE: Jupyter Notebook\n",
    "IDE Version: 7.1\n",
    "Program Name: Diamond Shape\n",
    "\"\"\"\n",
    "# Getting number of lines of diamonds\n",
    "number = int(input(\"Enter number of lines of diamond: \"))\n",
    "# First loop i for number of lines\n",
    "for i in range(number):\n",
    "    # Second loop for spaces\n",
    "    for j in range(i-number,0):\n",
    "        print(\" \",end=\"\")\n",
    "    # Third loop for printing 2 times star\n",
    "    for k in range((i*2)-1):\n",
    "        print(\"*\",end=\"\")\n",
    "    print(\"\")\n",
    "    #-------------- Lower Part of Diamond ------------------\n",
    "    # outter loop for printing stars in reverse direction\n",
    "for i in range(number,0,-1):\n",
    "    # Second loop for spaces\n",
    "    for j in range(i-number,0):\n",
    "        print(\" \",end=\"\")\n",
    "    # Third loop for printing 2 times star\n",
    "    for k in range((i*2)-1):\n",
    "        print(\"*\",end=\"\")\n",
    "    print(\"\")"
   ]
  },
  {
   "cell_type": "markdown",
   "id": "33514d88",
   "metadata": {},
   "source": [
    "### **Your Turn Task**\n",
    "> **Task:** Print a Hollow Square\n",
    "\n",
    "**Input:** Size\n",
    "\n",
    "**Processing:** Nested loop\n",
    "\n",
    "**Output:** Hollow square printed\n",
    "\n",
    "**Pseudocode:**\n",
    "- Declare a variable size and store size in it from user.\n",
    "- Start outter loop till size.\n",
    "- Start inner loop till size. \n",
    "- Use if condition that if row is first or last or coulumn is first or last print stars else print spaces.\n",
    "- At the end of Inner loop Print new line.\n",
    "\n",
    "**Code:**"
   ]
  },
  {
   "cell_type": "code",
   "execution_count": 8,
   "id": "26ca9eb3",
   "metadata": {},
   "outputs": [
    {
     "name": "stdout",
     "output_type": "stream",
     "text": [
      "* * * * \n",
      "*     * \n",
      "*     * \n",
      "* * * * \n"
     ]
    }
   ],
   "source": [
    "# Developer Name: Muhammad Danyal Aslam\n",
    "\n",
    "\"\"\"\n",
    "Developer Email ID: 11951mda@gmail.com\n",
    "Python IDE: Jupyter Notebook\n",
    "IDE Version: 7.1\n",
    "Program Name: Printing Hollow Square\n",
    "\"\"\"\n",
    "# Declare a variable size and store size in it from user.\n",
    "size = int(input(\"Enter the size of the square: \"))\n",
    "\n",
    "# Start outter loop till size.\n",
    "for row in range(size):\n",
    "    # Start inner loop till size. \n",
    "    for column in range(size):\n",
    "        # Use if condition that if row is first or last or coulumn is first or last print stars else print spaces.\n",
    "        if row == 0 or row == size - 1:  # First and last row\n",
    "            print(\"*\", end=\" \")\n",
    "        elif column == 0 or column == size - 1:  # First and last column in the middle rows\n",
    "            print(\"*\", end=\" \")\n",
    "        else:\n",
    "            print(\" \", end=\" \")\n",
    "    print()  # Move to the next line after each row\n"
   ]
  },
  {
   "cell_type": "markdown",
   "id": "5c61107c",
   "metadata": {},
   "source": [
    "#<h2  align=\"center\">**Lecture 12**</h2>\n",
    "**30 July 2024**\n",
    "\n",
    "**Tuesday**"
   ]
  },
  {
   "cell_type": "markdown",
   "id": "bded66e0",
   "metadata": {},
   "source": [
    "\n",
    "\n",
    "\n",
    "\n",
    "\n",
    "#<h2  align=\"center\">**Function part 1**</h2>\n",
    "**Definition** \n",
    "- A  function  in  Python  is  a  block  of  reusable  code  that  performs  a specific task \n",
    "- It promotes code modularity, organization, and reduces redundancy \n",
    "\n",
    "**Components of a Function**\n",
    "- \"def\" is the key word\n",
    "- Function Prototype \n",
    "- Function Definition  \n",
    "- Function Call\n",
    "\n",
    "**Function Prototype**\n",
    "- Return Type (associated with Output) \n",
    "- Function Name \n",
    "- List of Arguments / Parameters (associated with Input)\n"
   ]
  },
  {
   "cell_type": "markdown",
   "id": "c1153402",
   "metadata": {},
   "source": [
    "**Four Variations in Function Prototype**\n",
    "\n",
    "● Four Variations in Function Prototype \n",
    "\n",
    "- No Return Type, No Arguments / Parameters  \n",
    "- No Return Type, Arguments / Parameters  \n",
    "- Return Type, No Arguments / Parameters  \n",
    "- Return Type, Arguments / Parameters "
   ]
  },
  {
   "cell_type": "markdown",
   "id": "7324291f",
   "metadata": {},
   "source": [
    "**Example - No Return Type, No Arguments / Parameters**\n",
    "- void pakistan(): \n",
    "- void india(): \n",
    "- void saudi_arabia(): \n",
    "\n",
    "**Example – No Return Type, Arguments / Parameters**\n",
    "- void even(int number) : \n",
    "- void modulus(int number1 , int number2): \n",
    "\n",
    "**Example - Return Type, No Arguments / Parameters**\n",
    "- int even(): \n",
    "- float add(): \n",
    "\n",
    "**Example - Return Type, Arguments / Parameters**\n",
    "- int even(int number): \n",
    "- int odd(int number): \n",
    "- int modulus(int number1 , int number2):"
   ]
  },
  {
   "cell_type": "markdown",
   "id": "546d1892",
   "metadata": {},
   "source": [
    "### **Example 1:**\n",
    "\n",
    "**Code:**"
   ]
  },
  {
   "cell_type": "code",
   "execution_count": null,
   "id": "e2eb6596",
   "metadata": {},
   "outputs": [
    {
     "name": "stdout",
     "output_type": "stream",
     "text": [
      "I am in Main()\n",
      "I am in Saudia_Arabia()\n",
      "Back in Main()\n"
     ]
    }
   ],
   "source": [
    "''' \n",
    "Purpose of Program \n",
    "The main purpose of this Python Program is to demonstrate how Program Control \n",
    "moves  from  one  Function  to  another,  when  we  have  multiple  Functions  in  our \n",
    "Python Program. \n",
    " \n",
    "This program comprises of four Functions. \n",
    "1. main() \n",
    "2. pakistan() \n",
    "3. india() \n",
    "4. saudi_arabia() \n",
    "''' \n",
    " \n",
    "# void pakistan();    # Function Prototype  \n",
    "# void india();        # Function Prototype  \n",
    "# void saudi_arabia(); # Function Prototype  \n",
    " \n",
    "# Function Definition  \n",
    "def pakistan():  # pakistan() Function Header  \n",
    "    # Body of pakistan() Function  \n",
    "    print(\"I am in Pakistan()\") \n",
    "   \n",
    "# Function Definition  \n",
    "def india():    # india() Function Header  \n",
    "    # Body of india() Function  \n",
    "    print(\"I am in India()\") \n",
    "     \n",
    "# Function Definition  \n",
    "def saudia_arabia():  # saudia_arabia() Function Header  \n",
    "    # Body of saudia_arabia() Function  \n",
    "    print(\"I am in Saudia_Arabia()\") \n",
    " \n",
    "if __name__ == \"__main__\":   # main() Function  \n",
    "    print(\"I am in Main()\") \n",
    "    saudia_arabia()   # Function Call \n",
    "    print(\"Back in Main()\")"
   ]
  },
  {
   "cell_type": "markdown",
   "id": "5fad9d50",
   "metadata": {},
   "source": [
    "### **Example 2:**\n",
    "\n",
    "**Code:**"
   ]
  },
  {
   "cell_type": "code",
   "execution_count": null,
   "id": "ed60757b",
   "metadata": {},
   "outputs": [
    {
     "name": "stdout",
     "output_type": "stream",
     "text": [
      "I am in Main()\n",
      "I am in Saudia_Arabia()\n",
      "Back in Main()\n",
      "I am in Pakistan()\n",
      "Again back in Main()\n"
     ]
    }
   ],
   "source": [
    "''' \n",
    "Purpose of Program \n",
    "The main purpose of this Python Program is to demonstrate how Program Control moves \n",
    "from one Function to another, when we have multiple Functions in our Python Program. \n",
    " \n",
    "This program comprises of four Functions. \n",
    "1.  Main() \n",
    "2.  Pakistan() \n",
    "3.  India() \n",
    "4.  Saudi_Arabia() \n",
    "''' \n",
    " \n",
    "# void pakistan();     # Function Prototype  \n",
    "# void india();        # Function Prototype  \n",
    "# void saudi_arabia(); # Function Prototype  \n",
    " \n",
    "# Function Definition  \n",
    "def pakistan(): # pakistan() Function Header  \n",
    "    # Body of pakistan() Function  \n",
    "    print(\"I am in Pakistan()\") \n",
    "     \n",
    "# Function Definition  \n",
    "def india(): # india() Function Header  \n",
    "    # Body of india() Function  \n",
    "    print(\"I am in India()\") \n",
    "     \n",
    "# Function Definition  \n",
    "def saudia_arabia(): # saudia_arabia() Function Header  \n",
    "    # Body of saudia_arabia() Function  \n",
    "    print(\"I am in Saudia_Arabia()\") \n",
    " \n",
    "if __name__ == \"__main__\":  # main() Function  \n",
    "    print(\"I am in Main()\") \n",
    "    saudia_arabia() # Function Call \n",
    "    print(\"Back in Main()\") \n",
    "    pakistan()  # Function Call \n",
    "    print(\"Again back in Main()\")"
   ]
  },
  {
   "cell_type": "markdown",
   "id": "f8453a92",
   "metadata": {},
   "source": [
    "### **Example 3:**\n",
    "\n",
    "**Code:**"
   ]
  },
  {
   "cell_type": "code",
   "execution_count": null,
   "id": "2cee5b62",
   "metadata": {},
   "outputs": [
    {
     "name": "stdout",
     "output_type": "stream",
     "text": [
      "I am in Main()\n",
      "I am in Pakistan()\n",
      "I am in India()\n",
      "I am in Saudia_Arabia()\n",
      "Back in Main()\n"
     ]
    }
   ],
   "source": [
    "''' \n",
    "Purpose of Program \n",
    "The main purpose of this Python Program is to demonstrate how Program Control moves \n",
    "from one Function to another, when we have multiple Functions in our Python Program. \n",
    " \n",
    "This program comprises of four Functions. \n",
    "1.  Main() \n",
    "2.  Pakistan() \n",
    "3.  India() \n",
    "4.  Saudi_Arabia() \n",
    "''' \n",
    " \n",
    "# void pakistan();     # Function Prototype  \n",
    "# void india();        # Function Prototype  \n",
    "# void saudi_arabia(); # Function Prototype  \n",
    " \n",
    "# Function Definition  \n",
    "def pakistan(): # pakistan() Function Header  \n",
    "    # Body of pakistan() Function  \n",
    "    print(\"I am in Pakistan()\") \n",
    "    india()  # Function Call \n",
    "  \n",
    "# Function Definition  \n",
    "def india(): # india() Function Header  \n",
    "    # Body of india() Function  \n",
    "    print(\"I am in India()\") \n",
    "    saudia_arabia()  # Function Call \n",
    "# Function Definition  \n",
    "def saudia_arabia(): # saudia_arabia() Function Header  \n",
    "    # Body of saudia_arabia() Function  \n",
    "    print(\"I am in Saudia_Arabia()\") \n",
    " \n",
    "if __name__ == \"__main__\":  # main() Function  \n",
    "    print(\"I am in Main()\") \n",
    "    pakistan() # Function Call \n",
    "    print(\"Back in Main()\")"
   ]
  },
  {
   "cell_type": "markdown",
   "id": "4b4398b3",
   "metadata": {},
   "source": [
    "### **TODO Task 1:**\n",
    "\n",
    "**Input:** Three Functions\n",
    "\n",
    "**Processing:** print()\n",
    "\n",
    "**Output:** Print\n",
    "\n",
    "**Justification:**\n",
    "- First Main function is called.\n",
    "- It calls Pakistan.\n",
    "- Program control moves from calling to called function(Pakistan).\n",
    "- In Pakistan it Calls India.\n",
    "- Program control moves from calling to called function(India).\n",
    "- In India it Calls Saudia Arabia.\n",
    "- Program control moves from calling to called function(Saudia Arabia).\n",
    "- It prints statement and return to calling function(India).\n",
    "- In India It prints statement and return to calling function(Pakistan).\n",
    "- In Pakistan It prints statement and return to calling function(main).\n",
    "- It prints statement and program ends.\n",
    "\n",
    "**Code:**"
   ]
  },
  {
   "cell_type": "code",
   "execution_count": null,
   "id": "644e115b",
   "metadata": {},
   "outputs": [
    {
     "name": "stdout",
     "output_type": "stream",
     "text": [
      "I am in Main()\n",
      "I am in Saudia Arabia()\n",
      "I am in India()\n",
      "I am in Pakistan()\n",
      "Back in Main()\n"
     ]
    }
   ],
   "source": [
    "# Developer Name: Muhammad Danyal Aslam\n",
    "\n",
    "\"\"\"\n",
    "Developer Email ID: 11951mda@gmail.com\n",
    "Python IDE: Jupyter Notebook\n",
    "IDE Version: 7.1\n",
    "Program Name: \n",
    "\"\"\"\n",
    " \n",
    "# Program 1\n",
    "# include <stdio.h> \n",
    "# void pakistan();        Function Prototype  \n",
    "# void india();           Function Prototype  \n",
    "# void saudi_arabia();    Function Prototype  \n",
    " \n",
    "# Function Definition  \n",
    "def india(): # india() Function Header  \n",
    "    # Body of india() Function  \n",
    "    saudi_arabia() # Function Call \n",
    "    print(\"I am in India()\") \n",
    " \n",
    "# Function Definition  \n",
    "def saudi_arabia(): # saudi_arabia() Function Header \n",
    "    # Body of saudi_arabia() Function  \n",
    "    print(\"I am in Saudia Arabia()\")     \n",
    " \n",
    "# Function Definition  \n",
    "def pakistan(): # pakistan() Function Header  \n",
    "    # Body of pakistan() Function  \n",
    "    india()  # Function Call \n",
    "    print(\"I am in Pakistan()\") \n",
    " \n",
    "# Function Definition  \n",
    "if __name__ == \"__main__\": # main() Function Header \n",
    "    # Body of main() Function  \n",
    "    print(\"I am in Main()\") \n",
    "    pakistan(); # Function Call  \n",
    "    print(\"Back in Main()\") \n",
    " "
   ]
  },
  {
   "cell_type": "markdown",
   "id": "02829a69",
   "metadata": {},
   "source": [
    "### **TODO Task 2:**\n",
    "\n",
    "**Input:** Three Functions\n",
    "\n",
    "**Processing:** print()\n",
    "\n",
    "**Output:** Print\n",
    "\n",
    "**Justification:**\n",
    "- The program starts with the main function.\n",
    "- main calls the pakistan function.\n",
    "- Control moves to pakistan, which prints \"I am in Pakistan()\".\n",
    "- pakistan calls the india function.\n",
    "- Control moves to india, which calls the saudi_arabia function.\n",
    "- Control moves to saudi_arabia, which prints \"I am in Saudia Arabia()\" and returns to india.\n",
    "- india prints \"I am in India()\" and returns to pakistan.\n",
    "- pakistan calls the saudi_arabia function again.\n",
    "- Control moves to saudi_arabia again, which prints \"I am in Saudia Arabia()\" and returns to pakistan.\n",
    "- pakistan returns to main.\n",
    "- main prints \"Back in Main()\" and the program ends.\n"
   ]
  },
  {
   "cell_type": "code",
   "execution_count": null,
   "id": "964c72a6",
   "metadata": {},
   "outputs": [
    {
     "name": "stdout",
     "output_type": "stream",
     "text": [
      "I am in Main()\n",
      "I am in Pakistan()\n",
      "I am in Saudia Arabia()\n",
      "I am in India()\n",
      "I am in Saudia Arabia()\n",
      "Back in Main()\n"
     ]
    }
   ],
   "source": [
    "# Developer Name: Muhammad Danyal Aslam\n",
    "\n",
    "\"\"\"\n",
    "Developer Email ID: 11951mda@gmail.com\n",
    "Python IDE: Jupyter Notebook\n",
    "IDE Version: 7.1\n",
    "Program Name: \n",
    "\"\"\"\n",
    "# Program 2\n",
    "# Function Definition  \n",
    "# include <stdio.h> \n",
    "# void pakistan();        Function Prototype  \n",
    "# void india();           Function Prototype  \n",
    "# void saudi_arabia();    Function Prototype  \n",
    " \n",
    "# Function Definition  \n",
    "def india(): # india() Function Header  \n",
    "    # Body of india() Function  \n",
    "    saudi_arabia() # Function Call \n",
    "    print(\"I am in India()\") \n",
    " \n",
    "# Function Definition  \n",
    "def saudi_arabia(): # saudi_arabia() Function Header \n",
    "    # Body of saudi_arabia() Function  \n",
    "    print(\"I am in Saudia Arabia()\")     \n",
    " \n",
    "# Function Definition  \n",
    "def pakistan(): # pakistan() Function Header  \n",
    "    # Body of pakistan() Function  \n",
    "    print(\"I am in Pakistan()\") \n",
    "    india() # Function Call \n",
    "    saudi_arabia() # Function Call \n",
    " \n",
    "# Function Definition  \n",
    "if __name__ == \"__main__\": # main() Function Header \n",
    "    # Body of main() Function   \n",
    "    print(\"I am in Main()\") \n",
    "    pakistan(); # Function Call  \n",
    "    print(\"Back in Main()\") \n",
    " "
   ]
  },
  {
   "cell_type": "markdown",
   "id": "c299caf6",
   "metadata": {},
   "source": [
    "### **TODO Task 3:**\n",
    "\n",
    "**Input:** Three Functions\n",
    "\n",
    "**Processing:** print()\n",
    "\n",
    "**Output:** Print\n",
    "\n",
    "**Justification:**\n",
    "- The program starts with the main function.\n",
    "- main calls the madina function.\n",
    "- Control moves to madina, which prints \"I am in Madina()\".\n",
    "- madina calls the pakistan function.\n",
    "- Control moves to pakistan, which prints \"I am in Pakistan()\".\n",
    "- pakistan returns to madina.\n",
    "- madina calls the india function.\n",
    "- Control moves to india, which prints \"I am in India()\".\n",
    "- india calls the saudi_arabia function.\n",
    "- Control moves to saudi_arabia, which prints \"I am in Saudia Arabia()\" and returns to india.\n",
    "- india returns to madina.\n",
    "- madina returns to main.\n",
    "- main prints \"Back in Main()\" and the program ends."
   ]
  },
  {
   "cell_type": "code",
   "execution_count": null,
   "id": "840b2b00",
   "metadata": {},
   "outputs": [
    {
     "name": "stdout",
     "output_type": "stream",
     "text": [
      "I am in Main()\n",
      "I am in Madina()\n",
      "I am in Pakistan()\n",
      "I am in India()\n",
      "I am in Saudia Arabia()\n",
      "Back in Main()\n"
     ]
    }
   ],
   "source": [
    "# Developer Name: Muhammad Danyal Aslam\n",
    "\n",
    "\"\"\"\n",
    "Developer Email ID: 11951mda@gmail.com\n",
    "Python IDE: Jupyter Notebook\n",
    "IDE Version: 7.1\n",
    "Program Name: \n",
    "\"\"\"\n",
    "# Program 3\n",
    "# Function Definition  \n",
    "# include <stdio.h> \n",
    "# void pakistan();        Function Prototype  \n",
    "# void india();           Function Prototype  \n",
    "# void saudi_arabia();    Function Prototype  \n",
    " \n",
    "# Function Definition  \n",
    "def india(): # india() Function Header  \n",
    "    # Body of india() Function  \n",
    "    print(\"I am in India()\") \n",
    "    saudi_arabia() # Function Call \n",
    " \n",
    "# Function Definition  \n",
    "def saudi_arabia(): # saudi_arabia() Function Header \n",
    "    # Body of saudi_arabia() Function  \n",
    "    print(\"I am in Saudia Arabia()\")     \n",
    " \n",
    "# Function Definition  \n",
    "def pakistan(): # pakistan() Function Header  \n",
    "    # Body of pakistan() Function  \n",
    "    print(\"I am in Pakistan()\") \n",
    " \n",
    "# Function Definition  \n",
    "def madina(): # pakistan() Function Header  \n",
    "    # Body of pakistan() Function  \n",
    "    print(\"I am in Madina()\") \n",
    "    pakistan() \n",
    "    india() \n",
    "     \n",
    " # Function Definition  \n",
    "if __name__ == \"__main__\": # main() Function Header \n",
    "    # Body of main() Function  \n",
    "    print(\"I am in Main()\") \n",
    "    madina(); # Function Call  \n",
    "    print(\"Back in Main()\")"
   ]
  },
  {
   "cell_type": "markdown",
   "id": "5dfdad44",
   "metadata": {},
   "source": [
    "### **Your Turn Task**\n",
    "> **Task:** Write  at  least  6  different  Tasks  which  are  very  similar  to  the  ones given in the TODO Tasks "
   ]
  },
  {
   "cell_type": "markdown",
   "id": "6d0d62b4",
   "metadata": {},
   "source": [
    "### **Task 1**\n",
    "\n",
    "**Input:** Three Functions\n",
    "\n",
    "**Processing:** print()\n",
    "\n",
    "**Output:** Print\n",
    "\n",
    "**Justification:**\n",
    "- The program starts with the main function.\n",
    "- main calls the thailand function.\n",
    "- thailand calls the japan function.\n",
    "- japan prints \"I am in Japan()\" and calls the china function.\n",
    "- china prints \"I am in China()\" and calls the korea function.\n",
    "- korea prints \"I am in Korea()\" and returns to china.\n",
    "- china returns to japan.\n",
    "- japan prints \"Back in Japan()\" and returns to thailand.\n",
    "- thailand returns to main.\n",
    "- main prints \"Back in Main()\".\n",
    "\n",
    "**Code:**"
   ]
  },
  {
   "cell_type": "code",
   "execution_count": null,
   "id": "a0297785",
   "metadata": {},
   "outputs": [],
   "source": [
    "# Developer Name: Muhammad Danyal Aslam\n",
    "\n",
    "\"\"\"\n",
    "Developer Email ID: 11951mda@gmail.com\n",
    "Python IDE: Jupyter Notebook\n",
    "IDE Version: 7.1\n",
    "Program Name: \n",
    "\"\"\"\n",
    "# Define a function for Japan\n",
    "def japan():\n",
    "    print(\"I am in Japan()\")  # Print a message\n",
    "    china()  # Call the china function\n",
    "    print(\"Back in Japan()\")  # Print a message after returning from china\n",
    "\n",
    "# Define a function for China\n",
    "def china():\n",
    "    print(\"I am in China()\")  # Print a message\n",
    "    korea()  # Call the korea function\n",
    "\n",
    "# Define a function for Korea\n",
    "def korea():\n",
    "    print(\"I am in Korea()\")  # Print a message\n",
    "\n",
    "# Define a function for Thailand\n",
    "def thailand():\n",
    "    print(\"I am in Thailand()\")  # Print a message\n",
    "    japan()  # Call the japan function\n",
    "\n",
    "if __name__ == \"__main__\":\n",
    "    print(\"I am in Main()\")  # Print a message\n",
    "    thailand()  # Call the thailand function\n",
    "    print(\"Back in Main()\")  # Print a message after returning from thailand\n"
   ]
  },
  {
   "cell_type": "markdown",
   "id": "883d60f1",
   "metadata": {},
   "source": [
    "### **Task 2**\n",
    "\n",
    "**Input:** Three Functions\n",
    "\n",
    "**Processing:** print()\n",
    "\n",
    "**Output:** Print\n",
    "\n",
    "**Justification:**\n",
    "- The program starts with the main function.\n",
    "- main calls the england function.\n",
    "- england calls the france function.\n",
    "- france prints \"I am in France()\" and calls the germany function.\n",
    "- germany prints \"I am in Germany()\" and returns to france.\n",
    "- france returns to england.\n",
    "- england calls the scotland function.\n",
    "- scotland prints \"I am in Scotland()\" and calls the england function.\n",
    "- england returns to scotland.\n",
    "- scotland returns to england.\n",
    "- england returns to main.\n",
    "- main prints \"Back in Main()\".\n",
    "\n",
    "\n",
    "**Code:**"
   ]
  },
  {
   "cell_type": "code",
   "execution_count": null,
   "id": "b9c18598",
   "metadata": {},
   "outputs": [],
   "source": [
    "# Developer Name: Muhammad Danyal Aslam\n",
    "\n",
    "\"\"\"\n",
    "Developer Email ID: 11951mda@gmail.com\n",
    "Python IDE: Jupyter Notebook\n",
    "IDE Version: 7.1\n",
    "Program Name: \n",
    "\"\"\"\n",
    "# Define a function for England\n",
    "def england():\n",
    "    print(\"I am in England()\")  # Print a message\n",
    "    france()  # Call the france function\n",
    "    scotland()  # Call the scotland function\n",
    "\n",
    "# Define a function for France\n",
    "def france():\n",
    "    print(\"I am in France()\")  # Print a message\n",
    "    germany()  # Call the germany function\n",
    "\n",
    "# Define a function for Germany\n",
    "def germany():\n",
    "    print(\"I am in Germany()\")  # Print a message\n",
    "\n",
    "# Define a function for Scotland\n",
    "def scotland():\n",
    "    print(\"I am in Scotland()\")  # Print a message\n",
    "    england()  # Call the england function\n",
    "\n",
    "if __name__ == \"__main__\":\n",
    "    print(\"I am in Main()\")  # Print a message\n",
    "    england()  # Call the england function\n",
    "    print(\"Back in Main()\")  # Print a message after returning from england\n"
   ]
  },
  {
   "cell_type": "markdown",
   "id": "81df0d27",
   "metadata": {},
   "source": [
    "### **Task 3**\n",
    "\n",
    "**Input:** Three Functions\n",
    "\n",
    "**Processing:** print()\n",
    "\n",
    "**Output:** Print\n",
    "\n",
    "**Justification:**\n",
    "- The program starts with the main function.\n",
    "- main calls the brazil function.\n",
    "- brazil prints \"I am in Brazil()\" and calls the argentina function.\n",
    "- argentina prints \"I am in Argentina()\" and calls the chile function.\n",
    "- chile prints \"I am in Chile()\" and returns to argentina.\n",
    "- argentina returns to brazil.\n",
    "- brazil calls the chile function.\n",
    "- chile returns to brazil.\n",
    "- brazil calls the peru function.\n",
    "- peru prints \"I am in Peru()\" and calls the brazil function.\n",
    "- brazil returns to peru.\n",
    "- peru returns to brazil.\n",
    "- brazil returns to main.\n",
    "- main prints \"Back in Main()\".\n",
    "\n",
    "\n",
    "\n",
    "\n",
    "**Code:**"
   ]
  },
  {
   "cell_type": "code",
   "execution_count": null,
   "id": "db2232af",
   "metadata": {},
   "outputs": [],
   "source": [
    "# Developer Name: Muhammad Danyal Aslam\n",
    "\n",
    "\"\"\"\n",
    "Developer Email ID: 11951mda@gmail.com\n",
    "Python IDE: Jupyter Notebook\n",
    "IDE Version: 7.1\n",
    "Program Name: \n",
    "\"\"\"\n",
    "# Define a function for Brazil\n",
    "def brazil():\n",
    "    print(\"I am in Brazil()\")  # Print a message\n",
    "    argentina()  # Call the argentina function\n",
    "    chile()  # Call the chile function\n",
    "    peru()  # Call the peru function\n",
    "\n",
    "# Define a function for Argentina\n",
    "def argentina():\n",
    "    print(\"I am in Argentina()\")  # Print a message\n",
    "    chile()  # Call the chile function\n",
    "\n",
    "# Define a function for Chile\n",
    "def chile():\n",
    "    print(\"I am in Chile()\")  # Print a message\n",
    "\n",
    "# Define a function for Peru\n",
    "def peru():\n",
    "    print(\"I am in Peru()\")  # Print a message\n",
    "    brazil()  # Call the brazil function\n",
    "\n",
    "if __name__ == \"__main__\":\n",
    "    print(\"I am in Main()\")  # Print a message\n",
    "    brazil()  # Call the brazil function\n",
    "    print(\"Back in Main()\")  # Print a message after returning from brazil\n"
   ]
  },
  {
   "cell_type": "markdown",
   "id": "500e82e7",
   "metadata": {},
   "source": [
    "### **Task 4**\n",
    "\n",
    "**Input:** Three Functions\n",
    "\n",
    "**Processing:** print()\n",
    "\n",
    "**Output:** Print\n",
    "\n",
    "**Justification:**\n",
    "- The program starts with the main function.\n",
    "- main calls the australia function.\n",
    "- australia prints \"I am in Australia()\" and calls the new_zealand function.\n",
    "- new_zealand prints \"I am in New Zealand()\" and calls the fiji function.\n",
    "- fiji prints \"I am in Fiji()\" and returns to new_zealand.\n",
    "- new_zealand returns to australia.\n",
    "- australia calls the fiji function.\n",
    "- fiji returns to australia.\n",
    "- australia calls the tonga function.\n",
    "- tonga prints \"I am in Tonga()\" and calls the australia function.\n",
    "- australia returns to tonga.\n",
    "- tonga returns to australia.\n",
    "- australia returns to main.\n",
    "- main prints \"Back in Main()\".\n",
    "\n",
    "**Code:**"
   ]
  },
  {
   "cell_type": "code",
   "execution_count": null,
   "id": "7671d618",
   "metadata": {},
   "outputs": [],
   "source": [
    "# Developer Name: Muhammad Danyal Aslam\n",
    "\n",
    "\"\"\"\n",
    "Developer Email ID: 11951mda@gmail.com\n",
    "Python IDE: Jupyter Notebook\n",
    "IDE Version: 7.1\n",
    "Program Name: \n",
    "\"\"\"\n",
    "# Define a function for Australia\n",
    "def australia():\n",
    "    print(\"I am in Australia()\")  # Print a message\n",
    "    new_zealand()  # Call the new_zealand function\n",
    "    fiji()  # Call the fiji function\n",
    "    tonga()  # Call the tonga function\n",
    "\n",
    "# Define a function for New Zealand\n",
    "def new_zealand():\n",
    "    print(\"I am in New Zealand()\")  # Print a message\n",
    "    fiji()  # Call the fiji function\n",
    "\n",
    "# Define a function for Fiji\n",
    "def fiji():\n",
    "    print(\"I am in Fiji()\")  # Print a message\n",
    "\n",
    "# Define a function for Tonga\n",
    "def tonga():\n",
    "    print(\"I am in Tonga()\")  # Print a message\n",
    "    australia()  # Call the australia function\n",
    "\n",
    "if __name__ == \"__main__\":\n",
    "    print(\"I am in Main()\")  # Print a message\n",
    "    australia()  # Call the australia function\n",
    "    print(\"Back in Main()\")  # Print a message after returning from australia\n"
   ]
  },
  {
   "cell_type": "markdown",
   "id": "bb7e8d0a",
   "metadata": {},
   "source": [
    "### **Task 5**\n",
    "\n",
    "**Input:** Three Functions\n",
    "\n",
    "**Processing:** print()\n",
    "\n",
    "**Output:** Print\n",
    "\n",
    "**Justification:**\n",
    "- The program starts with the main function.\n",
    "- main calls the south_africa function.\n",
    "- south_africa prints \"I am in South Africa()\" and calls the morocco function.\n",
    "- morocco prints \"I am in Morocco()\" and calls the egypt function.\n",
    "- egypt prints \"I am in Egypt()\" and returns to morocco.\n",
    "- morocco returns to south_africa.\n",
    "- south_africa calls the egypt function.\n",
    "- egypt returns to south_africa.\n",
    "- south_africa calls the nigeria function.\n",
    "- nigeria prints \"I am in Nigeria()\" and calls the south_africa function.\n",
    "- south_africa returns to nigeria.\n",
    "- nigeria returns to south_africa.\n",
    "- south_africa returns to main.\n",
    "- main prints \"Back\n",
    "\n",
    "**Code:**"
   ]
  },
  {
   "cell_type": "code",
   "execution_count": null,
   "id": "1e703de7",
   "metadata": {},
   "outputs": [],
   "source": [
    "# Developer Name: Muhammad Danyal Aslam\n",
    "\n",
    "\"\"\"\n",
    "Developer Email ID: 11951mda@gmail.com\n",
    "Python IDE: Jupyter Notebook\n",
    "IDE Version: 7.1\n",
    "Program Name: \n",
    "\"\"\"\n",
    "# Define a function for South Africa\n",
    "def south_africa():\n",
    "    print(\"I am in South Africa()\")  # Print a message\n",
    "    morocco()  # Call the morocco function\n",
    "    egypt()  # Call the egypt function\n",
    "    nigeria()  # Call the nigeria function\n",
    "\n",
    "# Define a function for Morocco\n",
    "def morocco():\n",
    "    print(\"I am in Morocco()\")  # Print a message\n",
    "    egypt()  # Call the egypt function\n",
    "\n",
    "# Define a function for Egypt\n",
    "def egypt():\n",
    "    print(\"I am in Egypt()\")  # Print a message\n",
    "\n",
    "# Define a function for Nigeria\n",
    "def nigeria():\n",
    "    print(\"I am in Nigeria()\")  # Print a message\n",
    "    south_africa()  # Call the south_africa function\n",
    "\n",
    "if __name__ == \"__main__\":\n",
    "    print(\"I am in Main()\")  # Print a message\n",
    "    south_africa()  # Call the south_africa function\n",
    "    print(\"Back in Main()\")  # Print a message after returning from south_africa\n"
   ]
  },
  {
   "cell_type": "markdown",
   "id": "aa091b86",
   "metadata": {},
   "source": [
    "### **Task 6**\n",
    "\n",
    "**Input:** Three Functions\n",
    "\n",
    "**Processing:** print()\n",
    "\n",
    "**Output:** Print\n",
    "\n",
    "**Justification:**\n",
    "- The program starts with the main function.\n",
    "- main calls the russia function.\n",
    "- russia prints \"I am in Russia()\" and calls the ukraine function.\n",
    "- ukraine prints \"I am in Ukraine()\" and calls the poland function.\n",
    "- poland prints \"I am in Poland()\" and returns to ukraine.\n",
    "- ukraine returns to russia.\n",
    "- russia calls the poland function.\n",
    "- poland returns to russia.\n",
    "- russia calls the belarus function.\n",
    "- belarus prints \"I am in Belarus()\" and calls the russia function.\n",
    "- russia returns to belarus.\n",
    "- belarus returns to russia.\n",
    "- russia returns to main.\n",
    "- main prints \"Back in Main()\".\n",
    "\n",
    "**Code:**"
   ]
  },
  {
   "cell_type": "code",
   "execution_count": null,
   "id": "1fef8dba",
   "metadata": {},
   "outputs": [],
   "source": [
    "# Developer Name: Muhammad Danyal Aslam\n",
    "\n",
    "\"\"\"\n",
    "Developer Email ID: 11951mda@gmail.com\n",
    "Python IDE: Jupyter Notebook\n",
    "IDE Version: 7.1\n",
    "Program Name: \n",
    "\"\"\"\n",
    "# Define a function for Russia\n",
    "def russia():\n",
    "    print(\"I am in Russia()\")  # Print a message\n",
    "    ukraine()  # Call the ukraine function\n",
    "    poland()  # Call the poland function\n",
    "    belarus()  # Call the belarus function\n",
    "\n",
    "# Define a function for Ukraine\n",
    "def ukraine():\n",
    "    print(\"I am in Ukraine()\")  # Print a message\n",
    "    poland()  # Call the poland function\n",
    "\n",
    "# Define a function for Poland\n",
    "def poland():\n",
    "    print(\"I am in Poland()\")  # Print a message\n",
    "\n",
    "# Define a function for Belarus\n",
    "def belarus():\n",
    "    print(\"I am in Belarus()\")  # Print a message\n",
    "    russia()  # Call the russia function\n",
    "\n",
    "if __name__ == \"__main__\":\n",
    "    print(\"I am in Main()\")  # Print a message\n",
    "    russia()  # Call the russia function\n",
    "    print(\"Back in Main()\")  # Print a message after returning from russia"
   ]
  }
 ],
 "metadata": {
  "colab": {
   "provenance": []
  },
  "kernelspec": {
   "display_name": "Python 3 (ipykernel)",
   "language": "python",
   "name": "python3"
  },
  "language_info": {
   "codemirror_mode": {
    "name": "ipython",
    "version": 3
   },
   "file_extension": ".py",
   "mimetype": "text/x-python",
   "name": "python",
   "nbconvert_exporter": "python",
   "pygments_lexer": "ipython3",
   "version": "3.12.4"
  }
 },
 "nbformat": 4,
 "nbformat_minor": 5
}
